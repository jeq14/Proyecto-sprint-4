{
 "cells": [
  {
   "cell_type": "markdown",
   "metadata": {
    "id": "3rYiDeEH0q0f"
   },
   "source": [
    "# ¿Cuál es la mejor tarifa?\n",
    "\n",
    "Trabajas como analista para el operador de telecomunicaciones Megaline. La empresa ofrece a sus clientes dos tarifas de prepago, Surf y Ultimate. El departamento comercial quiere saber cuál de las tarifas genera más ingresos para poder ajustar el presupuesto de publicidad.\n",
    "\n",
    "Vas a realizar un análisis preliminar de las tarifas basado en una selección de clientes relativamente pequeña. Tendrás los datos de 500 clientes de Megaline: quiénes son los clientes, de dónde son, qué tarifa usan, así como la cantidad de llamadas que hicieron y los mensajes de texto que enviaron en 2018. Tu trabajo es analizar el comportamiento de los clientes y determinar qué tarifa de prepago genera más ingresos."
   ]
  },
  {
   "cell_type": "markdown",
   "metadata": {
    "id": "VNddPNRQ0q0w"
   },
   "source": [
    "[Te proporcionamos algunos comentarios para orientarte mientras completas este proyecto. Pero debes asegurarte de eliminar todos los comentarios entre corchetes antes de entregar tu proyecto.]\n",
    "\n",
    "[Antes de sumergirte en el análisis de datos, explica por tu propia cuenta el propósito del proyecto y las acciones que planeas realizar.]\n",
    "\n",
    "[Ten en cuenta que estudiar, modificar y analizar datos es un proceso iterativo. Es normal volver a los pasos anteriores y corregirlos/ampliarlos para permitir nuevos pasos.]"
   ]
  },
  {
   "cell_type": "markdown",
   "metadata": {
    "id": "MQi4IPy70q0y"
   },
   "source": [
    "## Inicialización"
   ]
  },
  {
   "cell_type": "code",
   "execution_count": 1,
   "metadata": {
    "id": "MtYIuBxu0q0z"
   },
   "outputs": [],
   "source": [
    "# Cargar todas las librerías\n",
    "import pandas as pd\n",
    "import matplotlib.pyplot as plt\n",
    "import seaborn as sns\n",
    "import numpy as np\n",
    "from scipy.stats import ttest_ind, levene\n"
   ]
  },
  {
   "cell_type": "markdown",
   "metadata": {
    "id": "4ysWWC5i0q00"
   },
   "source": [
    "## Cargar datos"
   ]
  },
  {
   "cell_type": "code",
   "execution_count": 2,
   "metadata": {
    "id": "CCqPW7rS0q01"
   },
   "outputs": [],
   "source": [
    "# Carga los archivos de datos en diferentes DataFrames\n",
    "megaline_calls= pd.read_csv('/datasets/megaline_calls.csv')\n",
    "megaline_internet= pd.read_csv('/datasets/megaline_internet.csv')\n",
    "megaline_messages= pd.read_csv('/datasets/megaline_messages.csv')\n",
    "megaline_plans= pd.read_csv('/datasets/megaline_plans.csv')\n",
    "megaline_users= pd.read_csv('/datasets/megaline_users.csv')\n"
   ]
  },
  {
   "cell_type": "markdown",
   "metadata": {
    "id": "69qqoJ3r0q01"
   },
   "source": [
    "## Preparar los datos"
   ]
  },
  {
   "cell_type": "markdown",
   "metadata": {
    "id": "ohBhimvH0q01"
   },
   "source": [
    "## Tarifas"
   ]
  },
  {
   "cell_type": "code",
   "execution_count": 3,
   "metadata": {
    "id": "GptqP3Q40q02"
   },
   "outputs": [
    {
     "name": "stdout",
     "output_type": "stream",
     "text": [
      "<class 'pandas.core.frame.DataFrame'>\n",
      "RangeIndex: 2 entries, 0 to 1\n",
      "Data columns (total 8 columns):\n",
      " #   Column                 Non-Null Count  Dtype  \n",
      "---  ------                 --------------  -----  \n",
      " 0   messages_included      2 non-null      int64  \n",
      " 1   mb_per_month_included  2 non-null      int64  \n",
      " 2   minutes_included       2 non-null      int64  \n",
      " 3   usd_monthly_pay        2 non-null      int64  \n",
      " 4   usd_per_gb             2 non-null      int64  \n",
      " 5   usd_per_message        2 non-null      float64\n",
      " 6   usd_per_minute         2 non-null      float64\n",
      " 7   plan_name              2 non-null      object \n",
      "dtypes: float64(2), int64(5), object(1)\n",
      "memory usage: 256.0+ bytes\n"
     ]
    }
   ],
   "source": [
    "# Imprime la información general/resumida sobre el DataFrame de las tarifas\n",
    "megaline_plans.info()\n"
   ]
  },
  {
   "cell_type": "code",
   "execution_count": 4,
   "metadata": {
    "id": "64xzjwL70q02"
   },
   "outputs": [
    {
     "data": {
      "text/html": [
       "<div>\n",
       "<style scoped>\n",
       "    .dataframe tbody tr th:only-of-type {\n",
       "        vertical-align: middle;\n",
       "    }\n",
       "\n",
       "    .dataframe tbody tr th {\n",
       "        vertical-align: top;\n",
       "    }\n",
       "\n",
       "    .dataframe thead th {\n",
       "        text-align: right;\n",
       "    }\n",
       "</style>\n",
       "<table border=\"1\" class=\"dataframe\">\n",
       "  <thead>\n",
       "    <tr style=\"text-align: right;\">\n",
       "      <th></th>\n",
       "      <th>messages_included</th>\n",
       "      <th>mb_per_month_included</th>\n",
       "      <th>minutes_included</th>\n",
       "      <th>usd_monthly_pay</th>\n",
       "      <th>usd_per_gb</th>\n",
       "      <th>usd_per_message</th>\n",
       "      <th>usd_per_minute</th>\n",
       "      <th>plan_name</th>\n",
       "    </tr>\n",
       "  </thead>\n",
       "  <tbody>\n",
       "    <tr>\n",
       "      <th>0</th>\n",
       "      <td>50</td>\n",
       "      <td>15360</td>\n",
       "      <td>500</td>\n",
       "      <td>20</td>\n",
       "      <td>10</td>\n",
       "      <td>0.03</td>\n",
       "      <td>0.03</td>\n",
       "      <td>surf</td>\n",
       "    </tr>\n",
       "    <tr>\n",
       "      <th>1</th>\n",
       "      <td>1000</td>\n",
       "      <td>30720</td>\n",
       "      <td>3000</td>\n",
       "      <td>70</td>\n",
       "      <td>7</td>\n",
       "      <td>0.01</td>\n",
       "      <td>0.01</td>\n",
       "      <td>ultimate</td>\n",
       "    </tr>\n",
       "  </tbody>\n",
       "</table>\n",
       "</div>"
      ],
      "text/plain": [
       "   messages_included  mb_per_month_included  minutes_included  \\\n",
       "0                 50                  15360               500   \n",
       "1               1000                  30720              3000   \n",
       "\n",
       "   usd_monthly_pay  usd_per_gb  usd_per_message  usd_per_minute plan_name  \n",
       "0               20          10             0.03            0.03      surf  \n",
       "1               70           7             0.01            0.01  ultimate  "
      ]
     },
     "metadata": {},
     "output_type": "display_data"
    }
   ],
   "source": [
    "# Imprime una muestra de los datos para las tarifas\n",
    "display(megaline_plans.head())\n"
   ]
  },
  {
   "cell_type": "markdown",
   "metadata": {
    "id": "mEc_3_hs0q02"
   },
   "source": [
    "La tabla megaline_plans contiene 8 columnas, los nombres de dichas columnas siguen las buenas practicas. Se puede ver que tenemos 2 datos y no hay valores ausentes. \n",
    "\n",
    "\n"
   ]
  },
  {
   "cell_type": "markdown",
   "metadata": {
    "id": "R3C05i1l0q03"
   },
   "source": [
    "## Corregir datos"
   ]
  },
  {
   "cell_type": "markdown",
   "metadata": {
    "id": "bIi8StZI0q03"
   },
   "source": [
    "- no se encotraron problemas en dataset. Solo el nombre de la columna plan_name se cambiara mas adelante a 'plan' para poder unirse con otro Dataframe"
   ]
  },
  {
   "cell_type": "markdown",
   "metadata": {
    "id": "LJir7bml0q03"
   },
   "source": [
    "## Enriquecer los datos"
   ]
  },
  {
   "cell_type": "markdown",
   "metadata": {
    "id": "eqADpCfg0q04"
   },
   "source": [
    "- Se cambiara el nombre de la columna con el metodo rename"
   ]
  },
  {
   "cell_type": "code",
   "execution_count": 5,
   "metadata": {
    "id": "gfcIEuXV0q04"
   },
   "outputs": [
    {
     "name": "stdout",
     "output_type": "stream",
     "text": [
      "<class 'pandas.core.frame.DataFrame'>\n",
      "RangeIndex: 2 entries, 0 to 1\n",
      "Data columns (total 8 columns):\n",
      " #   Column                 Non-Null Count  Dtype  \n",
      "---  ------                 --------------  -----  \n",
      " 0   messages_included      2 non-null      int64  \n",
      " 1   mb_per_month_included  2 non-null      int64  \n",
      " 2   minutes_included       2 non-null      int64  \n",
      " 3   usd_monthly_pay        2 non-null      int64  \n",
      " 4   usd_per_gb             2 non-null      int64  \n",
      " 5   usd_per_message        2 non-null      float64\n",
      " 6   usd_per_minute         2 non-null      float64\n",
      " 7   plan                   2 non-null      object \n",
      "dtypes: float64(2), int64(5), object(1)\n",
      "memory usage: 256.0+ bytes\n"
     ]
    }
   ],
   "source": [
    "megaline_plans.rename(columns = {\n",
    "    'plan_name' : 'plan'\n",
    "}, inplace = True)\n",
    "\n",
    "megaline_plans.info()"
   ]
  },
  {
   "cell_type": "markdown",
   "metadata": {
    "id": "1n2X6WXf0q04"
   },
   "source": [
    "## Usuarios/as"
   ]
  },
  {
   "cell_type": "code",
   "execution_count": 6,
   "metadata": {
    "id": "2NgjWFqx0q05"
   },
   "outputs": [
    {
     "name": "stdout",
     "output_type": "stream",
     "text": [
      "<class 'pandas.core.frame.DataFrame'>\n",
      "RangeIndex: 500 entries, 0 to 499\n",
      "Data columns (total 8 columns):\n",
      " #   Column      Non-Null Count  Dtype \n",
      "---  ------      --------------  ----- \n",
      " 0   user_id     500 non-null    int64 \n",
      " 1   first_name  500 non-null    object\n",
      " 2   last_name   500 non-null    object\n",
      " 3   age         500 non-null    int64 \n",
      " 4   city        500 non-null    object\n",
      " 5   reg_date    500 non-null    object\n",
      " 6   plan        500 non-null    object\n",
      " 7   churn_date  34 non-null     object\n",
      "dtypes: int64(2), object(6)\n",
      "memory usage: 31.4+ KB\n"
     ]
    }
   ],
   "source": [
    "# Imprime la información general/resumida sobre el DataFrame de usuarios\n",
    "megaline_users.info()\n"
   ]
  },
  {
   "cell_type": "code",
   "execution_count": 7,
   "metadata": {
    "id": "1IN1L9uh0q05"
   },
   "outputs": [
    {
     "data": {
      "text/html": [
       "<div>\n",
       "<style scoped>\n",
       "    .dataframe tbody tr th:only-of-type {\n",
       "        vertical-align: middle;\n",
       "    }\n",
       "\n",
       "    .dataframe tbody tr th {\n",
       "        vertical-align: top;\n",
       "    }\n",
       "\n",
       "    .dataframe thead th {\n",
       "        text-align: right;\n",
       "    }\n",
       "</style>\n",
       "<table border=\"1\" class=\"dataframe\">\n",
       "  <thead>\n",
       "    <tr style=\"text-align: right;\">\n",
       "      <th></th>\n",
       "      <th>user_id</th>\n",
       "      <th>first_name</th>\n",
       "      <th>last_name</th>\n",
       "      <th>age</th>\n",
       "      <th>city</th>\n",
       "      <th>reg_date</th>\n",
       "      <th>plan</th>\n",
       "      <th>churn_date</th>\n",
       "    </tr>\n",
       "  </thead>\n",
       "  <tbody>\n",
       "    <tr>\n",
       "      <th>0</th>\n",
       "      <td>1000</td>\n",
       "      <td>Anamaria</td>\n",
       "      <td>Bauer</td>\n",
       "      <td>45</td>\n",
       "      <td>Atlanta-Sandy Springs-Roswell, GA MSA</td>\n",
       "      <td>2018-12-24</td>\n",
       "      <td>ultimate</td>\n",
       "      <td>NaN</td>\n",
       "    </tr>\n",
       "    <tr>\n",
       "      <th>1</th>\n",
       "      <td>1001</td>\n",
       "      <td>Mickey</td>\n",
       "      <td>Wilkerson</td>\n",
       "      <td>28</td>\n",
       "      <td>Seattle-Tacoma-Bellevue, WA MSA</td>\n",
       "      <td>2018-08-13</td>\n",
       "      <td>surf</td>\n",
       "      <td>NaN</td>\n",
       "    </tr>\n",
       "    <tr>\n",
       "      <th>2</th>\n",
       "      <td>1002</td>\n",
       "      <td>Carlee</td>\n",
       "      <td>Hoffman</td>\n",
       "      <td>36</td>\n",
       "      <td>Las Vegas-Henderson-Paradise, NV MSA</td>\n",
       "      <td>2018-10-21</td>\n",
       "      <td>surf</td>\n",
       "      <td>NaN</td>\n",
       "    </tr>\n",
       "    <tr>\n",
       "      <th>3</th>\n",
       "      <td>1003</td>\n",
       "      <td>Reynaldo</td>\n",
       "      <td>Jenkins</td>\n",
       "      <td>52</td>\n",
       "      <td>Tulsa, OK MSA</td>\n",
       "      <td>2018-01-28</td>\n",
       "      <td>surf</td>\n",
       "      <td>NaN</td>\n",
       "    </tr>\n",
       "    <tr>\n",
       "      <th>4</th>\n",
       "      <td>1004</td>\n",
       "      <td>Leonila</td>\n",
       "      <td>Thompson</td>\n",
       "      <td>40</td>\n",
       "      <td>Seattle-Tacoma-Bellevue, WA MSA</td>\n",
       "      <td>2018-05-23</td>\n",
       "      <td>surf</td>\n",
       "      <td>NaN</td>\n",
       "    </tr>\n",
       "  </tbody>\n",
       "</table>\n",
       "</div>"
      ],
      "text/plain": [
       "   user_id first_name  last_name  age                                   city  \\\n",
       "0     1000   Anamaria      Bauer   45  Atlanta-Sandy Springs-Roswell, GA MSA   \n",
       "1     1001     Mickey  Wilkerson   28        Seattle-Tacoma-Bellevue, WA MSA   \n",
       "2     1002     Carlee    Hoffman   36   Las Vegas-Henderson-Paradise, NV MSA   \n",
       "3     1003   Reynaldo    Jenkins   52                          Tulsa, OK MSA   \n",
       "4     1004    Leonila   Thompson   40        Seattle-Tacoma-Bellevue, WA MSA   \n",
       "\n",
       "     reg_date      plan churn_date  \n",
       "0  2018-12-24  ultimate        NaN  \n",
       "1  2018-08-13      surf        NaN  \n",
       "2  2018-10-21      surf        NaN  \n",
       "3  2018-01-28      surf        NaN  \n",
       "4  2018-05-23      surf        NaN  "
      ]
     },
     "metadata": {},
     "output_type": "display_data"
    }
   ],
   "source": [
    "# Imprime una muestra de datos para usuarios\n",
    "display(megaline_users.head())\n"
   ]
  },
  {
   "cell_type": "markdown",
   "metadata": {
    "id": "dCZoUq4f0q06"
   },
   "source": [
    "La tabla megaline_users contiene 8 columnas, los nombres de dichas columnas siguen las buenas practicas. Se puede ver que tenemos 500 datos y solo hay valores ausentes en la columna churn_date, pero en este caso no la utilizaremos para el analisis. \n",
    "\n",
    "- user_id: es del tipo int64, en este caso se cambiara a tipo object ya que no tiene sentido esta en tipo int64. No se haran operaciones numericas con el user_id.\n",
    "- reg_date: es del tipo object, pero deberia ser datetime."
   ]
  },
  {
   "cell_type": "markdown",
   "metadata": {
    "id": "BX5FQh_I0q06"
   },
   "source": [
    "### Corregir los datos"
   ]
  },
  {
   "cell_type": "code",
   "execution_count": 8,
   "metadata": {
    "id": "yUqX-K0C0q07"
   },
   "outputs": [
    {
     "data": {
      "text/plain": [
       "0"
      ]
     },
     "execution_count": 8,
     "metadata": {},
     "output_type": "execute_result"
    }
   ],
   "source": [
    "megaline_users['user_id'] = megaline_users['user_id'].astype('object')\n",
    "\n",
    "megaline_users['reg_date'] = pd.to_datetime(megaline_users['reg_date'], format = '%Y-%m-%d')\n",
    "\n",
    "megaline_users['user_id'].duplicated().sum()\n",
    "megaline_users.duplicated().sum()"
   ]
  },
  {
   "cell_type": "markdown",
   "metadata": {
    "id": "ycwuARJp0q07"
   },
   "source": [
    "### Enriquecer los datos"
   ]
  },
  {
   "cell_type": "markdown",
   "metadata": {
    "id": "96NIh4CJ0q08"
   },
   "source": [
    "- No hay datos por enriquecer"
   ]
  },
  {
   "cell_type": "markdown",
   "metadata": {
    "id": "o7MeKCid0q08"
   },
   "source": [
    "## Llamadas"
   ]
  },
  {
   "cell_type": "code",
   "execution_count": 9,
   "metadata": {
    "id": "6dDlnoDm0q08"
   },
   "outputs": [
    {
     "name": "stdout",
     "output_type": "stream",
     "text": [
      "<class 'pandas.core.frame.DataFrame'>\n",
      "RangeIndex: 137735 entries, 0 to 137734\n",
      "Data columns (total 4 columns):\n",
      " #   Column     Non-Null Count   Dtype  \n",
      "---  ------     --------------   -----  \n",
      " 0   id         137735 non-null  object \n",
      " 1   user_id    137735 non-null  int64  \n",
      " 2   call_date  137735 non-null  object \n",
      " 3   duration   137735 non-null  float64\n",
      "dtypes: float64(1), int64(1), object(2)\n",
      "memory usage: 4.2+ MB\n"
     ]
    }
   ],
   "source": [
    "# Imprime la información general/resumida sobre el DataFrame de las llamadas\n",
    "megaline_calls.info()\n"
   ]
  },
  {
   "cell_type": "code",
   "execution_count": 10,
   "metadata": {
    "id": "kuh1vlNB0q09"
   },
   "outputs": [
    {
     "data": {
      "text/html": [
       "<div>\n",
       "<style scoped>\n",
       "    .dataframe tbody tr th:only-of-type {\n",
       "        vertical-align: middle;\n",
       "    }\n",
       "\n",
       "    .dataframe tbody tr th {\n",
       "        vertical-align: top;\n",
       "    }\n",
       "\n",
       "    .dataframe thead th {\n",
       "        text-align: right;\n",
       "    }\n",
       "</style>\n",
       "<table border=\"1\" class=\"dataframe\">\n",
       "  <thead>\n",
       "    <tr style=\"text-align: right;\">\n",
       "      <th></th>\n",
       "      <th>id</th>\n",
       "      <th>user_id</th>\n",
       "      <th>call_date</th>\n",
       "      <th>duration</th>\n",
       "    </tr>\n",
       "  </thead>\n",
       "  <tbody>\n",
       "    <tr>\n",
       "      <th>0</th>\n",
       "      <td>1000_93</td>\n",
       "      <td>1000</td>\n",
       "      <td>2018-12-27</td>\n",
       "      <td>8.52</td>\n",
       "    </tr>\n",
       "    <tr>\n",
       "      <th>1</th>\n",
       "      <td>1000_145</td>\n",
       "      <td>1000</td>\n",
       "      <td>2018-12-27</td>\n",
       "      <td>13.66</td>\n",
       "    </tr>\n",
       "    <tr>\n",
       "      <th>2</th>\n",
       "      <td>1000_247</td>\n",
       "      <td>1000</td>\n",
       "      <td>2018-12-27</td>\n",
       "      <td>14.48</td>\n",
       "    </tr>\n",
       "    <tr>\n",
       "      <th>3</th>\n",
       "      <td>1000_309</td>\n",
       "      <td>1000</td>\n",
       "      <td>2018-12-28</td>\n",
       "      <td>5.76</td>\n",
       "    </tr>\n",
       "    <tr>\n",
       "      <th>4</th>\n",
       "      <td>1000_380</td>\n",
       "      <td>1000</td>\n",
       "      <td>2018-12-30</td>\n",
       "      <td>4.22</td>\n",
       "    </tr>\n",
       "  </tbody>\n",
       "</table>\n",
       "</div>"
      ],
      "text/plain": [
       "         id  user_id   call_date  duration\n",
       "0   1000_93     1000  2018-12-27      8.52\n",
       "1  1000_145     1000  2018-12-27     13.66\n",
       "2  1000_247     1000  2018-12-27     14.48\n",
       "3  1000_309     1000  2018-12-28      5.76\n",
       "4  1000_380     1000  2018-12-30      4.22"
      ]
     },
     "metadata": {},
     "output_type": "display_data"
    }
   ],
   "source": [
    "# Imprime una muestra de datos para las llamadas\n",
    "display(megaline_calls.head())\n"
   ]
  },
  {
   "cell_type": "markdown",
   "metadata": {
    "id": "DOAxYJSx0q09"
   },
   "source": [
    "La tabla megaline_calls contiene 4 columnas, los nombres de dichas columnas siguen las buenas practicas. Se puede ver que tenemos 137735 datos y no hay valores ausentes. \n",
    "\n",
    "- id: la columna es de tipo object\n",
    "- user_id: es del tipo int64, en este caso se cambiara a tipo object ya que no tiene sentido esta en tipo int64. No se haran operaciones numericas con el user_id.\n",
    "- call_date: es del tipo object, pero deberia ser datetime.\n",
    "- duration: es una columna tipo float64, por lo que decidimos mantenerla asi."
   ]
  },
  {
   "cell_type": "markdown",
   "metadata": {
    "id": "S7hzxmbX0q0-"
   },
   "source": [
    "### Corregir los datos"
   ]
  },
  {
   "cell_type": "code",
   "execution_count": 11,
   "metadata": {
    "id": "S2r8xA4f0q0-"
   },
   "outputs": [
    {
     "data": {
      "text/plain": [
       "0"
      ]
     },
     "execution_count": 11,
     "metadata": {},
     "output_type": "execute_result"
    }
   ],
   "source": [
    "megaline_calls['user_id'] = megaline_calls['user_id'].astype('object')\n",
    "\n",
    "megaline_calls['call_date'] = pd.to_datetime(megaline_calls['call_date'], format = '%Y-%m-%d')\n",
    "\n",
    "megaline_calls['id'].duplicated().sum()\n",
    "\n",
    "\n",
    "megaline_calls.duplicated().sum()\n"
   ]
  },
  {
   "cell_type": "markdown",
   "metadata": {
    "id": "KrMgTrlG0q0_"
   },
   "source": [
    "### Enriquecer los datos"
   ]
  },
  {
   "cell_type": "markdown",
   "metadata": {
    "id": "a9MbmEvE0q0_"
   },
   "source": [
    "- Redondear las llamadas hacia arriba ( como indica en el proyecto)\n",
    "- Añadir la columna del mes"
   ]
  },
  {
   "cell_type": "code",
   "execution_count": 12,
   "metadata": {
    "id": "iZ1avpA_0q0_"
   },
   "outputs": [
    {
     "data": {
      "text/html": [
       "<div>\n",
       "<style scoped>\n",
       "    .dataframe tbody tr th:only-of-type {\n",
       "        vertical-align: middle;\n",
       "    }\n",
       "\n",
       "    .dataframe tbody tr th {\n",
       "        vertical-align: top;\n",
       "    }\n",
       "\n",
       "    .dataframe thead th {\n",
       "        text-align: right;\n",
       "    }\n",
       "</style>\n",
       "<table border=\"1\" class=\"dataframe\">\n",
       "  <thead>\n",
       "    <tr style=\"text-align: right;\">\n",
       "      <th></th>\n",
       "      <th>id</th>\n",
       "      <th>user_id</th>\n",
       "      <th>call_date</th>\n",
       "      <th>duration</th>\n",
       "      <th>month</th>\n",
       "    </tr>\n",
       "  </thead>\n",
       "  <tbody>\n",
       "    <tr>\n",
       "      <th>0</th>\n",
       "      <td>1000_93</td>\n",
       "      <td>1000</td>\n",
       "      <td>2018-12-27</td>\n",
       "      <td>9.0</td>\n",
       "      <td>12</td>\n",
       "    </tr>\n",
       "    <tr>\n",
       "      <th>1</th>\n",
       "      <td>1000_145</td>\n",
       "      <td>1000</td>\n",
       "      <td>2018-12-27</td>\n",
       "      <td>14.0</td>\n",
       "      <td>12</td>\n",
       "    </tr>\n",
       "    <tr>\n",
       "      <th>2</th>\n",
       "      <td>1000_247</td>\n",
       "      <td>1000</td>\n",
       "      <td>2018-12-27</td>\n",
       "      <td>15.0</td>\n",
       "      <td>12</td>\n",
       "    </tr>\n",
       "    <tr>\n",
       "      <th>3</th>\n",
       "      <td>1000_309</td>\n",
       "      <td>1000</td>\n",
       "      <td>2018-12-28</td>\n",
       "      <td>6.0</td>\n",
       "      <td>12</td>\n",
       "    </tr>\n",
       "    <tr>\n",
       "      <th>4</th>\n",
       "      <td>1000_380</td>\n",
       "      <td>1000</td>\n",
       "      <td>2018-12-30</td>\n",
       "      <td>5.0</td>\n",
       "      <td>12</td>\n",
       "    </tr>\n",
       "  </tbody>\n",
       "</table>\n",
       "</div>"
      ],
      "text/plain": [
       "         id user_id  call_date  duration  month\n",
       "0   1000_93    1000 2018-12-27       9.0     12\n",
       "1  1000_145    1000 2018-12-27      14.0     12\n",
       "2  1000_247    1000 2018-12-27      15.0     12\n",
       "3  1000_309    1000 2018-12-28       6.0     12\n",
       "4  1000_380    1000 2018-12-30       5.0     12"
      ]
     },
     "metadata": {},
     "output_type": "display_data"
    }
   ],
   "source": [
    "megaline_calls['duration'] =  megaline_calls['duration'].apply(np.ceil)\n",
    "\n",
    "megaline_calls['month'] = megaline_calls['call_date'].dt.month\n",
    "\n",
    "display(megaline_calls.head())"
   ]
  },
  {
   "cell_type": "markdown",
   "metadata": {
    "id": "mOUZSi180q0_"
   },
   "source": [
    "## Mensajes"
   ]
  },
  {
   "cell_type": "code",
   "execution_count": 13,
   "metadata": {
    "id": "R-bYJpdV0q1A"
   },
   "outputs": [
    {
     "name": "stdout",
     "output_type": "stream",
     "text": [
      "<class 'pandas.core.frame.DataFrame'>\n",
      "RangeIndex: 76051 entries, 0 to 76050\n",
      "Data columns (total 3 columns):\n",
      " #   Column        Non-Null Count  Dtype \n",
      "---  ------        --------------  ----- \n",
      " 0   id            76051 non-null  object\n",
      " 1   user_id       76051 non-null  int64 \n",
      " 2   message_date  76051 non-null  object\n",
      "dtypes: int64(1), object(2)\n",
      "memory usage: 1.7+ MB\n"
     ]
    }
   ],
   "source": [
    "# Imprime la información general/resumida sobre el DataFrame de los mensajes\n",
    "megaline_messages.info()\n"
   ]
  },
  {
   "cell_type": "code",
   "execution_count": 14,
   "metadata": {
    "id": "mCEl2iGE0q1A"
   },
   "outputs": [
    {
     "data": {
      "text/html": [
       "<div>\n",
       "<style scoped>\n",
       "    .dataframe tbody tr th:only-of-type {\n",
       "        vertical-align: middle;\n",
       "    }\n",
       "\n",
       "    .dataframe tbody tr th {\n",
       "        vertical-align: top;\n",
       "    }\n",
       "\n",
       "    .dataframe thead th {\n",
       "        text-align: right;\n",
       "    }\n",
       "</style>\n",
       "<table border=\"1\" class=\"dataframe\">\n",
       "  <thead>\n",
       "    <tr style=\"text-align: right;\">\n",
       "      <th></th>\n",
       "      <th>id</th>\n",
       "      <th>user_id</th>\n",
       "      <th>message_date</th>\n",
       "    </tr>\n",
       "  </thead>\n",
       "  <tbody>\n",
       "    <tr>\n",
       "      <th>0</th>\n",
       "      <td>1000_125</td>\n",
       "      <td>1000</td>\n",
       "      <td>2018-12-27</td>\n",
       "    </tr>\n",
       "    <tr>\n",
       "      <th>1</th>\n",
       "      <td>1000_160</td>\n",
       "      <td>1000</td>\n",
       "      <td>2018-12-31</td>\n",
       "    </tr>\n",
       "    <tr>\n",
       "      <th>2</th>\n",
       "      <td>1000_223</td>\n",
       "      <td>1000</td>\n",
       "      <td>2018-12-31</td>\n",
       "    </tr>\n",
       "    <tr>\n",
       "      <th>3</th>\n",
       "      <td>1000_251</td>\n",
       "      <td>1000</td>\n",
       "      <td>2018-12-27</td>\n",
       "    </tr>\n",
       "    <tr>\n",
       "      <th>4</th>\n",
       "      <td>1000_255</td>\n",
       "      <td>1000</td>\n",
       "      <td>2018-12-26</td>\n",
       "    </tr>\n",
       "  </tbody>\n",
       "</table>\n",
       "</div>"
      ],
      "text/plain": [
       "         id  user_id message_date\n",
       "0  1000_125     1000   2018-12-27\n",
       "1  1000_160     1000   2018-12-31\n",
       "2  1000_223     1000   2018-12-31\n",
       "3  1000_251     1000   2018-12-27\n",
       "4  1000_255     1000   2018-12-26"
      ]
     },
     "metadata": {},
     "output_type": "display_data"
    }
   ],
   "source": [
    "# Imprime una muestra de datos para los mensajes\n",
    "display(megaline_messages.head())\n"
   ]
  },
  {
   "cell_type": "markdown",
   "metadata": {
    "id": "04xDj7KH0q1A"
   },
   "source": [
    "La tabla megaline_messages contiene 3 columnas, los nombres de dichas columnas siguen las buenas practicas. Se puede ver que tenemos 76051 datos y no hay valores ausentes.\n",
    "\n",
    "- user_id: es del tipo int64, en este caso se cambiara a tipo object ya que no tiene sentido esta en tipo int64. No se haran operaciones numericas con el user_id.\n",
    "- message_date: es del tipo object, pero deberia ser datetime."
   ]
  },
  {
   "cell_type": "markdown",
   "metadata": {
    "id": "Sprfak900q1B"
   },
   "source": [
    "### Corregir los datos"
   ]
  },
  {
   "cell_type": "code",
   "execution_count": 15,
   "metadata": {
    "id": "vsllvkoa0q1B"
   },
   "outputs": [
    {
     "data": {
      "text/plain": [
       "0"
      ]
     },
     "execution_count": 15,
     "metadata": {},
     "output_type": "execute_result"
    }
   ],
   "source": [
    "megaline_messages['user_id'] = megaline_messages['user_id'].astype('object')\n",
    "megaline_messages['message_date'] = pd.to_datetime(megaline_messages['message_date'], format = '%Y-%m-%d')\n",
    "\n",
    "megaline_messages['id'].duplicated().sum()\n",
    "\n",
    "megaline_messages.duplicated().sum()"
   ]
  },
  {
   "cell_type": "markdown",
   "metadata": {
    "id": "HvLid7iD0q1B"
   },
   "source": [
    "### Enriquecer los datos"
   ]
  },
  {
   "cell_type": "markdown",
   "metadata": {
    "id": "8nhPFKIe0q1C"
   },
   "source": [
    "\n",
    "- Añadir la columna de mes"
   ]
  },
  {
   "cell_type": "code",
   "execution_count": 16,
   "metadata": {
    "id": "zYEXZac10q1C"
   },
   "outputs": [
    {
     "data": {
      "text/html": [
       "<div>\n",
       "<style scoped>\n",
       "    .dataframe tbody tr th:only-of-type {\n",
       "        vertical-align: middle;\n",
       "    }\n",
       "\n",
       "    .dataframe tbody tr th {\n",
       "        vertical-align: top;\n",
       "    }\n",
       "\n",
       "    .dataframe thead th {\n",
       "        text-align: right;\n",
       "    }\n",
       "</style>\n",
       "<table border=\"1\" class=\"dataframe\">\n",
       "  <thead>\n",
       "    <tr style=\"text-align: right;\">\n",
       "      <th></th>\n",
       "      <th>id</th>\n",
       "      <th>user_id</th>\n",
       "      <th>call_date</th>\n",
       "      <th>duration</th>\n",
       "      <th>month</th>\n",
       "    </tr>\n",
       "  </thead>\n",
       "  <tbody>\n",
       "    <tr>\n",
       "      <th>0</th>\n",
       "      <td>1000_93</td>\n",
       "      <td>1000</td>\n",
       "      <td>2018-12-27</td>\n",
       "      <td>9.0</td>\n",
       "      <td>12</td>\n",
       "    </tr>\n",
       "    <tr>\n",
       "      <th>1</th>\n",
       "      <td>1000_145</td>\n",
       "      <td>1000</td>\n",
       "      <td>2018-12-27</td>\n",
       "      <td>14.0</td>\n",
       "      <td>12</td>\n",
       "    </tr>\n",
       "    <tr>\n",
       "      <th>2</th>\n",
       "      <td>1000_247</td>\n",
       "      <td>1000</td>\n",
       "      <td>2018-12-27</td>\n",
       "      <td>15.0</td>\n",
       "      <td>12</td>\n",
       "    </tr>\n",
       "    <tr>\n",
       "      <th>3</th>\n",
       "      <td>1000_309</td>\n",
       "      <td>1000</td>\n",
       "      <td>2018-12-28</td>\n",
       "      <td>6.0</td>\n",
       "      <td>12</td>\n",
       "    </tr>\n",
       "    <tr>\n",
       "      <th>4</th>\n",
       "      <td>1000_380</td>\n",
       "      <td>1000</td>\n",
       "      <td>2018-12-30</td>\n",
       "      <td>5.0</td>\n",
       "      <td>12</td>\n",
       "    </tr>\n",
       "  </tbody>\n",
       "</table>\n",
       "</div>"
      ],
      "text/plain": [
       "         id user_id  call_date  duration  month\n",
       "0   1000_93    1000 2018-12-27       9.0     12\n",
       "1  1000_145    1000 2018-12-27      14.0     12\n",
       "2  1000_247    1000 2018-12-27      15.0     12\n",
       "3  1000_309    1000 2018-12-28       6.0     12\n",
       "4  1000_380    1000 2018-12-30       5.0     12"
      ]
     },
     "metadata": {},
     "output_type": "display_data"
    }
   ],
   "source": [
    "megaline_messages['month'] = megaline_messages['message_date'].dt.month\n",
    "\n",
    "display(megaline_calls.head())"
   ]
  },
  {
   "cell_type": "markdown",
   "metadata": {
    "id": "bStkaxn40q1C"
   },
   "source": [
    "## Internet"
   ]
  },
  {
   "cell_type": "code",
   "execution_count": 17,
   "metadata": {
    "id": "e-Uz5qyn0q1C"
   },
   "outputs": [
    {
     "name": "stdout",
     "output_type": "stream",
     "text": [
      "<class 'pandas.core.frame.DataFrame'>\n",
      "RangeIndex: 104825 entries, 0 to 104824\n",
      "Data columns (total 4 columns):\n",
      " #   Column        Non-Null Count   Dtype  \n",
      "---  ------        --------------   -----  \n",
      " 0   id            104825 non-null  object \n",
      " 1   user_id       104825 non-null  int64  \n",
      " 2   session_date  104825 non-null  object \n",
      " 3   mb_used       104825 non-null  float64\n",
      "dtypes: float64(1), int64(1), object(2)\n",
      "memory usage: 3.2+ MB\n"
     ]
    }
   ],
   "source": [
    "# Imprime la información general/resumida sobre el DataFrame de internet\n",
    "megaline_internet.info()\n"
   ]
  },
  {
   "cell_type": "code",
   "execution_count": 18,
   "metadata": {
    "id": "9r3x_XLw0q1C"
   },
   "outputs": [
    {
     "data": {
      "text/html": [
       "<div>\n",
       "<style scoped>\n",
       "    .dataframe tbody tr th:only-of-type {\n",
       "        vertical-align: middle;\n",
       "    }\n",
       "\n",
       "    .dataframe tbody tr th {\n",
       "        vertical-align: top;\n",
       "    }\n",
       "\n",
       "    .dataframe thead th {\n",
       "        text-align: right;\n",
       "    }\n",
       "</style>\n",
       "<table border=\"1\" class=\"dataframe\">\n",
       "  <thead>\n",
       "    <tr style=\"text-align: right;\">\n",
       "      <th></th>\n",
       "      <th>id</th>\n",
       "      <th>user_id</th>\n",
       "      <th>session_date</th>\n",
       "      <th>mb_used</th>\n",
       "    </tr>\n",
       "  </thead>\n",
       "  <tbody>\n",
       "    <tr>\n",
       "      <th>0</th>\n",
       "      <td>1000_13</td>\n",
       "      <td>1000</td>\n",
       "      <td>2018-12-29</td>\n",
       "      <td>89.86</td>\n",
       "    </tr>\n",
       "    <tr>\n",
       "      <th>1</th>\n",
       "      <td>1000_204</td>\n",
       "      <td>1000</td>\n",
       "      <td>2018-12-31</td>\n",
       "      <td>0.00</td>\n",
       "    </tr>\n",
       "    <tr>\n",
       "      <th>2</th>\n",
       "      <td>1000_379</td>\n",
       "      <td>1000</td>\n",
       "      <td>2018-12-28</td>\n",
       "      <td>660.40</td>\n",
       "    </tr>\n",
       "    <tr>\n",
       "      <th>3</th>\n",
       "      <td>1000_413</td>\n",
       "      <td>1000</td>\n",
       "      <td>2018-12-26</td>\n",
       "      <td>270.99</td>\n",
       "    </tr>\n",
       "    <tr>\n",
       "      <th>4</th>\n",
       "      <td>1000_442</td>\n",
       "      <td>1000</td>\n",
       "      <td>2018-12-27</td>\n",
       "      <td>880.22</td>\n",
       "    </tr>\n",
       "  </tbody>\n",
       "</table>\n",
       "</div>"
      ],
      "text/plain": [
       "         id  user_id session_date  mb_used\n",
       "0   1000_13     1000   2018-12-29    89.86\n",
       "1  1000_204     1000   2018-12-31     0.00\n",
       "2  1000_379     1000   2018-12-28   660.40\n",
       "3  1000_413     1000   2018-12-26   270.99\n",
       "4  1000_442     1000   2018-12-27   880.22"
      ]
     },
     "metadata": {},
     "output_type": "display_data"
    }
   ],
   "source": [
    "# Imprime una muestra de datos para el tráfico de internet\n",
    "display(megaline_internet.head())\n"
   ]
  },
  {
   "cell_type": "markdown",
   "metadata": {
    "id": "EzOG5ik30q1D"
   },
   "source": [
    "La tabla megaline_internet contiene 4 columnas, los nombres de dichas columnas siguen las buenas practicas. Se puede ver que tenemos 104825 datos y no hay valores ausentes.\n",
    "\n",
    "- user_id: es del tipo int64, en este caso se cambiara a tipo object ya que no tiene sentido esta en tipo int64. No se haran operaciones numericas con el user_id.\n",
    "- session_date: es del tipo object, pero deberia ser datetime."
   ]
  },
  {
   "cell_type": "markdown",
   "metadata": {
    "id": "yA0tkPFg0q1D"
   },
   "source": [
    "### Corregir los datos"
   ]
  },
  {
   "cell_type": "markdown",
   "metadata": {
    "id": "zlZMuIEK0q1D"
   },
   "source": [
    "[Corrige los problemas obvios con los datos basándote en las observaciones iniciales.]"
   ]
  },
  {
   "cell_type": "code",
   "execution_count": 19,
   "metadata": {
    "id": "zVeanzdd0q1E"
   },
   "outputs": [
    {
     "name": "stdout",
     "output_type": "stream",
     "text": [
      "<class 'pandas.core.frame.DataFrame'>\n",
      "RangeIndex: 104825 entries, 0 to 104824\n",
      "Data columns (total 4 columns):\n",
      " #   Column        Non-Null Count   Dtype         \n",
      "---  ------        --------------   -----         \n",
      " 0   id            104825 non-null  object        \n",
      " 1   user_id       104825 non-null  object        \n",
      " 2   session_date  104825 non-null  datetime64[ns]\n",
      " 3   mb_used       104825 non-null  float64       \n",
      "dtypes: datetime64[ns](1), float64(1), object(2)\n",
      "memory usage: 3.2+ MB\n"
     ]
    },
    {
     "data": {
      "text/plain": [
       "0"
      ]
     },
     "execution_count": 19,
     "metadata": {},
     "output_type": "execute_result"
    }
   ],
   "source": [
    "megaline_internet['user_id'] = megaline_internet['user_id'].astype('object')\n",
    "megaline_internet['session_date'] = pd.to_datetime(megaline_internet['session_date'], format = '%Y-%m-%d') \n",
    "\n",
    "megaline_internet.info()\n",
    "\n",
    "megaline_internet['id'].duplicated().sum()\n",
    "megaline_internet.duplicated().sum()"
   ]
  },
  {
   "cell_type": "markdown",
   "metadata": {
    "id": "e8_mLF4a0q1E"
   },
   "source": [
    "### Enriquecer los datos"
   ]
  },
  {
   "cell_type": "markdown",
   "metadata": {
    "id": "xhNdn2tE0q1E"
   },
   "source": [
    "- Transformar los mb a gb\n",
    "- Añadir columna de mes"
   ]
  },
  {
   "cell_type": "code",
   "execution_count": 20,
   "metadata": {
    "id": "ESiYPIEK0q1E"
   },
   "outputs": [
    {
     "data": {
      "text/html": [
       "<div>\n",
       "<style scoped>\n",
       "    .dataframe tbody tr th:only-of-type {\n",
       "        vertical-align: middle;\n",
       "    }\n",
       "\n",
       "    .dataframe tbody tr th {\n",
       "        vertical-align: top;\n",
       "    }\n",
       "\n",
       "    .dataframe thead th {\n",
       "        text-align: right;\n",
       "    }\n",
       "</style>\n",
       "<table border=\"1\" class=\"dataframe\">\n",
       "  <thead>\n",
       "    <tr style=\"text-align: right;\">\n",
       "      <th></th>\n",
       "      <th>id</th>\n",
       "      <th>user_id</th>\n",
       "      <th>session_date</th>\n",
       "      <th>mb_used</th>\n",
       "      <th>gb_used</th>\n",
       "      <th>month</th>\n",
       "    </tr>\n",
       "  </thead>\n",
       "  <tbody>\n",
       "    <tr>\n",
       "      <th>0</th>\n",
       "      <td>1000_13</td>\n",
       "      <td>1000</td>\n",
       "      <td>2018-12-29</td>\n",
       "      <td>89.86</td>\n",
       "      <td>0.087754</td>\n",
       "      <td>12</td>\n",
       "    </tr>\n",
       "    <tr>\n",
       "      <th>1</th>\n",
       "      <td>1000_204</td>\n",
       "      <td>1000</td>\n",
       "      <td>2018-12-31</td>\n",
       "      <td>0.00</td>\n",
       "      <td>0.000000</td>\n",
       "      <td>12</td>\n",
       "    </tr>\n",
       "    <tr>\n",
       "      <th>2</th>\n",
       "      <td>1000_379</td>\n",
       "      <td>1000</td>\n",
       "      <td>2018-12-28</td>\n",
       "      <td>660.40</td>\n",
       "      <td>0.644922</td>\n",
       "      <td>12</td>\n",
       "    </tr>\n",
       "    <tr>\n",
       "      <th>3</th>\n",
       "      <td>1000_413</td>\n",
       "      <td>1000</td>\n",
       "      <td>2018-12-26</td>\n",
       "      <td>270.99</td>\n",
       "      <td>0.264639</td>\n",
       "      <td>12</td>\n",
       "    </tr>\n",
       "    <tr>\n",
       "      <th>4</th>\n",
       "      <td>1000_442</td>\n",
       "      <td>1000</td>\n",
       "      <td>2018-12-27</td>\n",
       "      <td>880.22</td>\n",
       "      <td>0.859590</td>\n",
       "      <td>12</td>\n",
       "    </tr>\n",
       "  </tbody>\n",
       "</table>\n",
       "</div>"
      ],
      "text/plain": [
       "         id user_id session_date  mb_used   gb_used  month\n",
       "0   1000_13    1000   2018-12-29    89.86  0.087754     12\n",
       "1  1000_204    1000   2018-12-31     0.00  0.000000     12\n",
       "2  1000_379    1000   2018-12-28   660.40  0.644922     12\n",
       "3  1000_413    1000   2018-12-26   270.99  0.264639     12\n",
       "4  1000_442    1000   2018-12-27   880.22  0.859590     12"
      ]
     },
     "metadata": {},
     "output_type": "display_data"
    }
   ],
   "source": [
    "megaline_internet['gb_used'] = megaline_internet['mb_used'] / 1024\n",
    "\n",
    "megaline_internet['month'] = megaline_internet['session_date'].dt.month\n",
    "\n",
    "display(megaline_internet.head())"
   ]
  },
  {
   "cell_type": "markdown",
   "metadata": {
    "id": "3UA2cqIW0q1E"
   },
   "source": [
    "## Estudiar las condiciones de las tarifas"
   ]
  },
  {
   "cell_type": "code",
   "execution_count": 21,
   "metadata": {
    "id": "i409op8p0q1F"
   },
   "outputs": [
    {
     "data": {
      "text/html": [
       "<div>\n",
       "<style scoped>\n",
       "    .dataframe tbody tr th:only-of-type {\n",
       "        vertical-align: middle;\n",
       "    }\n",
       "\n",
       "    .dataframe tbody tr th {\n",
       "        vertical-align: top;\n",
       "    }\n",
       "\n",
       "    .dataframe thead th {\n",
       "        text-align: right;\n",
       "    }\n",
       "</style>\n",
       "<table border=\"1\" class=\"dataframe\">\n",
       "  <thead>\n",
       "    <tr style=\"text-align: right;\">\n",
       "      <th></th>\n",
       "      <th>messages_included</th>\n",
       "      <th>mb_per_month_included</th>\n",
       "      <th>minutes_included</th>\n",
       "      <th>usd_monthly_pay</th>\n",
       "      <th>usd_per_gb</th>\n",
       "      <th>usd_per_message</th>\n",
       "      <th>usd_per_minute</th>\n",
       "      <th>plan</th>\n",
       "    </tr>\n",
       "  </thead>\n",
       "  <tbody>\n",
       "    <tr>\n",
       "      <th>0</th>\n",
       "      <td>50</td>\n",
       "      <td>15360</td>\n",
       "      <td>500</td>\n",
       "      <td>20</td>\n",
       "      <td>10</td>\n",
       "      <td>0.03</td>\n",
       "      <td>0.03</td>\n",
       "      <td>surf</td>\n",
       "    </tr>\n",
       "    <tr>\n",
       "      <th>1</th>\n",
       "      <td>1000</td>\n",
       "      <td>30720</td>\n",
       "      <td>3000</td>\n",
       "      <td>70</td>\n",
       "      <td>7</td>\n",
       "      <td>0.01</td>\n",
       "      <td>0.01</td>\n",
       "      <td>ultimate</td>\n",
       "    </tr>\n",
       "  </tbody>\n",
       "</table>\n",
       "</div>"
      ],
      "text/plain": [
       "   messages_included  mb_per_month_included  minutes_included  \\\n",
       "0                 50                  15360               500   \n",
       "1               1000                  30720              3000   \n",
       "\n",
       "   usd_monthly_pay  usd_per_gb  usd_per_message  usd_per_minute      plan  \n",
       "0               20          10             0.03            0.03      surf  \n",
       "1               70           7             0.01            0.01  ultimate  "
      ]
     },
     "metadata": {},
     "output_type": "display_data"
    }
   ],
   "source": [
    "# Imprime las condiciones de la tarifa y asegúrate de que te quedan claras\n",
    "\n",
    "display(megaline_plans.head())"
   ]
  },
  {
   "cell_type": "markdown",
   "metadata": {
    "id": "hMR1tP5d0q1F"
   },
   "source": [
    "## Agregar datos por usuario\n"
   ]
  },
  {
   "cell_type": "code",
   "execution_count": 22,
   "metadata": {
    "id": "A332cedB0q1G"
   },
   "outputs": [
    {
     "data": {
      "text/html": [
       "<div>\n",
       "<style scoped>\n",
       "    .dataframe tbody tr th:only-of-type {\n",
       "        vertical-align: middle;\n",
       "    }\n",
       "\n",
       "    .dataframe tbody tr th {\n",
       "        vertical-align: top;\n",
       "    }\n",
       "\n",
       "    .dataframe thead th {\n",
       "        text-align: right;\n",
       "    }\n",
       "</style>\n",
       "<table border=\"1\" class=\"dataframe\">\n",
       "  <thead>\n",
       "    <tr style=\"text-align: right;\">\n",
       "      <th></th>\n",
       "      <th>user_id</th>\n",
       "      <th>month</th>\n",
       "      <th>total_calls</th>\n",
       "      <th>total_duration</th>\n",
       "    </tr>\n",
       "  </thead>\n",
       "  <tbody>\n",
       "    <tr>\n",
       "      <th>0</th>\n",
       "      <td>1000</td>\n",
       "      <td>12</td>\n",
       "      <td>16</td>\n",
       "      <td>124.0</td>\n",
       "    </tr>\n",
       "    <tr>\n",
       "      <th>1</th>\n",
       "      <td>1001</td>\n",
       "      <td>8</td>\n",
       "      <td>27</td>\n",
       "      <td>182.0</td>\n",
       "    </tr>\n",
       "    <tr>\n",
       "      <th>2</th>\n",
       "      <td>1001</td>\n",
       "      <td>9</td>\n",
       "      <td>49</td>\n",
       "      <td>315.0</td>\n",
       "    </tr>\n",
       "    <tr>\n",
       "      <th>3</th>\n",
       "      <td>1001</td>\n",
       "      <td>10</td>\n",
       "      <td>65</td>\n",
       "      <td>393.0</td>\n",
       "    </tr>\n",
       "    <tr>\n",
       "      <th>4</th>\n",
       "      <td>1001</td>\n",
       "      <td>11</td>\n",
       "      <td>64</td>\n",
       "      <td>426.0</td>\n",
       "    </tr>\n",
       "  </tbody>\n",
       "</table>\n",
       "</div>"
      ],
      "text/plain": [
       "   user_id  month  total_calls  total_duration\n",
       "0     1000     12           16           124.0\n",
       "1     1001      8           27           182.0\n",
       "2     1001      9           49           315.0\n",
       "3     1001     10           65           393.0\n",
       "4     1001     11           64           426.0"
      ]
     },
     "execution_count": 22,
     "metadata": {},
     "output_type": "execute_result"
    }
   ],
   "source": [
    "# Calcula el número de llamadas hechas por cada usuario al mes. Guarda el resultado.\n",
    "# Calcula la cantidad de minutos usados por cada usuario al mes. Guarda el resultado.\n",
    "\n",
    "monthly_calls = megaline_calls.groupby(['user_id', 'month']).agg(\n",
    "    total_calls = ('id','count'),\n",
    "    total_duration = ('duration','sum')\n",
    ").reset_index()\n",
    "\n",
    "monthly_calls.head()"
   ]
  },
  {
   "cell_type": "code",
   "execution_count": 23,
   "metadata": {
    "id": "CcQvNHn60q1G"
   },
   "outputs": [
    {
     "data": {
      "text/html": [
       "<div>\n",
       "<style scoped>\n",
       "    .dataframe tbody tr th:only-of-type {\n",
       "        vertical-align: middle;\n",
       "    }\n",
       "\n",
       "    .dataframe tbody tr th {\n",
       "        vertical-align: top;\n",
       "    }\n",
       "\n",
       "    .dataframe thead th {\n",
       "        text-align: right;\n",
       "    }\n",
       "</style>\n",
       "<table border=\"1\" class=\"dataframe\">\n",
       "  <thead>\n",
       "    <tr style=\"text-align: right;\">\n",
       "      <th></th>\n",
       "      <th>user_id</th>\n",
       "      <th>month</th>\n",
       "      <th>total_messages</th>\n",
       "    </tr>\n",
       "  </thead>\n",
       "  <tbody>\n",
       "    <tr>\n",
       "      <th>0</th>\n",
       "      <td>1000</td>\n",
       "      <td>12</td>\n",
       "      <td>11</td>\n",
       "    </tr>\n",
       "    <tr>\n",
       "      <th>1</th>\n",
       "      <td>1001</td>\n",
       "      <td>8</td>\n",
       "      <td>30</td>\n",
       "    </tr>\n",
       "    <tr>\n",
       "      <th>2</th>\n",
       "      <td>1001</td>\n",
       "      <td>9</td>\n",
       "      <td>44</td>\n",
       "    </tr>\n",
       "    <tr>\n",
       "      <th>3</th>\n",
       "      <td>1001</td>\n",
       "      <td>10</td>\n",
       "      <td>53</td>\n",
       "    </tr>\n",
       "    <tr>\n",
       "      <th>4</th>\n",
       "      <td>1001</td>\n",
       "      <td>11</td>\n",
       "      <td>36</td>\n",
       "    </tr>\n",
       "  </tbody>\n",
       "</table>\n",
       "</div>"
      ],
      "text/plain": [
       "   user_id  month  total_messages\n",
       "0     1000     12              11\n",
       "1     1001      8              30\n",
       "2     1001      9              44\n",
       "3     1001     10              53\n",
       "4     1001     11              36"
      ]
     },
     "execution_count": 23,
     "metadata": {},
     "output_type": "execute_result"
    }
   ],
   "source": [
    "# Calcula el número de mensajes enviados por cada usuario al mes. Guarda el resultado.\n",
    "\n",
    "monthly_messages = megaline_messages.groupby(['user_id','month']).agg(\n",
    "    total_messages = ('id','count')).reset_index()\n",
    "\n",
    "monthly_messages.head()\n",
    "\n"
   ]
  },
  {
   "cell_type": "code",
   "execution_count": 24,
   "metadata": {
    "id": "H1AqN2eG0q1H"
   },
   "outputs": [
    {
     "data": {
      "text/html": [
       "<div>\n",
       "<style scoped>\n",
       "    .dataframe tbody tr th:only-of-type {\n",
       "        vertical-align: middle;\n",
       "    }\n",
       "\n",
       "    .dataframe tbody tr th {\n",
       "        vertical-align: top;\n",
       "    }\n",
       "\n",
       "    .dataframe thead th {\n",
       "        text-align: right;\n",
       "    }\n",
       "</style>\n",
       "<table border=\"1\" class=\"dataframe\">\n",
       "  <thead>\n",
       "    <tr style=\"text-align: right;\">\n",
       "      <th></th>\n",
       "      <th>user_id</th>\n",
       "      <th>month</th>\n",
       "      <th>total_gb</th>\n",
       "    </tr>\n",
       "  </thead>\n",
       "  <tbody>\n",
       "    <tr>\n",
       "      <th>0</th>\n",
       "      <td>1000</td>\n",
       "      <td>12</td>\n",
       "      <td>2.0</td>\n",
       "    </tr>\n",
       "    <tr>\n",
       "      <th>1</th>\n",
       "      <td>1001</td>\n",
       "      <td>8</td>\n",
       "      <td>7.0</td>\n",
       "    </tr>\n",
       "    <tr>\n",
       "      <th>2</th>\n",
       "      <td>1001</td>\n",
       "      <td>9</td>\n",
       "      <td>14.0</td>\n",
       "    </tr>\n",
       "    <tr>\n",
       "      <th>3</th>\n",
       "      <td>1001</td>\n",
       "      <td>10</td>\n",
       "      <td>22.0</td>\n",
       "    </tr>\n",
       "    <tr>\n",
       "      <th>4</th>\n",
       "      <td>1001</td>\n",
       "      <td>11</td>\n",
       "      <td>19.0</td>\n",
       "    </tr>\n",
       "  </tbody>\n",
       "</table>\n",
       "</div>"
      ],
      "text/plain": [
       "   user_id  month  total_gb\n",
       "0     1000     12       2.0\n",
       "1     1001      8       7.0\n",
       "2     1001      9      14.0\n",
       "3     1001     10      22.0\n",
       "4     1001     11      19.0"
      ]
     },
     "execution_count": 24,
     "metadata": {},
     "output_type": "execute_result"
    }
   ],
   "source": [
    "# Calcula el volumen del tráfico de Internet usado por cada usuario al mes. Guarda el resultado.\n",
    "\n",
    "monthly_internet = megaline_internet.groupby(['user_id','month']).agg(\n",
    "    total_gb = ('gb_used','sum')).reset_index()\n",
    "\n",
    "monthly_internet['total_gb'] = monthly_internet['total_gb'].apply(np.ceil)\n",
    "\n",
    "monthly_internet.head()\n",
    "\n"
   ]
  },
  {
   "cell_type": "code",
   "execution_count": 25,
   "metadata": {
    "id": "FW99ykyf0q1H"
   },
   "outputs": [
    {
     "data": {
      "text/html": [
       "<div>\n",
       "<style scoped>\n",
       "    .dataframe tbody tr th:only-of-type {\n",
       "        vertical-align: middle;\n",
       "    }\n",
       "\n",
       "    .dataframe tbody tr th {\n",
       "        vertical-align: top;\n",
       "    }\n",
       "\n",
       "    .dataframe thead th {\n",
       "        text-align: right;\n",
       "    }\n",
       "</style>\n",
       "<table border=\"1\" class=\"dataframe\">\n",
       "  <thead>\n",
       "    <tr style=\"text-align: right;\">\n",
       "      <th></th>\n",
       "      <th>user_id</th>\n",
       "      <th>month</th>\n",
       "      <th>total_calls</th>\n",
       "      <th>total_duration</th>\n",
       "      <th>total_messages</th>\n",
       "      <th>total_gb</th>\n",
       "    </tr>\n",
       "  </thead>\n",
       "  <tbody>\n",
       "    <tr>\n",
       "      <th>0</th>\n",
       "      <td>1000</td>\n",
       "      <td>12</td>\n",
       "      <td>16.0</td>\n",
       "      <td>124.0</td>\n",
       "      <td>11.0</td>\n",
       "      <td>2.0</td>\n",
       "    </tr>\n",
       "    <tr>\n",
       "      <th>1</th>\n",
       "      <td>1001</td>\n",
       "      <td>8</td>\n",
       "      <td>27.0</td>\n",
       "      <td>182.0</td>\n",
       "      <td>30.0</td>\n",
       "      <td>7.0</td>\n",
       "    </tr>\n",
       "    <tr>\n",
       "      <th>2</th>\n",
       "      <td>1001</td>\n",
       "      <td>9</td>\n",
       "      <td>49.0</td>\n",
       "      <td>315.0</td>\n",
       "      <td>44.0</td>\n",
       "      <td>14.0</td>\n",
       "    </tr>\n",
       "    <tr>\n",
       "      <th>3</th>\n",
       "      <td>1001</td>\n",
       "      <td>10</td>\n",
       "      <td>65.0</td>\n",
       "      <td>393.0</td>\n",
       "      <td>53.0</td>\n",
       "      <td>22.0</td>\n",
       "    </tr>\n",
       "    <tr>\n",
       "      <th>4</th>\n",
       "      <td>1001</td>\n",
       "      <td>11</td>\n",
       "      <td>64.0</td>\n",
       "      <td>426.0</td>\n",
       "      <td>36.0</td>\n",
       "      <td>19.0</td>\n",
       "    </tr>\n",
       "  </tbody>\n",
       "</table>\n",
       "</div>"
      ],
      "text/plain": [
       "   user_id  month  total_calls  total_duration  total_messages  total_gb\n",
       "0     1000     12         16.0           124.0            11.0       2.0\n",
       "1     1001      8         27.0           182.0            30.0       7.0\n",
       "2     1001      9         49.0           315.0            44.0      14.0\n",
       "3     1001     10         65.0           393.0            53.0      22.0\n",
       "4     1001     11         64.0           426.0            36.0      19.0"
      ]
     },
     "execution_count": 25,
     "metadata": {},
     "output_type": "execute_result"
    }
   ],
   "source": [
    "# Fusiona los datos de llamadas, minutos, mensajes e Internet con base en user_id y month\n",
    "monthly_info = monthly_calls.merge(monthly_messages, on = ['user_id','month'], how = 'outer')\n",
    "monthly_info = monthly_info.merge(monthly_internet, on = ['user_id','month'], how = 'outer')\n",
    "\n",
    "monthly_info.head()\n"
   ]
  },
  {
   "cell_type": "code",
   "execution_count": 26,
   "metadata": {
    "id": "0dNOXHag0q1H"
   },
   "outputs": [
    {
     "data": {
      "text/html": [
       "<div>\n",
       "<style scoped>\n",
       "    .dataframe tbody tr th:only-of-type {\n",
       "        vertical-align: middle;\n",
       "    }\n",
       "\n",
       "    .dataframe tbody tr th {\n",
       "        vertical-align: top;\n",
       "    }\n",
       "\n",
       "    .dataframe thead th {\n",
       "        text-align: right;\n",
       "    }\n",
       "</style>\n",
       "<table border=\"1\" class=\"dataframe\">\n",
       "  <thead>\n",
       "    <tr style=\"text-align: right;\">\n",
       "      <th></th>\n",
       "      <th>user_id</th>\n",
       "      <th>month</th>\n",
       "      <th>total_calls</th>\n",
       "      <th>total_duration</th>\n",
       "      <th>total_messages</th>\n",
       "      <th>total_gb</th>\n",
       "      <th>first_name</th>\n",
       "      <th>last_name</th>\n",
       "      <th>age</th>\n",
       "      <th>city</th>\n",
       "      <th>reg_date</th>\n",
       "      <th>plan</th>\n",
       "      <th>churn_date</th>\n",
       "      <th>messages_included</th>\n",
       "      <th>mb_per_month_included</th>\n",
       "      <th>minutes_included</th>\n",
       "      <th>usd_monthly_pay</th>\n",
       "      <th>usd_per_gb</th>\n",
       "      <th>usd_per_message</th>\n",
       "      <th>usd_per_minute</th>\n",
       "    </tr>\n",
       "  </thead>\n",
       "  <tbody>\n",
       "    <tr>\n",
       "      <th>0</th>\n",
       "      <td>1000</td>\n",
       "      <td>12</td>\n",
       "      <td>16.0</td>\n",
       "      <td>124.0</td>\n",
       "      <td>11.0</td>\n",
       "      <td>2.0</td>\n",
       "      <td>Anamaria</td>\n",
       "      <td>Bauer</td>\n",
       "      <td>45</td>\n",
       "      <td>Atlanta-Sandy Springs-Roswell, GA MSA</td>\n",
       "      <td>2018-12-24</td>\n",
       "      <td>ultimate</td>\n",
       "      <td>NaN</td>\n",
       "      <td>1000</td>\n",
       "      <td>30720</td>\n",
       "      <td>3000</td>\n",
       "      <td>70</td>\n",
       "      <td>7</td>\n",
       "      <td>0.01</td>\n",
       "      <td>0.01</td>\n",
       "    </tr>\n",
       "    <tr>\n",
       "      <th>1</th>\n",
       "      <td>1001</td>\n",
       "      <td>8</td>\n",
       "      <td>27.0</td>\n",
       "      <td>182.0</td>\n",
       "      <td>30.0</td>\n",
       "      <td>7.0</td>\n",
       "      <td>Mickey</td>\n",
       "      <td>Wilkerson</td>\n",
       "      <td>28</td>\n",
       "      <td>Seattle-Tacoma-Bellevue, WA MSA</td>\n",
       "      <td>2018-08-13</td>\n",
       "      <td>surf</td>\n",
       "      <td>NaN</td>\n",
       "      <td>50</td>\n",
       "      <td>15360</td>\n",
       "      <td>500</td>\n",
       "      <td>20</td>\n",
       "      <td>10</td>\n",
       "      <td>0.03</td>\n",
       "      <td>0.03</td>\n",
       "    </tr>\n",
       "    <tr>\n",
       "      <th>2</th>\n",
       "      <td>1001</td>\n",
       "      <td>9</td>\n",
       "      <td>49.0</td>\n",
       "      <td>315.0</td>\n",
       "      <td>44.0</td>\n",
       "      <td>14.0</td>\n",
       "      <td>Mickey</td>\n",
       "      <td>Wilkerson</td>\n",
       "      <td>28</td>\n",
       "      <td>Seattle-Tacoma-Bellevue, WA MSA</td>\n",
       "      <td>2018-08-13</td>\n",
       "      <td>surf</td>\n",
       "      <td>NaN</td>\n",
       "      <td>50</td>\n",
       "      <td>15360</td>\n",
       "      <td>500</td>\n",
       "      <td>20</td>\n",
       "      <td>10</td>\n",
       "      <td>0.03</td>\n",
       "      <td>0.03</td>\n",
       "    </tr>\n",
       "    <tr>\n",
       "      <th>3</th>\n",
       "      <td>1001</td>\n",
       "      <td>10</td>\n",
       "      <td>65.0</td>\n",
       "      <td>393.0</td>\n",
       "      <td>53.0</td>\n",
       "      <td>22.0</td>\n",
       "      <td>Mickey</td>\n",
       "      <td>Wilkerson</td>\n",
       "      <td>28</td>\n",
       "      <td>Seattle-Tacoma-Bellevue, WA MSA</td>\n",
       "      <td>2018-08-13</td>\n",
       "      <td>surf</td>\n",
       "      <td>NaN</td>\n",
       "      <td>50</td>\n",
       "      <td>15360</td>\n",
       "      <td>500</td>\n",
       "      <td>20</td>\n",
       "      <td>10</td>\n",
       "      <td>0.03</td>\n",
       "      <td>0.03</td>\n",
       "    </tr>\n",
       "    <tr>\n",
       "      <th>4</th>\n",
       "      <td>1001</td>\n",
       "      <td>11</td>\n",
       "      <td>64.0</td>\n",
       "      <td>426.0</td>\n",
       "      <td>36.0</td>\n",
       "      <td>19.0</td>\n",
       "      <td>Mickey</td>\n",
       "      <td>Wilkerson</td>\n",
       "      <td>28</td>\n",
       "      <td>Seattle-Tacoma-Bellevue, WA MSA</td>\n",
       "      <td>2018-08-13</td>\n",
       "      <td>surf</td>\n",
       "      <td>NaN</td>\n",
       "      <td>50</td>\n",
       "      <td>15360</td>\n",
       "      <td>500</td>\n",
       "      <td>20</td>\n",
       "      <td>10</td>\n",
       "      <td>0.03</td>\n",
       "      <td>0.03</td>\n",
       "    </tr>\n",
       "  </tbody>\n",
       "</table>\n",
       "</div>"
      ],
      "text/plain": [
       "  user_id  month  total_calls  total_duration  total_messages  total_gb  \\\n",
       "0    1000     12         16.0           124.0            11.0       2.0   \n",
       "1    1001      8         27.0           182.0            30.0       7.0   \n",
       "2    1001      9         49.0           315.0            44.0      14.0   \n",
       "3    1001     10         65.0           393.0            53.0      22.0   \n",
       "4    1001     11         64.0           426.0            36.0      19.0   \n",
       "\n",
       "  first_name  last_name  age                                   city  \\\n",
       "0   Anamaria      Bauer   45  Atlanta-Sandy Springs-Roswell, GA MSA   \n",
       "1     Mickey  Wilkerson   28        Seattle-Tacoma-Bellevue, WA MSA   \n",
       "2     Mickey  Wilkerson   28        Seattle-Tacoma-Bellevue, WA MSA   \n",
       "3     Mickey  Wilkerson   28        Seattle-Tacoma-Bellevue, WA MSA   \n",
       "4     Mickey  Wilkerson   28        Seattle-Tacoma-Bellevue, WA MSA   \n",
       "\n",
       "    reg_date      plan churn_date  messages_included  mb_per_month_included  \\\n",
       "0 2018-12-24  ultimate        NaN               1000                  30720   \n",
       "1 2018-08-13      surf        NaN                 50                  15360   \n",
       "2 2018-08-13      surf        NaN                 50                  15360   \n",
       "3 2018-08-13      surf        NaN                 50                  15360   \n",
       "4 2018-08-13      surf        NaN                 50                  15360   \n",
       "\n",
       "   minutes_included  usd_monthly_pay  usd_per_gb  usd_per_message  \\\n",
       "0              3000               70           7             0.01   \n",
       "1               500               20          10             0.03   \n",
       "2               500               20          10             0.03   \n",
       "3               500               20          10             0.03   \n",
       "4               500               20          10             0.03   \n",
       "\n",
       "   usd_per_minute  \n",
       "0            0.01  \n",
       "1            0.03  \n",
       "2            0.03  \n",
       "3            0.03  \n",
       "4            0.03  "
      ]
     },
     "execution_count": 26,
     "metadata": {},
     "output_type": "execute_result"
    }
   ],
   "source": [
    "# Añade la información de la tarifa\n",
    "\n",
    "\n",
    "user_info = megaline_users.merge(megaline_plans, on = 'plan')\n",
    "\n",
    "monthly_info = monthly_info.merge(user_info, on = 'user_id')\n",
    "\n",
    "monthly_info.head()"
   ]
  },
  {
   "cell_type": "code",
   "execution_count": 27,
   "metadata": {
    "id": "5FGCf_c60q1I"
   },
   "outputs": [
    {
     "data": {
      "text/html": [
       "<div>\n",
       "<style scoped>\n",
       "    .dataframe tbody tr th:only-of-type {\n",
       "        vertical-align: middle;\n",
       "    }\n",
       "\n",
       "    .dataframe tbody tr th {\n",
       "        vertical-align: top;\n",
       "    }\n",
       "\n",
       "    .dataframe thead th {\n",
       "        text-align: right;\n",
       "    }\n",
       "</style>\n",
       "<table border=\"1\" class=\"dataframe\">\n",
       "  <thead>\n",
       "    <tr style=\"text-align: right;\">\n",
       "      <th></th>\n",
       "      <th>user_id</th>\n",
       "      <th>month</th>\n",
       "      <th>total_calls</th>\n",
       "      <th>total_duration</th>\n",
       "      <th>total_messages</th>\n",
       "      <th>total_gb</th>\n",
       "      <th>first_name</th>\n",
       "      <th>last_name</th>\n",
       "      <th>age</th>\n",
       "      <th>city</th>\n",
       "      <th>...</th>\n",
       "      <th>usd_per_gb</th>\n",
       "      <th>usd_per_message</th>\n",
       "      <th>usd_per_minute</th>\n",
       "      <th>minutes_to_pay</th>\n",
       "      <th>minutes_price</th>\n",
       "      <th>messages_to_pay</th>\n",
       "      <th>messages_price</th>\n",
       "      <th>gb_to_pay</th>\n",
       "      <th>gb_price</th>\n",
       "      <th>total_price</th>\n",
       "    </tr>\n",
       "  </thead>\n",
       "  <tbody>\n",
       "    <tr>\n",
       "      <th>0</th>\n",
       "      <td>1000</td>\n",
       "      <td>12</td>\n",
       "      <td>16.0</td>\n",
       "      <td>124.0</td>\n",
       "      <td>11.0</td>\n",
       "      <td>2.0</td>\n",
       "      <td>Anamaria</td>\n",
       "      <td>Bauer</td>\n",
       "      <td>45</td>\n",
       "      <td>Atlanta-Sandy Springs-Roswell, GA MSA</td>\n",
       "      <td>...</td>\n",
       "      <td>7</td>\n",
       "      <td>0.01</td>\n",
       "      <td>0.01</td>\n",
       "      <td>0.0</td>\n",
       "      <td>0.0</td>\n",
       "      <td>0.0</td>\n",
       "      <td>0.00</td>\n",
       "      <td>0.0</td>\n",
       "      <td>0.0</td>\n",
       "      <td>70.00</td>\n",
       "    </tr>\n",
       "    <tr>\n",
       "      <th>1</th>\n",
       "      <td>1001</td>\n",
       "      <td>8</td>\n",
       "      <td>27.0</td>\n",
       "      <td>182.0</td>\n",
       "      <td>30.0</td>\n",
       "      <td>7.0</td>\n",
       "      <td>Mickey</td>\n",
       "      <td>Wilkerson</td>\n",
       "      <td>28</td>\n",
       "      <td>Seattle-Tacoma-Bellevue, WA MSA</td>\n",
       "      <td>...</td>\n",
       "      <td>10</td>\n",
       "      <td>0.03</td>\n",
       "      <td>0.03</td>\n",
       "      <td>0.0</td>\n",
       "      <td>0.0</td>\n",
       "      <td>0.0</td>\n",
       "      <td>0.00</td>\n",
       "      <td>0.0</td>\n",
       "      <td>0.0</td>\n",
       "      <td>20.00</td>\n",
       "    </tr>\n",
       "    <tr>\n",
       "      <th>2</th>\n",
       "      <td>1001</td>\n",
       "      <td>9</td>\n",
       "      <td>49.0</td>\n",
       "      <td>315.0</td>\n",
       "      <td>44.0</td>\n",
       "      <td>14.0</td>\n",
       "      <td>Mickey</td>\n",
       "      <td>Wilkerson</td>\n",
       "      <td>28</td>\n",
       "      <td>Seattle-Tacoma-Bellevue, WA MSA</td>\n",
       "      <td>...</td>\n",
       "      <td>10</td>\n",
       "      <td>0.03</td>\n",
       "      <td>0.03</td>\n",
       "      <td>0.0</td>\n",
       "      <td>0.0</td>\n",
       "      <td>0.0</td>\n",
       "      <td>0.00</td>\n",
       "      <td>0.0</td>\n",
       "      <td>0.0</td>\n",
       "      <td>20.00</td>\n",
       "    </tr>\n",
       "    <tr>\n",
       "      <th>3</th>\n",
       "      <td>1001</td>\n",
       "      <td>10</td>\n",
       "      <td>65.0</td>\n",
       "      <td>393.0</td>\n",
       "      <td>53.0</td>\n",
       "      <td>22.0</td>\n",
       "      <td>Mickey</td>\n",
       "      <td>Wilkerson</td>\n",
       "      <td>28</td>\n",
       "      <td>Seattle-Tacoma-Bellevue, WA MSA</td>\n",
       "      <td>...</td>\n",
       "      <td>10</td>\n",
       "      <td>0.03</td>\n",
       "      <td>0.03</td>\n",
       "      <td>0.0</td>\n",
       "      <td>0.0</td>\n",
       "      <td>3.0</td>\n",
       "      <td>0.09</td>\n",
       "      <td>7.0</td>\n",
       "      <td>70.0</td>\n",
       "      <td>90.09</td>\n",
       "    </tr>\n",
       "    <tr>\n",
       "      <th>4</th>\n",
       "      <td>1001</td>\n",
       "      <td>11</td>\n",
       "      <td>64.0</td>\n",
       "      <td>426.0</td>\n",
       "      <td>36.0</td>\n",
       "      <td>19.0</td>\n",
       "      <td>Mickey</td>\n",
       "      <td>Wilkerson</td>\n",
       "      <td>28</td>\n",
       "      <td>Seattle-Tacoma-Bellevue, WA MSA</td>\n",
       "      <td>...</td>\n",
       "      <td>10</td>\n",
       "      <td>0.03</td>\n",
       "      <td>0.03</td>\n",
       "      <td>0.0</td>\n",
       "      <td>0.0</td>\n",
       "      <td>0.0</td>\n",
       "      <td>0.00</td>\n",
       "      <td>4.0</td>\n",
       "      <td>40.0</td>\n",
       "      <td>60.00</td>\n",
       "    </tr>\n",
       "  </tbody>\n",
       "</table>\n",
       "<p>5 rows × 27 columns</p>\n",
       "</div>"
      ],
      "text/plain": [
       "  user_id  month  total_calls  total_duration  total_messages  total_gb  \\\n",
       "0    1000     12         16.0           124.0            11.0       2.0   \n",
       "1    1001      8         27.0           182.0            30.0       7.0   \n",
       "2    1001      9         49.0           315.0            44.0      14.0   \n",
       "3    1001     10         65.0           393.0            53.0      22.0   \n",
       "4    1001     11         64.0           426.0            36.0      19.0   \n",
       "\n",
       "  first_name  last_name  age                                   city  ...  \\\n",
       "0   Anamaria      Bauer   45  Atlanta-Sandy Springs-Roswell, GA MSA  ...   \n",
       "1     Mickey  Wilkerson   28        Seattle-Tacoma-Bellevue, WA MSA  ...   \n",
       "2     Mickey  Wilkerson   28        Seattle-Tacoma-Bellevue, WA MSA  ...   \n",
       "3     Mickey  Wilkerson   28        Seattle-Tacoma-Bellevue, WA MSA  ...   \n",
       "4     Mickey  Wilkerson   28        Seattle-Tacoma-Bellevue, WA MSA  ...   \n",
       "\n",
       "  usd_per_gb usd_per_message usd_per_minute  minutes_to_pay  minutes_price  \\\n",
       "0          7            0.01           0.01             0.0            0.0   \n",
       "1         10            0.03           0.03             0.0            0.0   \n",
       "2         10            0.03           0.03             0.0            0.0   \n",
       "3         10            0.03           0.03             0.0            0.0   \n",
       "4         10            0.03           0.03             0.0            0.0   \n",
       "\n",
       "   messages_to_pay  messages_price  gb_to_pay  gb_price  total_price  \n",
       "0              0.0            0.00        0.0       0.0        70.00  \n",
       "1              0.0            0.00        0.0       0.0        20.00  \n",
       "2              0.0            0.00        0.0       0.0        20.00  \n",
       "3              3.0            0.09        7.0      70.0        90.09  \n",
       "4              0.0            0.00        4.0      40.0        60.00  \n",
       "\n",
       "[5 rows x 27 columns]"
      ]
     },
     "execution_count": 27,
     "metadata": {},
     "output_type": "execute_result"
    }
   ],
   "source": [
    "# Calcula el ingreso mensual para cada usuario\n",
    "\n",
    "##LlAMADAS\n",
    "monthly_info['minutes_to_pay'] = monthly_info['total_duration'] - monthly_info['minutes_included']\n",
    "monthly_info['minutes_to_pay'] = monthly_info['minutes_to_pay'].apply(lambda x: max(x,0))\n",
    "monthly_info['minutes_price'] = monthly_info['minutes_to_pay'] * monthly_info['usd_per_minute']\n",
    "\n",
    "##MENSAJES\n",
    "monthly_info['messages_to_pay'] = monthly_info['total_messages'] - monthly_info['messages_included']\n",
    "monthly_info['messages_to_pay'] = monthly_info['messages_to_pay'].apply(lambda x: max(x,0))\n",
    "monthly_info['messages_price'] = monthly_info['messages_to_pay'] * monthly_info['usd_per_message']\n",
    "\n",
    "##INTERNET\n",
    "monthly_info['gb_to_pay'] = monthly_info['total_gb'] - monthly_info['mb_per_month_included']/1024\n",
    "monthly_info['gb_to_pay'] = monthly_info['gb_to_pay'].apply(lambda x: max(x,0))\n",
    "monthly_info['gb_price'] = monthly_info['gb_to_pay'] * monthly_info['usd_per_gb']\n",
    "\n",
    "monthly_info['total_price'] = monthly_info['gb_price'] + monthly_info['messages_price'] + monthly_info['minutes_price'] + monthly_info['usd_monthly_pay']\n",
    "\n",
    "monthly_info.head()"
   ]
  },
  {
   "cell_type": "markdown",
   "metadata": {
    "id": "-jtyHzJb0q1I"
   },
   "source": [
    "## Estudia el comportamiento de usuario"
   ]
  },
  {
   "cell_type": "markdown",
   "metadata": {
    "id": "vtW4CJEe0q1J"
   },
   "source": [
    "### Llamadas"
   ]
  },
  {
   "cell_type": "code",
   "execution_count": 28,
   "metadata": {
    "id": "Jf5v5--k0q1J"
   },
   "outputs": [
    {
     "data": {
      "text/html": [
       "<div>\n",
       "<style scoped>\n",
       "    .dataframe tbody tr th:only-of-type {\n",
       "        vertical-align: middle;\n",
       "    }\n",
       "\n",
       "    .dataframe tbody tr th {\n",
       "        vertical-align: top;\n",
       "    }\n",
       "\n",
       "    .dataframe thead th {\n",
       "        text-align: right;\n",
       "    }\n",
       "</style>\n",
       "<table border=\"1\" class=\"dataframe\">\n",
       "  <thead>\n",
       "    <tr style=\"text-align: right;\">\n",
       "      <th>plan</th>\n",
       "      <th>surf</th>\n",
       "      <th>ultimate</th>\n",
       "    </tr>\n",
       "    <tr>\n",
       "      <th>month</th>\n",
       "      <th></th>\n",
       "      <th></th>\n",
       "    </tr>\n",
       "  </thead>\n",
       "  <tbody>\n",
       "    <tr>\n",
       "      <th>1</th>\n",
       "      <td>203.000000</td>\n",
       "      <td>193.500000</td>\n",
       "    </tr>\n",
       "    <tr>\n",
       "      <th>2</th>\n",
       "      <td>297.000000</td>\n",
       "      <td>470.333333</td>\n",
       "    </tr>\n",
       "    <tr>\n",
       "      <th>3</th>\n",
       "      <td>330.000000</td>\n",
       "      <td>304.250000</td>\n",
       "    </tr>\n",
       "    <tr>\n",
       "      <th>4</th>\n",
       "      <td>351.540000</td>\n",
       "      <td>336.857143</td>\n",
       "    </tr>\n",
       "    <tr>\n",
       "      <th>5</th>\n",
       "      <td>410.240000</td>\n",
       "      <td>406.241379</td>\n",
       "    </tr>\n",
       "    <tr>\n",
       "      <th>6</th>\n",
       "      <td>435.791667</td>\n",
       "      <td>387.444444</td>\n",
       "    </tr>\n",
       "    <tr>\n",
       "      <th>7</th>\n",
       "      <td>453.733333</td>\n",
       "      <td>427.067797</td>\n",
       "    </tr>\n",
       "    <tr>\n",
       "      <th>8</th>\n",
       "      <td>417.849057</td>\n",
       "      <td>421.436620</td>\n",
       "    </tr>\n",
       "    <tr>\n",
       "      <th>9</th>\n",
       "      <td>420.732984</td>\n",
       "      <td>437.511628</td>\n",
       "    </tr>\n",
       "    <tr>\n",
       "      <th>10</th>\n",
       "      <td>438.991379</td>\n",
       "      <td>455.028571</td>\n",
       "    </tr>\n",
       "    <tr>\n",
       "      <th>11</th>\n",
       "      <td>432.494585</td>\n",
       "      <td>448.730159</td>\n",
       "    </tr>\n",
       "    <tr>\n",
       "      <th>12</th>\n",
       "      <td>484.501608</td>\n",
       "      <td>465.261745</td>\n",
       "    </tr>\n",
       "  </tbody>\n",
       "</table>\n",
       "</div>"
      ],
      "text/plain": [
       "plan         surf    ultimate\n",
       "month                        \n",
       "1      203.000000  193.500000\n",
       "2      297.000000  470.333333\n",
       "3      330.000000  304.250000\n",
       "4      351.540000  336.857143\n",
       "5      410.240000  406.241379\n",
       "6      435.791667  387.444444\n",
       "7      453.733333  427.067797\n",
       "8      417.849057  421.436620\n",
       "9      420.732984  437.511628\n",
       "10     438.991379  455.028571\n",
       "11     432.494585  448.730159\n",
       "12     484.501608  465.261745"
      ]
     },
     "metadata": {},
     "output_type": "display_data"
    }
   ],
   "source": [
    "# Compara la duración promedio de llamadas por cada plan y por cada mes. Traza un gráfico de barras para visualizarla.\n",
    "\n",
    "mean_duration= monthly_info.pivot_table(index='month', columns= 'plan', values = 'total_duration', aggfunc='mean')\n",
    "display(mean_duration)\n"
   ]
  },
  {
   "cell_type": "code",
   "execution_count": 29,
   "metadata": {
    "id": "QoLqW1S_0q1J"
   },
   "outputs": [
    {
     "data": {
      "text/plain": [
       "<AxesSubplot:xlabel='month'>"
      ]
     },
     "execution_count": 29,
     "metadata": {},
     "output_type": "execute_result"
    },
    {
     "data": {
      "image/png": "[encoded data removed]",
      "text/plain": [
       "<Figure size 640x480 with 1 Axes>"
      ]
     },
     "metadata": {},
     "output_type": "display_data"
    }
   ],
   "source": [
    "# Compara el número de minutos mensuales que necesitan los usuarios de cada plan. Traza un histograma.\n",
    "\n",
    "mean_duration.plot(kind='bar')\n"
   ]
  },
  {
   "cell_type": "code",
   "execution_count": 30,
   "metadata": {
    "id": "oSndbAnt0q1K"
   },
   "outputs": [
    {
     "data": {
      "text/html": [
       "<div>\n",
       "<style scoped>\n",
       "    .dataframe tbody tr th:only-of-type {\n",
       "        vertical-align: middle;\n",
       "    }\n",
       "\n",
       "    .dataframe tbody tr th {\n",
       "        vertical-align: top;\n",
       "    }\n",
       "\n",
       "    .dataframe thead th {\n",
       "        text-align: right;\n",
       "    }\n",
       "</style>\n",
       "<table border=\"1\" class=\"dataframe\">\n",
       "  <thead>\n",
       "    <tr style=\"text-align: right;\">\n",
       "      <th></th>\n",
       "      <th>mean</th>\n",
       "      <th>var</th>\n",
       "    </tr>\n",
       "    <tr>\n",
       "      <th>plan</th>\n",
       "      <th></th>\n",
       "      <th></th>\n",
       "    </tr>\n",
       "  </thead>\n",
       "  <tbody>\n",
       "    <tr>\n",
       "      <th>surf</th>\n",
       "      <td>436.519741</td>\n",
       "      <td>52571.063243</td>\n",
       "    </tr>\n",
       "    <tr>\n",
       "      <th>ultimate</th>\n",
       "      <td>434.676017</td>\n",
       "      <td>56573.632247</td>\n",
       "    </tr>\n",
       "  </tbody>\n",
       "</table>\n",
       "</div>"
      ],
      "text/plain": [
       "                mean           var\n",
       "plan                              \n",
       "surf      436.519741  52571.063243\n",
       "ultimate  434.676017  56573.632247"
      ]
     },
     "execution_count": 30,
     "metadata": {},
     "output_type": "execute_result"
    }
   ],
   "source": [
    "# Calcula la media y la varianza de la duración mensual de llamadas.\n",
    "\n",
    "duration_mean_per_month = monthly_info.pivot_table(index='plan',values='total_duration', aggfunc=['mean','var'])\n",
    "\n",
    "duration_mean_per_month.columns = ['mean','var']\n",
    "\n",
    "duration_mean_per_month"
   ]
  },
  {
   "cell_type": "code",
   "execution_count": 31,
   "metadata": {
    "id": "nZzoRUKc0q1K"
   },
   "outputs": [
    {
     "data": {
      "image/png": "[encoded data removed]",
      "text/plain": [
       "<Figure size 640x480 with 1 Axes>"
      ]
     },
     "metadata": {},
     "output_type": "display_data"
    }
   ],
   "source": [
    "# Traza un diagrama de caja para visualizar la distribución de la duración mensual de llamadas\n",
    "\n",
    "surf = monthly_info.query('plan == \"surf\"')\n",
    "ultimate = monthly_info.query('plan == \"ultimate\"' )\n",
    "\n",
    "plt.hist(surf['total_duration'], bins= 20 ,label = 'surf')\n",
    "plt.hist(ultimate['total_duration'], bins= 20, label = 'ultimate')\n",
    "plt.legend()\n",
    "plt.show()"
   ]
  },
  {
   "cell_type": "markdown",
   "metadata": {
    "id": "r627zBO50q1K"
   },
   "source": [
    "El comportamiento de los usuarios con respecto a las llamadas si varia en funcion al al plan. Los minutos usado en el plan SURF son mayores al del plan ultimate. "
   ]
  },
  {
   "cell_type": "markdown",
   "metadata": {
    "id": "8idKy8Wh0q1L"
   },
   "source": [
    "### Mensajes"
   ]
  },
  {
   "cell_type": "code",
   "execution_count": 32,
   "metadata": {
    "id": "NXLxiTit0q1L"
   },
   "outputs": [
    {
     "data": {
      "text/html": [
       "<div>\n",
       "<style scoped>\n",
       "    .dataframe tbody tr th:only-of-type {\n",
       "        vertical-align: middle;\n",
       "    }\n",
       "\n",
       "    .dataframe tbody tr th {\n",
       "        vertical-align: top;\n",
       "    }\n",
       "\n",
       "    .dataframe thead th {\n",
       "        text-align: right;\n",
       "    }\n",
       "</style>\n",
       "<table border=\"1\" class=\"dataframe\">\n",
       "  <thead>\n",
       "    <tr style=\"text-align: right;\">\n",
       "      <th>plan</th>\n",
       "      <th>surf</th>\n",
       "      <th>ultimate</th>\n",
       "    </tr>\n",
       "    <tr>\n",
       "      <th>month</th>\n",
       "      <th></th>\n",
       "      <th></th>\n",
       "    </tr>\n",
       "  </thead>\n",
       "  <tbody>\n",
       "    <tr>\n",
       "      <th>1</th>\n",
       "      <td>21.0</td>\n",
       "      <td>21.0</td>\n",
       "    </tr>\n",
       "    <tr>\n",
       "      <th>2</th>\n",
       "      <td>22.0</td>\n",
       "      <td>26.0</td>\n",
       "    </tr>\n",
       "    <tr>\n",
       "      <th>3</th>\n",
       "      <td>22.0</td>\n",
       "      <td>35.0</td>\n",
       "    </tr>\n",
       "    <tr>\n",
       "      <th>4</th>\n",
       "      <td>25.0</td>\n",
       "      <td>29.0</td>\n",
       "    </tr>\n",
       "    <tr>\n",
       "      <th>5</th>\n",
       "      <td>34.0</td>\n",
       "      <td>45.0</td>\n",
       "    </tr>\n",
       "    <tr>\n",
       "      <th>6</th>\n",
       "      <td>34.0</td>\n",
       "      <td>37.0</td>\n",
       "    </tr>\n",
       "    <tr>\n",
       "      <th>7</th>\n",
       "      <td>36.0</td>\n",
       "      <td>42.0</td>\n",
       "    </tr>\n",
       "    <tr>\n",
       "      <th>8</th>\n",
       "      <td>38.0</td>\n",
       "      <td>48.0</td>\n",
       "    </tr>\n",
       "    <tr>\n",
       "      <th>9</th>\n",
       "      <td>40.0</td>\n",
       "      <td>46.0</td>\n",
       "    </tr>\n",
       "    <tr>\n",
       "      <th>10</th>\n",
       "      <td>43.0</td>\n",
       "      <td>47.0</td>\n",
       "    </tr>\n",
       "    <tr>\n",
       "      <th>11</th>\n",
       "      <td>41.0</td>\n",
       "      <td>48.0</td>\n",
       "    </tr>\n",
       "    <tr>\n",
       "      <th>12</th>\n",
       "      <td>49.0</td>\n",
       "      <td>54.0</td>\n",
       "    </tr>\n",
       "  </tbody>\n",
       "</table>\n",
       "</div>"
      ],
      "text/plain": [
       "plan   surf  ultimate\n",
       "month                \n",
       "1      21.0      21.0\n",
       "2      22.0      26.0\n",
       "3      22.0      35.0\n",
       "4      25.0      29.0\n",
       "5      34.0      45.0\n",
       "6      34.0      37.0\n",
       "7      36.0      42.0\n",
       "8      38.0      48.0\n",
       "9      40.0      46.0\n",
       "10     43.0      47.0\n",
       "11     41.0      48.0\n",
       "12     49.0      54.0"
      ]
     },
     "metadata": {},
     "output_type": "display_data"
    }
   ],
   "source": [
    "# Comprara el número de mensajes que tienden a enviar cada mes los usuarios de cada plan\n",
    "mean_messages= monthly_info.pivot_table(index='month', columns= 'plan', values = 'total_messages', aggfunc='mean').apply(np.ceil)\n",
    "display(mean_messages)\n"
   ]
  },
  {
   "cell_type": "code",
   "execution_count": 33,
   "metadata": {
    "id": "GRI_R7xF0q1L"
   },
   "outputs": [
    {
     "data": {
      "text/html": [
       "<div>\n",
       "<style scoped>\n",
       "    .dataframe tbody tr th:only-of-type {\n",
       "        vertical-align: middle;\n",
       "    }\n",
       "\n",
       "    .dataframe tbody tr th {\n",
       "        vertical-align: top;\n",
       "    }\n",
       "\n",
       "    .dataframe thead th {\n",
       "        text-align: right;\n",
       "    }\n",
       "</style>\n",
       "<table border=\"1\" class=\"dataframe\">\n",
       "  <thead>\n",
       "    <tr style=\"text-align: right;\">\n",
       "      <th>plan</th>\n",
       "      <th>surf</th>\n",
       "      <th>ultimate</th>\n",
       "    </tr>\n",
       "    <tr>\n",
       "      <th>month</th>\n",
       "      <th></th>\n",
       "      <th></th>\n",
       "    </tr>\n",
       "  </thead>\n",
       "  <tbody>\n",
       "    <tr>\n",
       "      <th>1</th>\n",
       "      <td>5.000000</td>\n",
       "      <td>7.250000</td>\n",
       "    </tr>\n",
       "    <tr>\n",
       "      <th>2</th>\n",
       "      <td>12.222222</td>\n",
       "      <td>17.285714</td>\n",
       "    </tr>\n",
       "    <tr>\n",
       "      <th>3</th>\n",
       "      <td>13.565217</td>\n",
       "      <td>18.416667</td>\n",
       "    </tr>\n",
       "    <tr>\n",
       "      <th>4</th>\n",
       "      <td>12.469388</td>\n",
       "      <td>16.333333</td>\n",
       "    </tr>\n",
       "    <tr>\n",
       "      <th>5</th>\n",
       "      <td>14.302632</td>\n",
       "      <td>16.862069</td>\n",
       "    </tr>\n",
       "    <tr>\n",
       "      <th>6</th>\n",
       "      <td>15.810526</td>\n",
       "      <td>15.425532</td>\n",
       "    </tr>\n",
       "    <tr>\n",
       "      <th>7</th>\n",
       "      <td>17.016667</td>\n",
       "      <td>16.491525</td>\n",
       "    </tr>\n",
       "    <tr>\n",
       "      <th>8</th>\n",
       "      <td>17.201258</td>\n",
       "      <td>17.845070</td>\n",
       "    </tr>\n",
       "    <tr>\n",
       "      <th>9</th>\n",
       "      <td>16.777202</td>\n",
       "      <td>17.011628</td>\n",
       "    </tr>\n",
       "    <tr>\n",
       "      <th>10</th>\n",
       "      <td>17.632479</td>\n",
       "      <td>17.885714</td>\n",
       "    </tr>\n",
       "    <tr>\n",
       "      <th>11</th>\n",
       "      <td>16.548043</td>\n",
       "      <td>17.118110</td>\n",
       "    </tr>\n",
       "    <tr>\n",
       "      <th>12</th>\n",
       "      <td>18.296530</td>\n",
       "      <td>18.397351</td>\n",
       "    </tr>\n",
       "  </tbody>\n",
       "</table>\n",
       "</div>"
      ],
      "text/plain": [
       "plan        surf   ultimate\n",
       "month                      \n",
       "1       5.000000   7.250000\n",
       "2      12.222222  17.285714\n",
       "3      13.565217  18.416667\n",
       "4      12.469388  16.333333\n",
       "5      14.302632  16.862069\n",
       "6      15.810526  15.425532\n",
       "7      17.016667  16.491525\n",
       "8      17.201258  17.845070\n",
       "9      16.777202  17.011628\n",
       "10     17.632479  17.885714\n",
       "11     16.548043  17.118110\n",
       "12     18.296530  18.397351"
      ]
     },
     "metadata": {},
     "output_type": "display_data"
    }
   ],
   "source": [
    "# Compara la cantidad de tráfico de Internet consumido por usuarios por plan\n",
    "\n",
    "mean_internet= monthly_info.pivot_table(index='month', columns= 'plan', values = 'total_gb', aggfunc='mean')\n",
    "display(mean_internet)\n"
   ]
  },
  {
   "cell_type": "code",
   "execution_count": 34,
   "metadata": {
    "id": "dtFwCGAp0q1M"
   },
   "outputs": [
    {
     "data": {
      "text/plain": [
       "<AxesSubplot:title={'center':'Comparison messages per month for SURF and ULTIMATE'}, xlabel='month'>"
      ]
     },
     "execution_count": 34,
     "metadata": {},
     "output_type": "execute_result"
    },
    {
     "data": {
      "image/png": "[encoded data removed]",
      "text/plain": [
       "<Figure size 640x480 with 1 Axes>"
      ]
     },
     "metadata": {},
     "output_type": "display_data"
    }
   ],
   "source": [
    "mean_messages.plot(kind='bar', title= 'Comparison messages per month for SURF and ULTIMATE')\n"
   ]
  },
  {
   "cell_type": "markdown",
   "metadata": {
    "id": "390SSL480q1M"
   },
   "source": [
    "Con respeceto a los mensajes el comportamiento de los usuarios de ULTIMATE es mayor a SURF. A excepcion del primer mes del año, que fue igual para ambos."
   ]
  },
  {
   "cell_type": "markdown",
   "metadata": {
    "id": "42YSypXz0q1M"
   },
   "source": [
    "### Internet"
   ]
  },
  {
   "cell_type": "code",
   "execution_count": 35,
   "metadata": {
    "id": "lSuKPtjh0q1M"
   },
   "outputs": [
    {
     "data": {
      "text/plain": [
       "<AxesSubplot:title={'center':'Comparison internet per month for SURF and ULTIMATE'}, xlabel='month'>"
      ]
     },
     "execution_count": 35,
     "metadata": {},
     "output_type": "execute_result"
    },
    {
     "data": {
      "image/png": "[encoded data removed]",
      "text/plain": [
       "<Figure size 640x480 with 1 Axes>"
      ]
     },
     "metadata": {},
     "output_type": "display_data"
    }
   ],
   "source": [
    "mean_internet.plot(kind='bar', title= 'Comparison internet per month for SURF and ULTIMATE')"
   ]
  },
  {
   "cell_type": "markdown",
   "metadata": {
    "id": "UN9zwuMP0q1N"
   },
   "source": [
    "Los primeros 5 meses del año el trafico de internet de los usuarios de ULTIMATE era mucho mayor que la de SURF. Pasando el mes 5 la brecha se fue disminuyendo."
   ]
  },
  {
   "cell_type": "markdown",
   "metadata": {
    "id": "tCijq3260q1N"
   },
   "source": [
    "## Ingreso"
   ]
  },
  {
   "cell_type": "markdown",
   "metadata": {
    "id": "9nq5IAcy0q1O"
   },
   "source": [
    "[Del mismo modo que has estudiado el comportamiento de los usuarios, describe estadísticamente los ingresos de los planes.]"
   ]
  },
  {
   "cell_type": "code",
   "execution_count": 36,
   "metadata": {
    "id": "tz-dq_V00q1O"
   },
   "outputs": [
    {
     "data": {
      "text/html": [
       "<div>\n",
       "<style scoped>\n",
       "    .dataframe tbody tr th:only-of-type {\n",
       "        vertical-align: middle;\n",
       "    }\n",
       "\n",
       "    .dataframe tbody tr th {\n",
       "        vertical-align: top;\n",
       "    }\n",
       "\n",
       "    .dataframe thead th {\n",
       "        text-align: right;\n",
       "    }\n",
       "</style>\n",
       "<table border=\"1\" class=\"dataframe\">\n",
       "  <thead>\n",
       "    <tr style=\"text-align: right;\">\n",
       "      <th>plan</th>\n",
       "      <th>surf</th>\n",
       "      <th>ultimate</th>\n",
       "    </tr>\n",
       "    <tr>\n",
       "      <th>month</th>\n",
       "      <th></th>\n",
       "      <th></th>\n",
       "    </tr>\n",
       "  </thead>\n",
       "  <tbody>\n",
       "    <tr>\n",
       "      <th>1</th>\n",
       "      <td>20.00</td>\n",
       "      <td>210.0</td>\n",
       "    </tr>\n",
       "    <tr>\n",
       "      <th>2</th>\n",
       "      <td>119.57</td>\n",
       "      <td>350.0</td>\n",
       "    </tr>\n",
       "    <tr>\n",
       "      <th>3</th>\n",
       "      <td>616.65</td>\n",
       "      <td>546.0</td>\n",
       "    </tr>\n",
       "    <tr>\n",
       "      <th>4</th>\n",
       "      <td>1420.70</td>\n",
       "      <td>1169.0</td>\n",
       "    </tr>\n",
       "    <tr>\n",
       "      <th>5</th>\n",
       "      <td>2695.43</td>\n",
       "      <td>1491.0</td>\n",
       "    </tr>\n",
       "    <tr>\n",
       "      <th>6</th>\n",
       "      <td>3645.67</td>\n",
       "      <td>2667.0</td>\n",
       "    </tr>\n",
       "    <tr>\n",
       "      <th>7</th>\n",
       "      <td>5500.77</td>\n",
       "      <td>3402.0</td>\n",
       "    </tr>\n",
       "    <tr>\n",
       "      <th>8</th>\n",
       "      <td>7661.59</td>\n",
       "      <td>4130.0</td>\n",
       "    </tr>\n",
       "    <tr>\n",
       "      <th>9</th>\n",
       "      <td>8407.94</td>\n",
       "      <td>5068.0</td>\n",
       "    </tr>\n",
       "    <tr>\n",
       "      <th>10</th>\n",
       "      <td>11831.67</td>\n",
       "      <td>6349.0</td>\n",
       "    </tr>\n",
       "    <tr>\n",
       "      <th>11</th>\n",
       "      <td>12451.42</td>\n",
       "      <td>7357.0</td>\n",
       "    </tr>\n",
       "    <tr>\n",
       "      <th>12</th>\n",
       "      <td>16919.28</td>\n",
       "      <td>9093.0</td>\n",
       "    </tr>\n",
       "  </tbody>\n",
       "</table>\n",
       "</div>"
      ],
      "text/plain": [
       "plan       surf  ultimate\n",
       "month                    \n",
       "1         20.00     210.0\n",
       "2        119.57     350.0\n",
       "3        616.65     546.0\n",
       "4       1420.70    1169.0\n",
       "5       2695.43    1491.0\n",
       "6       3645.67    2667.0\n",
       "7       5500.77    3402.0\n",
       "8       7661.59    4130.0\n",
       "9       8407.94    5068.0\n",
       "10     11831.67    6349.0\n",
       "11     12451.42    7357.0\n",
       "12     16919.28    9093.0"
      ]
     },
     "metadata": {},
     "output_type": "display_data"
    }
   ],
   "source": [
    "mean_total_income= monthly_info.pivot_table(index='month', columns= 'plan', values = 'total_price', aggfunc='sum')\n",
    "display(mean_total_income)"
   ]
  },
  {
   "cell_type": "code",
   "execution_count": 37,
   "metadata": {
    "id": "0Y1v8ZUz0q1P"
   },
   "outputs": [
    {
     "data": {
      "text/plain": [
       "<AxesSubplot:title={'center':'Comparison incomes per month for SURF and ULTIMATE'}, xlabel='month'>"
      ]
     },
     "execution_count": 37,
     "metadata": {},
     "output_type": "execute_result"
    },
    {
     "data": {
      "image/png": "[encoded data removed]",
      "text/plain": [
       "<Figure size 640x480 with 1 Axes>"
      ]
     },
     "metadata": {},
     "output_type": "display_data"
    }
   ],
   "source": [
    "mean_total_income.plot(kind='bar', title= 'Comparison incomes per month for SURF and ULTIMATE')"
   ]
  },
  {
   "cell_type": "markdown",
   "metadata": {
    "id": "KAFidcXZ0q1P"
   },
   "source": [
    "Se concluye que los ingresos mensuales por usuario son mayor en el plan SURF a diferencia del plan ULTIMATE que tiene menos ingresos."
   ]
  },
  {
   "cell_type": "markdown",
   "metadata": {
    "id": "ajJ7VKeI0q1Q"
   },
   "source": [
    "## Prueba las hipótesis estadísticas"
   ]
  },
  {
   "cell_type": "markdown",
   "metadata": {
    "id": "IQwa_hsh0q1Q"
   },
   "source": [
    "El ingreso promedio de los usuario de las tarifas ULTIMATE Y SURF difieren:\n",
    "\n",
    "- H0: El ingreso promedio de los usuarios ULTIMATE y SURF son iguales.\n",
    "- HA: El ingreso promedio de los usuarios ULTIMATE y SURF son distintos."
   ]
  },
  {
   "cell_type": "code",
   "execution_count": 38,
   "metadata": {
    "id": "nFoPNlPq0q1R"
   },
   "outputs": [
    {
     "name": "stdout",
     "output_type": "stream",
     "text": [
      "p-value:5.756661975640558e-13 - Rechazamos la hipotesis nula\n"
     ]
    }
   ],
   "source": [
    "# Prueba las hipótesis\n",
    "alpha = 0.05\n",
    "\n",
    "surf_income = monthly_info[monthly_info['plan'] == 'surf']['total_price'].dropna()\n",
    "ultimate_income = monthly_info[monthly_info['plan'] == 'ultimate']['total_price'].dropna()\n",
    "\n",
    "_, pvalue = ttest_ind(surf_income,ultimate_income, equal_var = False)\n",
    "\n",
    "if pvalue < alpha:\n",
    "    print(f'p-value:{pvalue} - Rechazamos la hipotesis nula')\n",
    "else:\n",
    "    print(f'p-value:{pvalue} - No Rechazamos la hipotesis nula')\n"
   ]
  },
  {
   "cell_type": "markdown",
   "metadata": {
    "id": "tCcAruM60q1R"
   },
   "source": [
    "\n",
    "El ingreso promedio de los usuarios del area NY-NJ difieren a los de otras regiones:\n",
    "\n",
    "- H0: El ingreso promedio de los usuarios de NY-NJ son iguales.\n",
    "- HA: El ingreso promedio de los usuarios NY-NJ son distintos."
   ]
  },
  {
   "cell_type": "code",
   "execution_count": 39,
   "metadata": {
    "id": "Cqcj7wrZ0q1S"
   },
   "outputs": [
    {
     "name": "stdout",
     "output_type": "stream",
     "text": [
      "p-value:0.004477811025531861 - Rechazamos la hipotesis nula\n"
     ]
    }
   ],
   "source": [
    "# Prueba las hipótesis\n",
    "\n",
    "#New York-Newark-Jersey City, NY-NJ-PA MSA\n",
    "\n",
    "income_NY_NJ = monthly_info[monthly_info['city'] == 'New York-Newark-Jersey City, NY-NJ-PA MSA']['total_price'].dropna()\n",
    "income_other_cities = monthly_info[monthly_info['city'] != 'New York-Newark-Jersey City, NY-NJ-PA MSA']['total_price'].dropna()\n",
    "\n",
    "_, pvalue = ttest_ind(income_NY_NJ,income_other_cities, equal_var = False)\n",
    "\n",
    "if pvalue < alpha:\n",
    "    print(f'p-value:{pvalue} - Rechazamos la hipotesis nula')\n",
    "else:\n",
    "    print(f'p-value:{pvalue} - No Rechazamos la hipotesis nula')"
   ]
  },
  {
   "cell_type": "markdown",
   "metadata": {
    "id": "bbTR8UQO0q1T"
   },
   "source": [
    "## Conclusión general\n",
    "\n",
    "[En esta sección final, enumera tus conclusiones importantes. Asegúrate de que estas abarquen todas las decisiones (suposiciones) importantes que adoptaste y que determinaron la forma elegida para procesar y analizar los datos.]"
   ]
  },
  {
   "cell_type": "markdown",
   "metadata": {},
   "source": [
    "- Se concluye que el plan SURF genera mas ingresos que el plan ULTIMATE. La empresa deberia invertir mas publicidad en este plan\n",
    "- Se rechaza la hipotesis que los ingresos promedio de los usuarios ULTIMATE y SURF son iguales.\n",
    "- Se rechaza la hipotesis que los ingresos promedio de los usuarios de NY-NJ son iguales."
   ]
  },
  {
   "cell_type": "code",
   "execution_count": null,
   "metadata": {},
   "outputs": [],
   "source": []
  }
 ],
 "metadata": {
  "ExecuteTimeLog": [
   {
    "duration": 828,
    "start_time": "2021-11-16T09:21:11.304Z"
   },
   {
    "duration": 893,
    "start_time": "2021-11-16T09:21:17.728Z"
   },
   {
    "duration": 1150,
    "start_time": "2021-11-16T09:21:29.568Z"
   },
   {
    "duration": 3,
    "start_time": "2021-11-16T09:24:14.495Z"
   },
   {
    "duration": 120,
    "start_time": "2021-11-16T09:24:46.630Z"
   },
   {
    "duration": 3,
    "start_time": "2021-11-16T09:28:27.882Z"
   },
   {
    "duration": 4,
    "start_time": "2021-11-16T09:29:54.281Z"
   },
   {
    "duration": 3,
    "start_time": "2021-11-16T09:30:45.936Z"
   },
   {
    "duration": 4,
    "start_time": "2021-11-16T09:31:06.300Z"
   },
   {
    "duration": 113,
    "start_time": "2021-11-16T09:31:37.208Z"
   },
   {
    "duration": 143,
    "start_time": "2021-11-16T09:31:48.656Z"
   },
   {
    "duration": 98,
    "start_time": "2021-11-16T09:31:55.678Z"
   },
   {
    "duration": 3,
    "start_time": "2021-11-16T09:32:08.535Z"
   },
   {
    "duration": 111,
    "start_time": "2021-11-16T09:32:10.120Z"
   },
   {
    "duration": 3,
    "start_time": "2021-11-16T09:32:15.732Z"
   },
   {
    "duration": 4,
    "start_time": "2021-11-16T09:32:29.423Z"
   },
   {
    "duration": 3,
    "start_time": "2021-11-16T10:03:03.074Z"
   },
   {
    "duration": 3,
    "start_time": "2021-11-16T10:10:01.288Z"
   },
   {
    "duration": 3,
    "start_time": "2021-11-16T10:10:46.923Z"
   },
   {
    "duration": 121,
    "start_time": "2021-11-16T10:37:46.494Z"
   },
   {
    "duration": 125,
    "start_time": "2021-11-16T10:38:20.632Z"
   },
   {
    "duration": 112,
    "start_time": "2021-11-16T10:46:53.001Z"
   },
   {
    "duration": 110,
    "start_time": "2021-11-16T10:48:25.775Z"
   },
   {
    "duration": 3,
    "start_time": "2021-11-16T10:50:18.720Z"
   },
   {
    "duration": 4,
    "start_time": "2021-11-16T10:50:37.649Z"
   },
   {
    "duration": 2,
    "start_time": "2021-11-16T10:50:51.884Z"
   },
   {
    "duration": 3,
    "start_time": "2021-11-16T10:51:56.237Z"
   },
   {
    "duration": 101,
    "start_time": "2021-11-16T10:53:13.791Z"
   },
   {
    "duration": 3,
    "start_time": "2021-11-16T10:55:59.186Z"
   },
   {
    "duration": 3,
    "start_time": "2021-11-16T10:56:10.751Z"
   },
   {
    "duration": 3,
    "start_time": "2021-11-16T10:56:49.038Z"
   },
   {
    "duration": 3,
    "start_time": "2021-11-16T10:56:49.174Z"
   },
   {
    "duration": 4,
    "start_time": "2021-11-16T10:56:49.414Z"
   },
   {
    "duration": 3,
    "start_time": "2021-11-16T10:56:49.680Z"
   },
   {
    "duration": 3,
    "start_time": "2021-11-16T10:56:50.370Z"
   },
   {
    "duration": 114,
    "start_time": "2021-11-16T10:59:34.518Z"
   },
   {
    "duration": 3,
    "start_time": "2021-11-16T11:01:41.201Z"
   },
   {
    "duration": 116,
    "start_time": "2021-11-16T11:01:48.754Z"
   },
   {
    "duration": 3,
    "start_time": "2021-11-16T11:02:16.685Z"
   },
   {
    "duration": 3,
    "start_time": "2021-11-16T11:02:19.479Z"
   },
   {
    "duration": 3,
    "start_time": "2021-11-16T11:02:47.067Z"
   },
   {
    "duration": 3,
    "start_time": "2021-11-16T11:02:49.353Z"
   },
   {
    "duration": 3,
    "start_time": "2021-11-16T11:03:07.835Z"
   },
   {
    "duration": 3,
    "start_time": "2021-11-16T11:03:07.953Z"
   },
   {
    "duration": 112,
    "start_time": "2021-11-16T11:07:52.072Z"
   },
   {
    "duration": 187,
    "start_time": "2021-11-16T11:09:23.468Z"
   },
   {
    "duration": 4,
    "start_time": "2021-11-16T11:10:01.455Z"
   },
   {
    "duration": 3,
    "start_time": "2021-11-16T11:10:05.069Z"
   },
   {
    "duration": 4,
    "start_time": "2021-11-16T11:10:13.376Z"
   },
   {
    "duration": 3,
    "start_time": "2021-11-16T11:10:14.434Z"
   },
   {
    "duration": 3,
    "start_time": "2021-11-16T11:10:22.853Z"
   },
   {
    "duration": 4,
    "start_time": "2021-11-16T11:27:29.279Z"
   },
   {
    "duration": 4,
    "start_time": "2021-11-16T11:29:08.919Z"
   },
   {
    "duration": 118,
    "start_time": "2021-11-16T11:29:46.703Z"
   },
   {
    "duration": 437,
    "start_time": "2021-11-16T11:36:02.181Z"
   },
   {
    "duration": 157,
    "start_time": "2021-11-16T11:36:14.388Z"
   },
   {
    "duration": 207,
    "start_time": "2021-11-16T11:47:15.898Z"
   },
   {
    "duration": 3,
    "start_time": "2021-11-16T11:53:52.092Z"
   },
   {
    "duration": 3,
    "start_time": "2021-11-16T11:53:52.236Z"
   },
   {
    "duration": 3,
    "start_time": "2021-11-16T11:59:12.005Z"
   },
   {
    "duration": 112,
    "start_time": "2021-11-16T12:00:33.446Z"
   },
   {
    "duration": 3,
    "start_time": "2021-11-16T12:02:14.453Z"
   },
   {
    "duration": 3,
    "start_time": "2021-11-16T12:02:39.512Z"
   },
   {
    "duration": 106,
    "start_time": "2021-11-16T12:03:03.460Z"
   },
   {
    "duration": 3,
    "start_time": "2021-11-17T20:37:21.139Z"
   },
   {
    "duration": 3,
    "start_time": "2021-11-17T20:37:22.229Z"
   },
   {
    "duration": 3,
    "start_time": "2021-11-17T20:38:38.806Z"
   },
   {
    "duration": 3,
    "start_time": "2021-11-17T20:38:41.958Z"
   },
   {
    "duration": 3,
    "start_time": "2021-11-17T20:43:46.551Z"
   },
   {
    "duration": 4,
    "start_time": "2021-11-17T20:58:21.835Z"
   },
   {
    "duration": 3,
    "start_time": "2021-11-17T20:59:21.872Z"
   },
   {
    "duration": 4,
    "start_time": "2021-11-17T20:59:45.352Z"
   },
   {
    "duration": 4,
    "start_time": "2021-11-17T20:59:49.646Z"
   },
   {
    "duration": 159,
    "start_time": "2021-11-17T21:02:26.949Z"
   },
   {
    "duration": 3,
    "start_time": "2021-11-17T21:03:53.461Z"
   },
   {
    "duration": 3,
    "start_time": "2021-11-17T21:03:53.694Z"
   },
   {
    "duration": 3,
    "start_time": "2021-11-17T21:05:28.145Z"
   },
   {
    "duration": 116,
    "start_time": "2021-11-17T21:05:57.787Z"
   },
   {
    "duration": 3,
    "start_time": "2021-11-17T21:06:37.993Z"
   },
   {
    "duration": 3,
    "start_time": "2021-11-17T21:06:38.261Z"
   },
   {
    "duration": 3,
    "start_time": "2021-11-17T21:11:54.358Z"
   },
   {
    "duration": 3,
    "start_time": "2021-11-17T21:12:43.846Z"
   },
   {
    "duration": 4,
    "start_time": "2021-11-17T21:13:08.773Z"
   },
   {
    "duration": 3,
    "start_time": "2021-11-17T21:14:44.441Z"
   },
   {
    "duration": 3,
    "start_time": "2021-11-17T21:15:42.059Z"
   },
   {
    "duration": 4,
    "start_time": "2021-11-17T21:15:51.995Z"
   },
   {
    "duration": 3,
    "start_time": "2021-11-17T21:15:53.923Z"
   },
   {
    "duration": 3,
    "start_time": "2021-11-17T21:15:55.282Z"
   },
   {
    "duration": 3,
    "start_time": "2021-11-17T21:16:28.492Z"
   },
   {
    "duration": 3,
    "start_time": "2021-11-17T21:16:32.603Z"
   },
   {
    "duration": 3,
    "start_time": "2021-11-17T21:17:06.941Z"
   },
   {
    "duration": 98,
    "start_time": "2021-11-17T21:18:05.733Z"
   },
   {
    "duration": 4,
    "start_time": "2021-11-17T21:21:35.255Z"
   },
   {
    "duration": 3,
    "start_time": "2021-11-17T21:21:37.804Z"
   },
   {
    "duration": 4,
    "start_time": "2021-11-17T21:23:06.071Z"
   },
   {
    "duration": 3,
    "start_time": "2021-11-17T21:23:24.799Z"
   },
   {
    "duration": 3,
    "start_time": "2021-11-17T21:23:32.591Z"
   },
   {
    "duration": 98,
    "start_time": "2021-11-17T21:28:31.559Z"
   },
   {
    "duration": 3,
    "start_time": "2021-11-17T21:28:45.448Z"
   },
   {
    "duration": 3,
    "start_time": "2021-11-17T21:29:17.303Z"
   },
   {
    "duration": 3,
    "start_time": "2021-11-17T21:29:29.617Z"
   },
   {
    "duration": 3,
    "start_time": "2021-11-17T21:29:32.681Z"
   },
   {
    "duration": 3,
    "start_time": "2021-11-17T21:36:11.474Z"
   },
   {
    "duration": 3,
    "start_time": "2021-11-17T21:36:14.791Z"
   },
   {
    "duration": 3,
    "start_time": "2021-11-17T21:36:53.943Z"
   },
   {
    "duration": 3,
    "start_time": "2021-11-17T21:36:56.165Z"
   },
   {
    "duration": 4,
    "start_time": "2021-11-17T21:37:16.590Z"
   },
   {
    "duration": 3,
    "start_time": "2021-11-17T21:37:22.702Z"
   },
   {
    "duration": 4,
    "start_time": "2021-11-17T21:38:03.479Z"
   },
   {
    "duration": 3,
    "start_time": "2021-11-17T21:38:08.601Z"
   },
   {
    "duration": 3,
    "start_time": "2021-11-17T21:38:12.928Z"
   },
   {
    "duration": 3,
    "start_time": "2021-11-17T21:38:48.896Z"
   },
   {
    "duration": 2,
    "start_time": "2021-11-17T21:38:49.171Z"
   },
   {
    "duration": 4,
    "start_time": "2021-11-17T21:39:57.889Z"
   },
   {
    "duration": 3,
    "start_time": "2021-11-17T21:39:58.057Z"
   },
   {
    "duration": 3,
    "start_time": "2021-11-17T21:41:20.108Z"
   },
   {
    "duration": 3,
    "start_time": "2021-11-17T21:41:20.629Z"
   },
   {
    "duration": 3,
    "start_time": "2021-11-17T21:42:49.136Z"
   },
   {
    "duration": 3,
    "start_time": "2021-11-17T21:43:15.137Z"
   },
   {
    "duration": 4,
    "start_time": "2021-11-17T21:43:16.766Z"
   },
   {
    "duration": 4,
    "start_time": "2021-11-17T21:43:31.711Z"
   },
   {
    "duration": 3,
    "start_time": "2021-11-17T21:43:36.312Z"
   },
   {
    "duration": 4,
    "start_time": "2021-11-17T21:45:08.825Z"
   },
   {
    "duration": 4,
    "start_time": "2021-11-17T21:45:10.119Z"
   },
   {
    "duration": 4,
    "start_time": "2021-11-17T21:45:13.748Z"
   },
   {
    "duration": 3,
    "start_time": "2021-11-17T21:45:22.219Z"
   },
   {
    "duration": 3,
    "start_time": "2021-11-17T21:45:33.412Z"
   },
   {
    "duration": 2,
    "start_time": "2021-11-17T21:46:01.885Z"
   },
   {
    "duration": 3,
    "start_time": "2021-11-17T21:46:03.628Z"
   },
   {
    "duration": 107,
    "start_time": "2021-11-17T21:47:32.512Z"
   },
   {
    "duration": 103,
    "start_time": "2021-11-17T21:50:36.243Z"
   },
   {
    "duration": 3,
    "start_time": "2021-11-18T06:28:31.440Z"
   },
   {
    "duration": 3,
    "start_time": "2021-11-18T06:29:00.168Z"
   },
   {
    "duration": 3,
    "start_time": "2021-11-18T06:31:27.008Z"
   },
   {
    "duration": 2,
    "start_time": "2021-11-18T06:35:34.288Z"
   },
   {
    "duration": 2,
    "start_time": "2021-11-18T06:38:04.527Z"
   },
   {
    "duration": 4855,
    "start_time": "2024-05-18T02:26:33.176Z"
   },
   {
    "duration": 1137,
    "start_time": "2024-05-18T02:26:43.236Z"
   },
   {
    "duration": 135,
    "start_time": "2024-05-18T02:27:12.795Z"
   },
   {
    "duration": 1264,
    "start_time": "2024-05-18T02:27:49.379Z"
   },
   {
    "duration": 1129,
    "start_time": "2024-05-18T02:27:50.646Z"
   },
   {
    "duration": 0,
    "start_time": "2024-05-18T02:27:51.781Z"
   },
   {
    "duration": 0,
    "start_time": "2024-05-18T02:27:51.783Z"
   },
   {
    "duration": 0,
    "start_time": "2024-05-18T02:27:51.785Z"
   },
   {
    "duration": 0,
    "start_time": "2024-05-18T02:27:51.787Z"
   },
   {
    "duration": 0,
    "start_time": "2024-05-18T02:27:51.790Z"
   },
   {
    "duration": 0,
    "start_time": "2024-05-18T02:27:51.791Z"
   },
   {
    "duration": 0,
    "start_time": "2024-05-18T02:27:51.794Z"
   },
   {
    "duration": 0,
    "start_time": "2024-05-18T02:27:51.800Z"
   },
   {
    "duration": 0,
    "start_time": "2024-05-18T02:27:51.802Z"
   },
   {
    "duration": 0,
    "start_time": "2024-05-18T02:27:51.805Z"
   },
   {
    "duration": 0,
    "start_time": "2024-05-18T02:27:51.832Z"
   },
   {
    "duration": 0,
    "start_time": "2024-05-18T02:27:51.834Z"
   },
   {
    "duration": 0,
    "start_time": "2024-05-18T02:27:51.837Z"
   },
   {
    "duration": 0,
    "start_time": "2024-05-18T02:27:51.839Z"
   },
   {
    "duration": 0,
    "start_time": "2024-05-18T02:27:51.843Z"
   },
   {
    "duration": 0,
    "start_time": "2024-05-18T02:27:51.845Z"
   },
   {
    "duration": 0,
    "start_time": "2024-05-18T02:27:51.847Z"
   },
   {
    "duration": 0,
    "start_time": "2024-05-18T02:27:51.850Z"
   },
   {
    "duration": 1,
    "start_time": "2024-05-18T02:27:51.852Z"
   },
   {
    "duration": 0,
    "start_time": "2024-05-18T02:27:51.854Z"
   },
   {
    "duration": 0,
    "start_time": "2024-05-18T02:27:51.857Z"
   },
   {
    "duration": 0,
    "start_time": "2024-05-18T02:27:51.860Z"
   },
   {
    "duration": 0,
    "start_time": "2024-05-18T02:27:51.862Z"
   },
   {
    "duration": 0,
    "start_time": "2024-05-18T02:27:51.863Z"
   },
   {
    "duration": 0,
    "start_time": "2024-05-18T02:27:51.865Z"
   },
   {
    "duration": 0,
    "start_time": "2024-05-18T02:27:51.867Z"
   },
   {
    "duration": 130,
    "start_time": "2024-05-18T02:31:09.699Z"
   },
   {
    "duration": 165,
    "start_time": "2024-05-18T02:31:35.840Z"
   },
   {
    "duration": 1272,
    "start_time": "2024-05-18T02:32:10.232Z"
   },
   {
    "duration": 1212,
    "start_time": "2024-05-18T02:32:11.510Z"
   },
   {
    "duration": 0,
    "start_time": "2024-05-18T02:32:12.737Z"
   },
   {
    "duration": 0,
    "start_time": "2024-05-18T02:32:12.739Z"
   },
   {
    "duration": 0,
    "start_time": "2024-05-18T02:32:12.742Z"
   },
   {
    "duration": 0,
    "start_time": "2024-05-18T02:32:12.744Z"
   },
   {
    "duration": 0,
    "start_time": "2024-05-18T02:32:12.747Z"
   },
   {
    "duration": 0,
    "start_time": "2024-05-18T02:32:12.750Z"
   },
   {
    "duration": 0,
    "start_time": "2024-05-18T02:32:12.752Z"
   },
   {
    "duration": 0,
    "start_time": "2024-05-18T02:32:12.754Z"
   },
   {
    "duration": 0,
    "start_time": "2024-05-18T02:32:12.756Z"
   },
   {
    "duration": 1,
    "start_time": "2024-05-18T02:32:12.758Z"
   },
   {
    "duration": 0,
    "start_time": "2024-05-18T02:32:12.761Z"
   },
   {
    "duration": 0,
    "start_time": "2024-05-18T02:32:12.763Z"
   },
   {
    "duration": 0,
    "start_time": "2024-05-18T02:32:12.766Z"
   },
   {
    "duration": 0,
    "start_time": "2024-05-18T02:32:12.767Z"
   },
   {
    "duration": 0,
    "start_time": "2024-05-18T02:32:12.771Z"
   },
   {
    "duration": 0,
    "start_time": "2024-05-18T02:32:12.774Z"
   },
   {
    "duration": 0,
    "start_time": "2024-05-18T02:32:12.831Z"
   },
   {
    "duration": 0,
    "start_time": "2024-05-18T02:32:12.834Z"
   },
   {
    "duration": 0,
    "start_time": "2024-05-18T02:32:12.836Z"
   },
   {
    "duration": 0,
    "start_time": "2024-05-18T02:32:12.840Z"
   },
   {
    "duration": 0,
    "start_time": "2024-05-18T02:32:12.842Z"
   },
   {
    "duration": 0,
    "start_time": "2024-05-18T02:32:12.843Z"
   },
   {
    "duration": 0,
    "start_time": "2024-05-18T02:32:12.845Z"
   },
   {
    "duration": 0,
    "start_time": "2024-05-18T02:32:12.847Z"
   },
   {
    "duration": 0,
    "start_time": "2024-05-18T02:32:12.850Z"
   },
   {
    "duration": 0,
    "start_time": "2024-05-18T02:32:12.852Z"
   },
   {
    "duration": 123,
    "start_time": "2024-05-18T02:33:18.342Z"
   },
   {
    "duration": 123,
    "start_time": "2024-05-18T02:35:15.525Z"
   },
   {
    "duration": 10,
    "start_time": "2024-05-18T02:35:22.639Z"
   },
   {
    "duration": 126,
    "start_time": "2024-05-18T02:35:25.237Z"
   },
   {
    "duration": 7,
    "start_time": "2024-05-18T02:37:16.435Z"
   },
   {
    "duration": 140,
    "start_time": "2024-05-18T02:37:21.988Z"
   },
   {
    "duration": 130,
    "start_time": "2024-05-18T02:40:47.896Z"
   },
   {
    "duration": 246,
    "start_time": "2024-05-18T03:04:29.579Z"
   },
   {
    "duration": 124,
    "start_time": "2024-05-18T03:05:01.568Z"
   },
   {
    "duration": 4,
    "start_time": "2024-05-18T03:05:07.432Z"
   },
   {
    "duration": 130,
    "start_time": "2024-05-18T03:05:10.324Z"
   },
   {
    "duration": 124,
    "start_time": "2024-05-18T03:06:08.694Z"
   },
   {
    "duration": 118,
    "start_time": "2024-05-18T03:15:09.224Z"
   },
   {
    "duration": 128,
    "start_time": "2024-05-18T03:26:43.423Z"
   },
   {
    "duration": 218,
    "start_time": "2024-05-18T03:33:21.851Z"
   },
   {
    "duration": 125,
    "start_time": "2024-05-18T03:33:48.698Z"
   },
   {
    "duration": 119,
    "start_time": "2024-05-18T03:35:30.059Z"
   },
   {
    "duration": 160,
    "start_time": "2024-05-18T03:35:45.330Z"
   },
   {
    "duration": 125,
    "start_time": "2024-05-18T03:38:00.005Z"
   },
   {
    "duration": 152,
    "start_time": "2024-05-18T03:38:03.789Z"
   },
   {
    "duration": 161,
    "start_time": "2024-05-18T03:38:41.994Z"
   },
   {
    "duration": 132,
    "start_time": "2024-05-18T03:38:55.297Z"
   },
   {
    "duration": 141,
    "start_time": "2024-05-18T03:39:02.879Z"
   },
   {
    "duration": 114,
    "start_time": "2024-05-18T03:40:07.759Z"
   },
   {
    "duration": 322,
    "start_time": "2024-05-18T03:41:55.206Z"
   },
   {
    "duration": 1239,
    "start_time": "2024-05-18T03:42:07.160Z"
   },
   {
    "duration": 264,
    "start_time": "2024-05-18T03:42:08.402Z"
   },
   {
    "duration": 3,
    "start_time": "2024-05-18T03:42:08.669Z"
   },
   {
    "duration": 3,
    "start_time": "2024-05-18T03:42:08.676Z"
   },
   {
    "duration": 3,
    "start_time": "2024-05-18T03:42:08.685Z"
   },
   {
    "duration": 4,
    "start_time": "2024-05-18T03:42:08.691Z"
   },
   {
    "duration": 32,
    "start_time": "2024-05-18T03:42:08.699Z"
   },
   {
    "duration": 4,
    "start_time": "2024-05-18T03:42:08.735Z"
   },
   {
    "duration": 4,
    "start_time": "2024-05-18T03:42:08.742Z"
   },
   {
    "duration": 3,
    "start_time": "2024-05-18T03:42:08.749Z"
   },
   {
    "duration": 4,
    "start_time": "2024-05-18T03:42:08.754Z"
   },
   {
    "duration": 3,
    "start_time": "2024-05-18T03:42:08.762Z"
   },
   {
    "duration": 60,
    "start_time": "2024-05-18T03:42:08.769Z"
   },
   {
    "duration": 7,
    "start_time": "2024-05-18T03:42:08.836Z"
   },
   {
    "duration": 4,
    "start_time": "2024-05-18T03:42:08.846Z"
   },
   {
    "duration": 4,
    "start_time": "2024-05-18T03:42:08.853Z"
   },
   {
    "duration": 5,
    "start_time": "2024-05-18T03:42:08.861Z"
   },
   {
    "duration": 3,
    "start_time": "2024-05-18T03:42:08.869Z"
   },
   {
    "duration": 7,
    "start_time": "2024-05-18T03:42:08.875Z"
   },
   {
    "duration": 46,
    "start_time": "2024-05-18T03:42:08.886Z"
   },
   {
    "duration": 3,
    "start_time": "2024-05-18T03:42:08.936Z"
   },
   {
    "duration": 4,
    "start_time": "2024-05-18T03:42:08.942Z"
   },
   {
    "duration": 3,
    "start_time": "2024-05-18T03:42:08.950Z"
   },
   {
    "duration": 3,
    "start_time": "2024-05-18T03:42:08.957Z"
   },
   {
    "duration": 3,
    "start_time": "2024-05-18T03:42:08.963Z"
   },
   {
    "duration": 59,
    "start_time": "2024-05-18T03:42:08.971Z"
   },
   {
    "duration": 3,
    "start_time": "2024-05-18T03:42:09.034Z"
   },
   {
    "duration": 3,
    "start_time": "2024-05-18T03:42:09.041Z"
   },
   {
    "duration": 10,
    "start_time": "2024-05-18T03:43:30.877Z"
   },
   {
    "duration": 23,
    "start_time": "2024-05-18T03:43:53.390Z"
   },
   {
    "duration": 341,
    "start_time": "2024-05-18T16:25:55.006Z"
   },
   {
    "duration": 311,
    "start_time": "2024-05-18T16:26:13.490Z"
   },
   {
    "duration": 4835,
    "start_time": "2024-05-18T16:26:18.422Z"
   },
   {
    "duration": 1279,
    "start_time": "2024-05-18T16:26:29.098Z"
   },
   {
    "duration": 350,
    "start_time": "2024-05-18T16:26:30.381Z"
   },
   {
    "duration": 16,
    "start_time": "2024-05-18T16:26:30.733Z"
   },
   {
    "duration": 3,
    "start_time": "2024-05-18T16:26:30.753Z"
   },
   {
    "duration": 5,
    "start_time": "2024-05-18T16:26:30.759Z"
   },
   {
    "duration": 3,
    "start_time": "2024-05-18T16:26:30.767Z"
   },
   {
    "duration": 36,
    "start_time": "2024-05-18T16:26:30.773Z"
   },
   {
    "duration": 3,
    "start_time": "2024-05-18T16:26:30.812Z"
   },
   {
    "duration": 3,
    "start_time": "2024-05-18T16:26:30.819Z"
   },
   {
    "duration": 3,
    "start_time": "2024-05-18T16:26:30.828Z"
   },
   {
    "duration": 4,
    "start_time": "2024-05-18T16:26:30.834Z"
   },
   {
    "duration": 3,
    "start_time": "2024-05-18T16:26:30.841Z"
   },
   {
    "duration": 4,
    "start_time": "2024-05-18T16:26:30.847Z"
   },
   {
    "duration": 3,
    "start_time": "2024-05-18T16:26:30.909Z"
   },
   {
    "duration": 3,
    "start_time": "2024-05-18T16:26:30.916Z"
   },
   {
    "duration": 4,
    "start_time": "2024-05-18T16:26:30.922Z"
   },
   {
    "duration": 3,
    "start_time": "2024-05-18T16:26:30.933Z"
   },
   {
    "duration": 4,
    "start_time": "2024-05-18T16:26:30.939Z"
   },
   {
    "duration": 4,
    "start_time": "2024-05-18T16:26:30.946Z"
   },
   {
    "duration": 56,
    "start_time": "2024-05-18T16:26:30.953Z"
   },
   {
    "duration": 3,
    "start_time": "2024-05-18T16:26:31.011Z"
   },
   {
    "duration": 4,
    "start_time": "2024-05-18T16:26:31.017Z"
   },
   {
    "duration": 3,
    "start_time": "2024-05-18T16:26:31.024Z"
   },
   {
    "duration": 4,
    "start_time": "2024-05-18T16:26:31.030Z"
   },
   {
    "duration": 5,
    "start_time": "2024-05-18T16:26:31.037Z"
   },
   {
    "duration": 3,
    "start_time": "2024-05-18T16:26:31.045Z"
   },
   {
    "duration": 57,
    "start_time": "2024-05-18T16:26:31.052Z"
   },
   {
    "duration": 4,
    "start_time": "2024-05-18T16:26:31.123Z"
   },
   {
    "duration": 39,
    "start_time": "2024-05-18T16:38:12.522Z"
   },
   {
    "duration": 41,
    "start_time": "2024-05-18T16:39:57.838Z"
   },
   {
    "duration": 11,
    "start_time": "2024-05-18T16:41:37.573Z"
   },
   {
    "duration": 24,
    "start_time": "2024-05-18T16:41:40.004Z"
   },
   {
    "duration": 14,
    "start_time": "2024-05-18T16:46:06.258Z"
   },
   {
    "duration": 13,
    "start_time": "2024-05-18T16:46:33.126Z"
   },
   {
    "duration": 22,
    "start_time": "2024-05-18T16:48:47.814Z"
   },
   {
    "duration": 9,
    "start_time": "2024-05-18T16:49:05.550Z"
   },
   {
    "duration": 23,
    "start_time": "2024-05-18T16:50:22.621Z"
   },
   {
    "duration": 12,
    "start_time": "2024-05-18T16:50:41.139Z"
   },
   {
    "duration": 13,
    "start_time": "2024-05-18T16:51:25.291Z"
   },
   {
    "duration": 1239,
    "start_time": "2024-05-18T16:52:10.429Z"
   },
   {
    "duration": 266,
    "start_time": "2024-05-18T16:52:11.672Z"
   },
   {
    "duration": 16,
    "start_time": "2024-05-18T16:52:11.941Z"
   },
   {
    "duration": 18,
    "start_time": "2024-05-18T16:52:11.961Z"
   },
   {
    "duration": 15,
    "start_time": "2024-05-18T16:52:12.008Z"
   },
   {
    "duration": 22,
    "start_time": "2024-05-18T16:52:12.026Z"
   },
   {
    "duration": 26,
    "start_time": "2024-05-18T16:52:12.050Z"
   },
   {
    "duration": 11,
    "start_time": "2024-05-18T16:52:12.110Z"
   },
   {
    "duration": 20,
    "start_time": "2024-05-18T16:52:12.125Z"
   },
   {
    "duration": 10,
    "start_time": "2024-05-18T16:52:12.150Z"
   },
   {
    "duration": 59,
    "start_time": "2024-05-18T16:52:12.163Z"
   },
   {
    "duration": 11,
    "start_time": "2024-05-18T16:52:12.225Z"
   },
   {
    "duration": 3,
    "start_time": "2024-05-18T16:52:12.240Z"
   },
   {
    "duration": 5,
    "start_time": "2024-05-18T16:52:12.246Z"
   },
   {
    "duration": 3,
    "start_time": "2024-05-18T16:52:12.255Z"
   },
   {
    "duration": 46,
    "start_time": "2024-05-18T16:52:12.262Z"
   },
   {
    "duration": 4,
    "start_time": "2024-05-18T16:52:12.311Z"
   },
   {
    "duration": 4,
    "start_time": "2024-05-18T16:52:12.318Z"
   },
   {
    "duration": 4,
    "start_time": "2024-05-18T16:52:12.325Z"
   },
   {
    "duration": 4,
    "start_time": "2024-05-18T16:52:12.333Z"
   },
   {
    "duration": 4,
    "start_time": "2024-05-18T16:52:12.340Z"
   },
   {
    "duration": 3,
    "start_time": "2024-05-18T16:52:12.348Z"
   },
   {
    "duration": 4,
    "start_time": "2024-05-18T16:52:12.410Z"
   },
   {
    "duration": 4,
    "start_time": "2024-05-18T16:52:12.417Z"
   },
   {
    "duration": 4,
    "start_time": "2024-05-18T16:52:12.425Z"
   },
   {
    "duration": 3,
    "start_time": "2024-05-18T16:52:12.433Z"
   },
   {
    "duration": 4,
    "start_time": "2024-05-18T16:52:12.439Z"
   },
   {
    "duration": 3,
    "start_time": "2024-05-18T16:52:12.451Z"
   },
   {
    "duration": 473,
    "start_time": "2024-05-18T17:17:23.636Z"
   },
   {
    "duration": 13,
    "start_time": "2024-05-18T17:17:46.955Z"
   },
   {
    "duration": 32,
    "start_time": "2024-05-18T17:19:18.328Z"
   },
   {
    "duration": 9,
    "start_time": "2024-05-18T17:19:33.688Z"
   },
   {
    "duration": 9,
    "start_time": "2024-05-18T17:20:33.066Z"
   },
   {
    "duration": 11,
    "start_time": "2024-05-18T17:21:08.850Z"
   },
   {
    "duration": 36,
    "start_time": "2024-05-18T17:26:57.227Z"
   },
   {
    "duration": 35,
    "start_time": "2024-05-18T17:27:09.921Z"
   },
   {
    "duration": 41,
    "start_time": "2024-05-18T17:27:51.993Z"
   },
   {
    "duration": 37,
    "start_time": "2024-05-18T17:27:59.394Z"
   },
   {
    "duration": 50,
    "start_time": "2024-05-18T17:28:12.138Z"
   },
   {
    "duration": 24,
    "start_time": "2024-05-18T17:28:18.870Z"
   },
   {
    "duration": 8,
    "start_time": "2024-05-18T17:29:31.162Z"
   },
   {
    "duration": 32,
    "start_time": "2024-05-18T17:29:45.314Z"
   },
   {
    "duration": 909,
    "start_time": "2024-05-18T17:49:47.542Z"
   },
   {
    "duration": 25,
    "start_time": "2024-05-18T17:50:04.406Z"
   },
   {
    "duration": 48,
    "start_time": "2024-05-18T17:51:47.718Z"
   },
   {
    "duration": 28,
    "start_time": "2024-05-18T17:51:59.117Z"
   },
   {
    "duration": 53,
    "start_time": "2024-05-18T17:52:17.696Z"
   },
   {
    "duration": 52,
    "start_time": "2024-05-18T17:55:42.994Z"
   },
   {
    "duration": 105,
    "start_time": "2024-05-18T17:56:06.468Z"
   },
   {
    "duration": 169,
    "start_time": "2024-05-18T17:56:16.336Z"
   },
   {
    "duration": 94,
    "start_time": "2024-05-18T17:56:22.289Z"
   },
   {
    "duration": 119,
    "start_time": "2024-05-18T17:56:33.005Z"
   },
   {
    "duration": 8,
    "start_time": "2024-05-18T17:59:26.550Z"
   },
   {
    "duration": 23,
    "start_time": "2024-05-18T18:00:04.283Z"
   },
   {
    "duration": 25,
    "start_time": "2024-05-18T18:00:24.147Z"
   },
   {
    "duration": 53,
    "start_time": "2024-05-18T18:02:01.768Z"
   },
   {
    "duration": 94,
    "start_time": "2024-05-18T18:04:12.390Z"
   },
   {
    "duration": 129,
    "start_time": "2024-05-18T18:04:56.475Z"
   },
   {
    "duration": 5,
    "start_time": "2024-05-18T18:11:50.860Z"
   },
   {
    "duration": 14,
    "start_time": "2024-05-18T18:12:10.402Z"
   },
   {
    "duration": 27,
    "start_time": "2024-05-18T18:17:21.182Z"
   },
   {
    "duration": 25,
    "start_time": "2024-05-18T18:17:29.345Z"
   },
   {
    "duration": 651,
    "start_time": "2024-05-18T18:19:59.488Z"
   },
   {
    "duration": 1353,
    "start_time": "2024-05-18T18:20:09.763Z"
   },
   {
    "duration": 316,
    "start_time": "2024-05-18T18:20:11.123Z"
   },
   {
    "duration": 20,
    "start_time": "2024-05-18T18:20:11.445Z"
   },
   {
    "duration": 16,
    "start_time": "2024-05-18T18:20:11.469Z"
   },
   {
    "duration": 37,
    "start_time": "2024-05-18T18:20:11.488Z"
   },
   {
    "duration": 20,
    "start_time": "2024-05-18T18:20:11.528Z"
   },
   {
    "duration": 17,
    "start_time": "2024-05-18T18:20:11.552Z"
   },
   {
    "duration": 41,
    "start_time": "2024-05-18T18:20:11.609Z"
   },
   {
    "duration": 15,
    "start_time": "2024-05-18T18:20:11.655Z"
   },
   {
    "duration": 175,
    "start_time": "2024-05-18T18:20:11.676Z"
   },
   {
    "duration": 25,
    "start_time": "2024-05-18T18:20:11.857Z"
   },
   {
    "duration": 43,
    "start_time": "2024-05-18T18:20:11.885Z"
   },
   {
    "duration": 14,
    "start_time": "2024-05-18T18:20:11.935Z"
   },
   {
    "duration": 107,
    "start_time": "2024-05-18T18:20:11.953Z"
   },
   {
    "duration": 26,
    "start_time": "2024-05-18T18:20:12.064Z"
   },
   {
    "duration": 16,
    "start_time": "2024-05-18T18:20:12.111Z"
   },
   {
    "duration": 194,
    "start_time": "2024-05-18T18:20:12.132Z"
   },
   {
    "duration": 4,
    "start_time": "2024-05-18T18:20:12.329Z"
   },
   {
    "duration": 3,
    "start_time": "2024-05-18T18:20:12.338Z"
   },
   {
    "duration": 3,
    "start_time": "2024-05-18T18:20:12.345Z"
   },
   {
    "duration": 6,
    "start_time": "2024-05-18T18:20:12.350Z"
   },
   {
    "duration": 3,
    "start_time": "2024-05-18T18:20:12.360Z"
   },
   {
    "duration": 42,
    "start_time": "2024-05-18T18:20:12.367Z"
   },
   {
    "duration": 4,
    "start_time": "2024-05-18T18:20:12.413Z"
   },
   {
    "duration": 3,
    "start_time": "2024-05-18T18:20:12.421Z"
   },
   {
    "duration": 3,
    "start_time": "2024-05-18T18:20:12.427Z"
   },
   {
    "duration": 4,
    "start_time": "2024-05-18T18:20:12.436Z"
   },
   {
    "duration": 3,
    "start_time": "2024-05-18T18:20:12.449Z"
   },
   {
    "duration": 53,
    "start_time": "2024-05-18T18:20:12.456Z"
   },
   {
    "duration": 4,
    "start_time": "2024-05-18T18:20:12.515Z"
   },
   {
    "duration": 4,
    "start_time": "2024-05-18T18:20:12.524Z"
   },
   {
    "duration": 3,
    "start_time": "2024-05-18T18:20:12.533Z"
   },
   {
    "duration": 3,
    "start_time": "2024-05-18T18:20:12.541Z"
   },
   {
    "duration": 12,
    "start_time": "2024-05-18T18:22:47.815Z"
   },
   {
    "duration": 14,
    "start_time": "2024-05-18T18:23:01.877Z"
   },
   {
    "duration": 23,
    "start_time": "2024-05-18T18:25:11.807Z"
   },
   {
    "duration": 10,
    "start_time": "2024-05-18T18:27:29.958Z"
   },
   {
    "duration": 18,
    "start_time": "2024-05-18T18:28:24.736Z"
   },
   {
    "duration": 5,
    "start_time": "2024-05-18T18:32:08.667Z"
   },
   {
    "duration": 14,
    "start_time": "2024-05-18T18:32:24.782Z"
   },
   {
    "duration": 14,
    "start_time": "2024-05-18T18:37:57.056Z"
   },
   {
    "duration": 324,
    "start_time": "2024-05-18T21:49:13.367Z"
   },
   {
    "duration": 21,
    "start_time": "2024-05-18T21:50:08.836Z"
   },
   {
    "duration": 5095,
    "start_time": "2024-05-18T21:50:23.322Z"
   },
   {
    "duration": 359,
    "start_time": "2024-05-18T21:50:28.421Z"
   },
   {
    "duration": 18,
    "start_time": "2024-05-18T21:50:28.782Z"
   },
   {
    "duration": 17,
    "start_time": "2024-05-18T21:50:28.806Z"
   },
   {
    "duration": 17,
    "start_time": "2024-05-18T21:50:28.825Z"
   },
   {
    "duration": 16,
    "start_time": "2024-05-18T21:50:28.845Z"
   },
   {
    "duration": 51,
    "start_time": "2024-05-18T21:50:28.863Z"
   },
   {
    "duration": 14,
    "start_time": "2024-05-18T21:50:28.917Z"
   },
   {
    "duration": 25,
    "start_time": "2024-05-18T21:50:28.934Z"
   },
   {
    "duration": 11,
    "start_time": "2024-05-18T21:50:29.002Z"
   },
   {
    "duration": 133,
    "start_time": "2024-05-18T21:50:29.016Z"
   },
   {
    "duration": 26,
    "start_time": "2024-05-18T21:50:29.153Z"
   },
   {
    "duration": 20,
    "start_time": "2024-05-18T21:50:29.203Z"
   },
   {
    "duration": 12,
    "start_time": "2024-05-18T21:50:29.226Z"
   },
   {
    "duration": 89,
    "start_time": "2024-05-18T21:50:29.240Z"
   },
   {
    "duration": 19,
    "start_time": "2024-05-18T21:50:29.332Z"
   },
   {
    "duration": 47,
    "start_time": "2024-05-18T21:50:29.354Z"
   },
   {
    "duration": 12,
    "start_time": "2024-05-18T21:50:29.404Z"
   },
   {
    "duration": 145,
    "start_time": "2024-05-18T21:50:29.419Z"
   },
   {
    "duration": 40,
    "start_time": "2024-05-18T21:50:29.567Z"
   },
   {
    "duration": 12,
    "start_time": "2024-05-18T21:50:29.610Z"
   },
   {
    "duration": 6,
    "start_time": "2024-05-18T21:50:29.626Z"
   },
   {
    "duration": 3,
    "start_time": "2024-05-18T21:50:29.636Z"
   },
   {
    "duration": 18,
    "start_time": "2024-05-18T21:50:29.643Z"
   },
   {
    "duration": 38,
    "start_time": "2024-05-18T21:50:29.664Z"
   },
   {
    "duration": 3,
    "start_time": "2024-05-18T21:50:29.705Z"
   },
   {
    "duration": 3,
    "start_time": "2024-05-18T21:50:29.711Z"
   },
   {
    "duration": 3,
    "start_time": "2024-05-18T21:50:29.723Z"
   },
   {
    "duration": 3,
    "start_time": "2024-05-18T21:50:29.729Z"
   },
   {
    "duration": 3,
    "start_time": "2024-05-18T21:50:29.736Z"
   },
   {
    "duration": 4,
    "start_time": "2024-05-18T21:50:29.742Z"
   },
   {
    "duration": 3,
    "start_time": "2024-05-18T21:50:29.801Z"
   },
   {
    "duration": 4,
    "start_time": "2024-05-18T21:50:29.807Z"
   },
   {
    "duration": 3,
    "start_time": "2024-05-18T21:50:29.814Z"
   },
   {
    "duration": 4,
    "start_time": "2024-05-18T21:50:29.820Z"
   },
   {
    "duration": 3,
    "start_time": "2024-05-18T21:50:29.828Z"
   },
   {
    "duration": 20,
    "start_time": "2024-05-18T21:51:00.792Z"
   },
   {
    "duration": 24,
    "start_time": "2024-05-18T21:51:27.177Z"
   },
   {
    "duration": 26,
    "start_time": "2024-05-18T21:53:12.284Z"
   },
   {
    "duration": 422,
    "start_time": "2024-05-18T21:57:00.935Z"
   },
   {
    "duration": 25,
    "start_time": "2024-05-18T21:57:37.442Z"
   },
   {
    "duration": 27,
    "start_time": "2024-05-18T21:57:39.563Z"
   },
   {
    "duration": 30,
    "start_time": "2024-05-18T21:57:59.824Z"
   },
   {
    "duration": 55,
    "start_time": "2024-05-18T21:58:07.172Z"
   },
   {
    "duration": 26,
    "start_time": "2024-05-18T21:59:57.964Z"
   },
   {
    "duration": 46,
    "start_time": "2024-05-18T22:00:21.313Z"
   },
   {
    "duration": 24,
    "start_time": "2024-05-18T22:00:52.123Z"
   },
   {
    "duration": 1264,
    "start_time": "2024-05-18T22:01:01.067Z"
   },
   {
    "duration": 273,
    "start_time": "2024-05-18T22:01:02.334Z"
   },
   {
    "duration": 15,
    "start_time": "2024-05-18T22:01:02.610Z"
   },
   {
    "duration": 16,
    "start_time": "2024-05-18T22:01:02.629Z"
   },
   {
    "duration": 54,
    "start_time": "2024-05-18T22:01:02.648Z"
   },
   {
    "duration": 15,
    "start_time": "2024-05-18T22:01:02.705Z"
   },
   {
    "duration": 14,
    "start_time": "2024-05-18T22:01:02.723Z"
   },
   {
    "duration": 14,
    "start_time": "2024-05-18T22:01:02.740Z"
   },
   {
    "duration": 65,
    "start_time": "2024-05-18T22:01:02.758Z"
   },
   {
    "duration": 11,
    "start_time": "2024-05-18T22:01:02.829Z"
   },
   {
    "duration": 138,
    "start_time": "2024-05-18T22:01:02.844Z"
   },
   {
    "duration": 28,
    "start_time": "2024-05-18T22:01:02.985Z"
   },
   {
    "duration": 20,
    "start_time": "2024-05-18T22:01:03.016Z"
   },
   {
    "duration": 11,
    "start_time": "2024-05-18T22:01:03.038Z"
   },
   {
    "duration": 85,
    "start_time": "2024-05-18T22:01:03.052Z"
   },
   {
    "duration": 18,
    "start_time": "2024-05-18T22:01:03.140Z"
   },
   {
    "duration": 52,
    "start_time": "2024-05-18T22:01:03.161Z"
   },
   {
    "duration": 12,
    "start_time": "2024-05-18T22:01:03.216Z"
   },
   {
    "duration": 172,
    "start_time": "2024-05-18T22:01:03.231Z"
   },
   {
    "duration": 28,
    "start_time": "2024-05-18T22:01:03.406Z"
   },
   {
    "duration": 13,
    "start_time": "2024-05-18T22:01:03.437Z"
   },
   {
    "duration": 7,
    "start_time": "2024-05-18T22:01:03.453Z"
   },
   {
    "duration": 39,
    "start_time": "2024-05-18T22:01:03.463Z"
   },
   {
    "duration": 24,
    "start_time": "2024-05-18T22:01:03.506Z"
   },
   {
    "duration": 3,
    "start_time": "2024-05-18T22:01:03.533Z"
   },
   {
    "duration": 4,
    "start_time": "2024-05-18T22:01:03.539Z"
   },
   {
    "duration": 4,
    "start_time": "2024-05-18T22:01:03.546Z"
   },
   {
    "duration": 3,
    "start_time": "2024-05-18T22:01:03.601Z"
   },
   {
    "duration": 4,
    "start_time": "2024-05-18T22:01:03.608Z"
   },
   {
    "duration": 4,
    "start_time": "2024-05-18T22:01:03.615Z"
   },
   {
    "duration": 3,
    "start_time": "2024-05-18T22:01:03.622Z"
   },
   {
    "duration": 3,
    "start_time": "2024-05-18T22:01:03.628Z"
   },
   {
    "duration": 3,
    "start_time": "2024-05-18T22:01:03.635Z"
   },
   {
    "duration": 3,
    "start_time": "2024-05-18T22:01:03.642Z"
   },
   {
    "duration": 4,
    "start_time": "2024-05-18T22:01:03.703Z"
   },
   {
    "duration": 4,
    "start_time": "2024-05-18T22:01:03.710Z"
   },
   {
    "duration": 30,
    "start_time": "2024-05-18T22:01:35.447Z"
   },
   {
    "duration": 479,
    "start_time": "2024-05-18T22:01:51.753Z"
   },
   {
    "duration": 59,
    "start_time": "2024-05-18T22:01:58.161Z"
   },
   {
    "duration": 34,
    "start_time": "2024-05-18T22:02:39.257Z"
   },
   {
    "duration": 26,
    "start_time": "2024-05-18T22:02:52.451Z"
   },
   {
    "duration": 29,
    "start_time": "2024-05-18T22:03:52.502Z"
   },
   {
    "duration": 49,
    "start_time": "2024-05-18T22:05:14.916Z"
   },
   {
    "duration": 50,
    "start_time": "2024-05-18T22:05:19.247Z"
   },
   {
    "duration": 33,
    "start_time": "2024-05-18T22:06:04.553Z"
   },
   {
    "duration": 44,
    "start_time": "2024-05-18T22:06:12.090Z"
   },
   {
    "duration": 32,
    "start_time": "2024-05-18T22:08:38.178Z"
   },
   {
    "duration": 47,
    "start_time": "2024-05-18T22:12:44.109Z"
   },
   {
    "duration": 47,
    "start_time": "2024-05-18T22:14:07.278Z"
   },
   {
    "duration": 1295,
    "start_time": "2024-05-18T22:14:14.655Z"
   },
   {
    "duration": 280,
    "start_time": "2024-05-18T22:14:15.954Z"
   },
   {
    "duration": 17,
    "start_time": "2024-05-18T22:14:16.237Z"
   },
   {
    "duration": 17,
    "start_time": "2024-05-18T22:14:16.260Z"
   },
   {
    "duration": 17,
    "start_time": "2024-05-18T22:14:16.303Z"
   },
   {
    "duration": 16,
    "start_time": "2024-05-18T22:14:16.323Z"
   },
   {
    "duration": 20,
    "start_time": "2024-05-18T22:14:16.342Z"
   },
   {
    "duration": 48,
    "start_time": "2024-05-18T22:14:16.365Z"
   },
   {
    "duration": 28,
    "start_time": "2024-05-18T22:14:16.418Z"
   },
   {
    "duration": 47,
    "start_time": "2024-05-18T22:14:16.454Z"
   },
   {
    "duration": 125,
    "start_time": "2024-05-18T22:14:16.504Z"
   },
   {
    "duration": 26,
    "start_time": "2024-05-18T22:14:16.632Z"
   },
   {
    "duration": 49,
    "start_time": "2024-05-18T22:14:16.662Z"
   },
   {
    "duration": 12,
    "start_time": "2024-05-18T22:14:16.713Z"
   },
   {
    "duration": 77,
    "start_time": "2024-05-18T22:14:16.728Z"
   },
   {
    "duration": 18,
    "start_time": "2024-05-18T22:14:16.808Z"
   },
   {
    "duration": 23,
    "start_time": "2024-05-18T22:14:16.829Z"
   },
   {
    "duration": 47,
    "start_time": "2024-05-18T22:14:16.855Z"
   },
   {
    "duration": 147,
    "start_time": "2024-05-18T22:14:16.905Z"
   },
   {
    "duration": 24,
    "start_time": "2024-05-18T22:14:17.056Z"
   },
   {
    "duration": 31,
    "start_time": "2024-05-18T22:14:17.082Z"
   },
   {
    "duration": 7,
    "start_time": "2024-05-18T22:14:17.116Z"
   },
   {
    "duration": 3,
    "start_time": "2024-05-18T22:14:17.127Z"
   },
   {
    "duration": 25,
    "start_time": "2024-05-18T22:14:17.133Z"
   },
   {
    "duration": 516,
    "start_time": "2024-05-18T22:14:17.202Z"
   },
   {
    "duration": 0,
    "start_time": "2024-05-18T22:14:17.722Z"
   },
   {
    "duration": 0,
    "start_time": "2024-05-18T22:14:17.724Z"
   },
   {
    "duration": 0,
    "start_time": "2024-05-18T22:14:17.727Z"
   },
   {
    "duration": 0,
    "start_time": "2024-05-18T22:14:17.729Z"
   },
   {
    "duration": 0,
    "start_time": "2024-05-18T22:14:17.731Z"
   },
   {
    "duration": 0,
    "start_time": "2024-05-18T22:14:17.734Z"
   },
   {
    "duration": 0,
    "start_time": "2024-05-18T22:14:17.736Z"
   },
   {
    "duration": 0,
    "start_time": "2024-05-18T22:14:17.738Z"
   },
   {
    "duration": 0,
    "start_time": "2024-05-18T22:14:17.741Z"
   },
   {
    "duration": 0,
    "start_time": "2024-05-18T22:14:17.743Z"
   },
   {
    "duration": 0,
    "start_time": "2024-05-18T22:14:17.745Z"
   },
   {
    "duration": 48,
    "start_time": "2024-05-18T22:17:48.744Z"
   },
   {
    "duration": 55,
    "start_time": "2024-05-18T22:17:56.257Z"
   },
   {
    "duration": 41,
    "start_time": "2024-05-18T22:24:35.487Z"
   },
   {
    "duration": 257,
    "start_time": "2024-05-18T22:24:41.511Z"
   },
   {
    "duration": 28,
    "start_time": "2024-05-18T22:25:11.277Z"
   },
   {
    "duration": 46,
    "start_time": "2024-05-18T22:25:26.284Z"
   },
   {
    "duration": 49,
    "start_time": "2024-05-18T22:25:37.621Z"
   },
   {
    "duration": 1292,
    "start_time": "2024-05-18T22:26:30.686Z"
   },
   {
    "duration": 282,
    "start_time": "2024-05-18T22:26:31.982Z"
   },
   {
    "duration": 16,
    "start_time": "2024-05-18T22:26:32.267Z"
   },
   {
    "duration": 25,
    "start_time": "2024-05-18T22:26:32.287Z"
   },
   {
    "duration": 15,
    "start_time": "2024-05-18T22:26:32.315Z"
   },
   {
    "duration": 15,
    "start_time": "2024-05-18T22:26:32.334Z"
   },
   {
    "duration": 51,
    "start_time": "2024-05-18T22:26:32.352Z"
   },
   {
    "duration": 15,
    "start_time": "2024-05-18T22:26:32.407Z"
   },
   {
    "duration": 31,
    "start_time": "2024-05-18T22:26:32.426Z"
   },
   {
    "duration": 48,
    "start_time": "2024-05-18T22:26:32.463Z"
   },
   {
    "duration": 126,
    "start_time": "2024-05-18T22:26:32.515Z"
   },
   {
    "duration": 25,
    "start_time": "2024-05-18T22:26:32.644Z"
   },
   {
    "duration": 39,
    "start_time": "2024-05-18T22:26:32.672Z"
   },
   {
    "duration": 11,
    "start_time": "2024-05-18T22:26:32.714Z"
   },
   {
    "duration": 79,
    "start_time": "2024-05-18T22:26:32.728Z"
   },
   {
    "duration": 18,
    "start_time": "2024-05-18T22:26:32.809Z"
   },
   {
    "duration": 22,
    "start_time": "2024-05-18T22:26:32.830Z"
   },
   {
    "duration": 10,
    "start_time": "2024-05-18T22:26:32.857Z"
   },
   {
    "duration": 143,
    "start_time": "2024-05-18T22:26:32.903Z"
   },
   {
    "duration": 25,
    "start_time": "2024-05-18T22:26:33.049Z"
   },
   {
    "duration": 12,
    "start_time": "2024-05-18T22:26:33.101Z"
   },
   {
    "duration": 7,
    "start_time": "2024-05-18T22:26:33.116Z"
   },
   {
    "duration": 3,
    "start_time": "2024-05-18T22:26:33.126Z"
   },
   {
    "duration": 27,
    "start_time": "2024-05-18T22:26:33.132Z"
   },
   {
    "duration": 1356,
    "start_time": "2024-05-18T22:26:33.161Z"
   },
   {
    "duration": 1,
    "start_time": "2024-05-18T22:26:34.520Z"
   },
   {
    "duration": 0,
    "start_time": "2024-05-18T22:26:34.523Z"
   },
   {
    "duration": 0,
    "start_time": "2024-05-18T22:26:34.525Z"
   },
   {
    "duration": 0,
    "start_time": "2024-05-18T22:26:34.528Z"
   },
   {
    "duration": 0,
    "start_time": "2024-05-18T22:26:34.530Z"
   },
   {
    "duration": 0,
    "start_time": "2024-05-18T22:26:34.533Z"
   },
   {
    "duration": 0,
    "start_time": "2024-05-18T22:26:34.535Z"
   },
   {
    "duration": 0,
    "start_time": "2024-05-18T22:26:34.537Z"
   },
   {
    "duration": 0,
    "start_time": "2024-05-18T22:26:34.538Z"
   },
   {
    "duration": 0,
    "start_time": "2024-05-18T22:26:34.541Z"
   },
   {
    "duration": 0,
    "start_time": "2024-05-18T22:26:34.545Z"
   },
   {
    "duration": 247,
    "start_time": "2024-05-18T22:27:17.351Z"
   },
   {
    "duration": 47,
    "start_time": "2024-05-18T22:27:27.417Z"
   },
   {
    "duration": 45,
    "start_time": "2024-05-18T22:28:15.457Z"
   },
   {
    "duration": 1281,
    "start_time": "2024-05-18T22:28:36.625Z"
   },
   {
    "duration": 287,
    "start_time": "2024-05-18T22:28:37.910Z"
   },
   {
    "duration": 21,
    "start_time": "2024-05-18T22:28:38.200Z"
   },
   {
    "duration": 18,
    "start_time": "2024-05-18T22:28:38.226Z"
   },
   {
    "duration": 15,
    "start_time": "2024-05-18T22:28:38.247Z"
   },
   {
    "duration": 44,
    "start_time": "2024-05-18T22:28:38.266Z"
   },
   {
    "duration": 14,
    "start_time": "2024-05-18T22:28:38.313Z"
   },
   {
    "duration": 14,
    "start_time": "2024-05-18T22:28:38.331Z"
   },
   {
    "duration": 60,
    "start_time": "2024-05-18T22:28:38.348Z"
   },
   {
    "duration": 17,
    "start_time": "2024-05-18T22:28:38.415Z"
   },
   {
    "duration": 135,
    "start_time": "2024-05-18T22:28:38.435Z"
   },
   {
    "duration": 37,
    "start_time": "2024-05-18T22:28:38.574Z"
   },
   {
    "duration": 19,
    "start_time": "2024-05-18T22:28:38.614Z"
   },
   {
    "duration": 10,
    "start_time": "2024-05-18T22:28:38.636Z"
   },
   {
    "duration": 86,
    "start_time": "2024-05-18T22:28:38.648Z"
   },
   {
    "duration": 19,
    "start_time": "2024-05-18T22:28:38.736Z"
   },
   {
    "duration": 50,
    "start_time": "2024-05-18T22:28:38.759Z"
   },
   {
    "duration": 12,
    "start_time": "2024-05-18T22:28:38.812Z"
   },
   {
    "duration": 147,
    "start_time": "2024-05-18T22:28:38.826Z"
   },
   {
    "duration": 39,
    "start_time": "2024-05-18T22:28:38.976Z"
   },
   {
    "duration": 15,
    "start_time": "2024-05-18T22:28:39.018Z"
   },
   {
    "duration": 8,
    "start_time": "2024-05-18T22:28:39.036Z"
   },
   {
    "duration": 5,
    "start_time": "2024-05-18T22:28:39.048Z"
   },
   {
    "duration": 67,
    "start_time": "2024-05-18T22:28:39.057Z"
   },
   {
    "duration": 22,
    "start_time": "2024-05-18T22:28:39.127Z"
   },
   {
    "duration": 4,
    "start_time": "2024-05-18T22:28:39.152Z"
   },
   {
    "duration": 4,
    "start_time": "2024-05-18T22:28:39.159Z"
   },
   {
    "duration": 3,
    "start_time": "2024-05-18T22:28:39.202Z"
   },
   {
    "duration": 4,
    "start_time": "2024-05-18T22:28:39.207Z"
   },
   {
    "duration": 3,
    "start_time": "2024-05-18T22:28:39.215Z"
   },
   {
    "duration": 4,
    "start_time": "2024-05-18T22:28:39.221Z"
   },
   {
    "duration": 4,
    "start_time": "2024-05-18T22:28:39.229Z"
   },
   {
    "duration": 4,
    "start_time": "2024-05-18T22:28:39.237Z"
   },
   {
    "duration": 58,
    "start_time": "2024-05-18T22:28:39.245Z"
   },
   {
    "duration": 3,
    "start_time": "2024-05-18T22:28:39.307Z"
   },
   {
    "duration": 3,
    "start_time": "2024-05-18T22:28:39.313Z"
   },
   {
    "duration": 684,
    "start_time": "2024-05-18T22:29:34.401Z"
   },
   {
    "duration": 44,
    "start_time": "2024-05-18T22:29:59.977Z"
   },
   {
    "duration": 45,
    "start_time": "2024-05-18T22:30:38.947Z"
   },
   {
    "duration": 45,
    "start_time": "2024-05-18T22:31:11.429Z"
   },
   {
    "duration": 63,
    "start_time": "2024-05-18T22:31:50.973Z"
   },
   {
    "duration": 25,
    "start_time": "2024-05-18T22:32:11.781Z"
   },
   {
    "duration": 48,
    "start_time": "2024-05-18T22:32:17.635Z"
   },
   {
    "duration": 42,
    "start_time": "2024-05-18T22:32:40.735Z"
   },
   {
    "duration": 69,
    "start_time": "2024-05-18T22:33:32.976Z"
   },
   {
    "duration": 80,
    "start_time": "2024-05-18T22:33:49.625Z"
   },
   {
    "duration": 62,
    "start_time": "2024-05-18T22:34:04.962Z"
   },
   {
    "duration": 64,
    "start_time": "2024-05-18T22:35:52.579Z"
   },
   {
    "duration": 554,
    "start_time": "2024-05-18T22:36:08.664Z"
   },
   {
    "duration": 1455,
    "start_time": "2024-05-18T22:36:25.418Z"
   },
   {
    "duration": 428,
    "start_time": "2024-05-18T22:37:07.407Z"
   },
   {
    "duration": 160,
    "start_time": "2024-05-18T22:37:48.708Z"
   },
   {
    "duration": 1297,
    "start_time": "2024-05-18T22:38:03.023Z"
   },
   {
    "duration": 298,
    "start_time": "2024-05-18T22:38:04.323Z"
   },
   {
    "duration": 16,
    "start_time": "2024-05-18T22:38:04.624Z"
   },
   {
    "duration": 21,
    "start_time": "2024-05-18T22:38:04.646Z"
   },
   {
    "duration": 47,
    "start_time": "2024-05-18T22:38:04.670Z"
   },
   {
    "duration": 16,
    "start_time": "2024-05-18T22:38:04.722Z"
   },
   {
    "duration": 15,
    "start_time": "2024-05-18T22:38:04.741Z"
   },
   {
    "duration": 51,
    "start_time": "2024-05-18T22:38:04.760Z"
   },
   {
    "duration": 26,
    "start_time": "2024-05-18T22:38:04.814Z"
   },
   {
    "duration": 14,
    "start_time": "2024-05-18T22:38:04.847Z"
   },
   {
    "duration": 161,
    "start_time": "2024-05-18T22:38:04.864Z"
   },
   {
    "duration": 27,
    "start_time": "2024-05-18T22:38:05.028Z"
   },
   {
    "duration": 55,
    "start_time": "2024-05-18T22:38:05.059Z"
   },
   {
    "duration": 15,
    "start_time": "2024-05-18T22:38:05.118Z"
   },
   {
    "duration": 89,
    "start_time": "2024-05-18T22:38:05.136Z"
   },
   {
    "duration": 20,
    "start_time": "2024-05-18T22:38:05.228Z"
   },
   {
    "duration": 51,
    "start_time": "2024-05-18T22:38:05.254Z"
   },
   {
    "duration": 12,
    "start_time": "2024-05-18T22:38:05.309Z"
   },
   {
    "duration": 162,
    "start_time": "2024-05-18T22:38:05.324Z"
   },
   {
    "duration": 36,
    "start_time": "2024-05-18T22:38:05.490Z"
   },
   {
    "duration": 12,
    "start_time": "2024-05-18T22:38:05.529Z"
   },
   {
    "duration": 7,
    "start_time": "2024-05-18T22:38:05.544Z"
   },
   {
    "duration": 4,
    "start_time": "2024-05-18T22:38:05.554Z"
   },
   {
    "duration": 66,
    "start_time": "2024-05-18T22:38:05.561Z"
   },
   {
    "duration": 31,
    "start_time": "2024-05-18T22:38:05.631Z"
   },
   {
    "duration": 37,
    "start_time": "2024-05-18T22:38:05.665Z"
   },
   {
    "duration": 6,
    "start_time": "2024-05-18T22:38:05.705Z"
   },
   {
    "duration": 4,
    "start_time": "2024-05-18T22:38:05.721Z"
   },
   {
    "duration": 4,
    "start_time": "2024-05-18T22:38:05.728Z"
   },
   {
    "duration": 3,
    "start_time": "2024-05-18T22:38:05.736Z"
   },
   {
    "duration": 4,
    "start_time": "2024-05-18T22:38:05.742Z"
   },
   {
    "duration": 3,
    "start_time": "2024-05-18T22:38:05.750Z"
   },
   {
    "duration": 3,
    "start_time": "2024-05-18T22:38:05.802Z"
   },
   {
    "duration": 4,
    "start_time": "2024-05-18T22:38:05.808Z"
   },
   {
    "duration": 3,
    "start_time": "2024-05-18T22:38:05.815Z"
   },
   {
    "duration": 3,
    "start_time": "2024-05-18T22:38:05.822Z"
   },
   {
    "duration": 35,
    "start_time": "2024-05-18T22:38:25.290Z"
   },
   {
    "duration": 38,
    "start_time": "2024-05-18T22:44:29.955Z"
   },
   {
    "duration": 73,
    "start_time": "2024-05-18T22:46:25.259Z"
   },
   {
    "duration": 46,
    "start_time": "2024-05-18T22:47:03.470Z"
   },
   {
    "duration": 40,
    "start_time": "2024-05-18T22:48:35.283Z"
   },
   {
    "duration": 49,
    "start_time": "2024-05-18T22:49:34.113Z"
   },
   {
    "duration": 49,
    "start_time": "2024-05-18T22:49:54.058Z"
   },
   {
    "duration": 1296,
    "start_time": "2024-05-18T22:50:37.995Z"
   },
   {
    "duration": 282,
    "start_time": "2024-05-18T22:50:39.296Z"
   },
   {
    "duration": 16,
    "start_time": "2024-05-18T22:50:39.580Z"
   },
   {
    "duration": 16,
    "start_time": "2024-05-18T22:50:39.604Z"
   },
   {
    "duration": 15,
    "start_time": "2024-05-18T22:50:39.624Z"
   },
   {
    "duration": 15,
    "start_time": "2024-05-18T22:50:39.642Z"
   },
   {
    "duration": 53,
    "start_time": "2024-05-18T22:50:39.660Z"
   },
   {
    "duration": 13,
    "start_time": "2024-05-18T22:50:39.716Z"
   },
   {
    "duration": 25,
    "start_time": "2024-05-18T22:50:39.732Z"
   },
   {
    "duration": 47,
    "start_time": "2024-05-18T22:50:39.763Z"
   },
   {
    "duration": 123,
    "start_time": "2024-05-18T22:50:39.813Z"
   },
   {
    "duration": 26,
    "start_time": "2024-05-18T22:50:39.939Z"
   },
   {
    "duration": 41,
    "start_time": "2024-05-18T22:50:39.968Z"
   },
   {
    "duration": 10,
    "start_time": "2024-05-18T22:50:40.012Z"
   },
   {
    "duration": 83,
    "start_time": "2024-05-18T22:50:40.025Z"
   },
   {
    "duration": 19,
    "start_time": "2024-05-18T22:50:40.111Z"
   },
   {
    "duration": 21,
    "start_time": "2024-05-18T22:50:40.133Z"
   },
   {
    "duration": 45,
    "start_time": "2024-05-18T22:50:40.157Z"
   },
   {
    "duration": 144,
    "start_time": "2024-05-18T22:50:40.205Z"
   },
   {
    "duration": 27,
    "start_time": "2024-05-18T22:50:40.352Z"
   },
   {
    "duration": 30,
    "start_time": "2024-05-18T22:50:40.382Z"
   },
   {
    "duration": 52,
    "start_time": "2024-05-18T22:50:40.417Z"
   },
   {
    "duration": 65,
    "start_time": "2024-05-18T22:50:40.473Z"
   },
   {
    "duration": 35,
    "start_time": "2024-05-18T22:50:40.542Z"
   },
   {
    "duration": 3,
    "start_time": "2024-05-18T22:50:40.603Z"
   },
   {
    "duration": 3,
    "start_time": "2024-05-18T22:50:40.609Z"
   },
   {
    "duration": 3,
    "start_time": "2024-05-18T22:50:40.616Z"
   },
   {
    "duration": 3,
    "start_time": "2024-05-18T22:50:40.626Z"
   },
   {
    "duration": 4,
    "start_time": "2024-05-18T22:50:40.632Z"
   },
   {
    "duration": 3,
    "start_time": "2024-05-18T22:50:40.640Z"
   },
   {
    "duration": 56,
    "start_time": "2024-05-18T22:50:40.646Z"
   },
   {
    "duration": 4,
    "start_time": "2024-05-18T22:50:40.705Z"
   },
   {
    "duration": 4,
    "start_time": "2024-05-18T22:50:40.712Z"
   },
   {
    "duration": 4,
    "start_time": "2024-05-18T22:50:40.719Z"
   },
   {
    "duration": 4,
    "start_time": "2024-05-18T22:50:40.726Z"
   },
   {
    "duration": 12,
    "start_time": "2024-05-18T22:59:31.535Z"
   },
   {
    "duration": 12,
    "start_time": "2024-05-18T22:59:36.200Z"
   },
   {
    "duration": 23,
    "start_time": "2024-05-18T22:59:55.964Z"
   },
   {
    "duration": 17,
    "start_time": "2024-05-18T23:01:01.495Z"
   },
   {
    "duration": 1234,
    "start_time": "2024-05-18T23:01:20.432Z"
   },
   {
    "duration": 277,
    "start_time": "2024-05-18T23:01:21.669Z"
   },
   {
    "duration": 16,
    "start_time": "2024-05-18T23:01:21.948Z"
   },
   {
    "duration": 16,
    "start_time": "2024-05-18T23:01:21.970Z"
   },
   {
    "duration": 15,
    "start_time": "2024-05-18T23:01:22.003Z"
   },
   {
    "duration": 14,
    "start_time": "2024-05-18T23:01:22.021Z"
   },
   {
    "duration": 13,
    "start_time": "2024-05-18T23:01:22.039Z"
   },
   {
    "duration": 53,
    "start_time": "2024-05-18T23:01:22.056Z"
   },
   {
    "duration": 25,
    "start_time": "2024-05-18T23:01:22.113Z"
   },
   {
    "duration": 12,
    "start_time": "2024-05-18T23:01:22.144Z"
   },
   {
    "duration": 145,
    "start_time": "2024-05-18T23:01:22.159Z"
   },
   {
    "duration": 25,
    "start_time": "2024-05-18T23:01:22.309Z"
   },
   {
    "duration": 20,
    "start_time": "2024-05-18T23:01:22.337Z"
   },
   {
    "duration": 10,
    "start_time": "2024-05-18T23:01:22.360Z"
   },
   {
    "duration": 58,
    "start_time": "2024-05-18T23:01:22.404Z"
   },
   {
    "duration": 45,
    "start_time": "2024-05-18T23:01:22.465Z"
   },
   {
    "duration": 23,
    "start_time": "2024-05-18T23:01:22.516Z"
   },
   {
    "duration": 11,
    "start_time": "2024-05-18T23:01:22.542Z"
   },
   {
    "duration": 178,
    "start_time": "2024-05-18T23:01:22.557Z"
   },
   {
    "duration": 28,
    "start_time": "2024-05-18T23:01:22.739Z"
   },
   {
    "duration": 32,
    "start_time": "2024-05-18T23:01:22.770Z"
   },
   {
    "duration": 48,
    "start_time": "2024-05-18T23:01:22.805Z"
   },
   {
    "duration": 57,
    "start_time": "2024-05-18T23:01:22.856Z"
   },
   {
    "duration": 37,
    "start_time": "2024-05-18T23:01:22.916Z"
   },
   {
    "duration": 46,
    "start_time": "2024-05-18T23:01:22.956Z"
   },
   {
    "duration": 4,
    "start_time": "2024-05-18T23:01:23.005Z"
   },
   {
    "duration": 4,
    "start_time": "2024-05-18T23:01:23.012Z"
   },
   {
    "duration": 3,
    "start_time": "2024-05-18T23:01:23.023Z"
   },
   {
    "duration": 4,
    "start_time": "2024-05-18T23:01:23.029Z"
   },
   {
    "duration": 3,
    "start_time": "2024-05-18T23:01:23.037Z"
   },
   {
    "duration": 3,
    "start_time": "2024-05-18T23:01:23.044Z"
   },
   {
    "duration": 3,
    "start_time": "2024-05-18T23:01:23.103Z"
   },
   {
    "duration": 4,
    "start_time": "2024-05-18T23:01:23.109Z"
   },
   {
    "duration": 3,
    "start_time": "2024-05-18T23:01:23.116Z"
   },
   {
    "duration": 3,
    "start_time": "2024-05-18T23:01:23.123Z"
   },
   {
    "duration": 20,
    "start_time": "2024-05-18T23:01:33.546Z"
   },
   {
    "duration": 25,
    "start_time": "2024-05-18T23:02:50.487Z"
   },
   {
    "duration": 28,
    "start_time": "2024-05-18T23:03:13.950Z"
   },
   {
    "duration": 14,
    "start_time": "2024-05-18T23:17:25.716Z"
   },
   {
    "duration": 14,
    "start_time": "2024-05-18T23:17:40.699Z"
   },
   {
    "duration": 12,
    "start_time": "2024-05-18T23:17:57.952Z"
   },
   {
    "duration": 23,
    "start_time": "2024-05-18T23:18:37.375Z"
   },
   {
    "duration": 28,
    "start_time": "2024-05-18T23:20:14.213Z"
   },
   {
    "duration": 45,
    "start_time": "2024-05-18T23:20:30.136Z"
   },
   {
    "duration": 38,
    "start_time": "2024-05-18T23:22:36.833Z"
   },
   {
    "duration": 36,
    "start_time": "2024-05-18T23:43:31.977Z"
   },
   {
    "duration": 38,
    "start_time": "2024-05-18T23:46:00.523Z"
   },
   {
    "duration": 31,
    "start_time": "2024-05-18T23:46:37.281Z"
   },
   {
    "duration": 39,
    "start_time": "2024-05-18T23:46:56.631Z"
   },
   {
    "duration": 39,
    "start_time": "2024-05-18T23:54:32.204Z"
   },
   {
    "duration": 48,
    "start_time": "2024-05-18T23:58:01.963Z"
   },
   {
    "duration": 19,
    "start_time": "2024-05-19T00:08:01.606Z"
   },
   {
    "duration": 48,
    "start_time": "2024-05-19T00:08:37.518Z"
   },
   {
    "duration": 65,
    "start_time": "2024-05-19T00:11:11.872Z"
   },
   {
    "duration": 7,
    "start_time": "2024-05-19T00:29:57.095Z"
   },
   {
    "duration": 5023,
    "start_time": "2024-05-19T17:30:03.152Z"
   },
   {
    "duration": 354,
    "start_time": "2024-05-19T17:30:08.179Z"
   },
   {
    "duration": 15,
    "start_time": "2024-05-19T17:30:08.536Z"
   },
   {
    "duration": 17,
    "start_time": "2024-05-19T17:30:08.557Z"
   },
   {
    "duration": 37,
    "start_time": "2024-05-19T17:30:08.577Z"
   },
   {
    "duration": 14,
    "start_time": "2024-05-19T17:30:08.616Z"
   },
   {
    "duration": 14,
    "start_time": "2024-05-19T17:30:08.634Z"
   },
   {
    "duration": 54,
    "start_time": "2024-05-19T17:30:08.651Z"
   },
   {
    "duration": 25,
    "start_time": "2024-05-19T17:30:08.709Z"
   },
   {
    "duration": 14,
    "start_time": "2024-05-19T17:30:08.741Z"
   },
   {
    "duration": 145,
    "start_time": "2024-05-19T17:30:08.758Z"
   },
   {
    "duration": 25,
    "start_time": "2024-05-19T17:30:08.906Z"
   },
   {
    "duration": 20,
    "start_time": "2024-05-19T17:30:08.934Z"
   },
   {
    "duration": 45,
    "start_time": "2024-05-19T17:30:08.957Z"
   },
   {
    "duration": 54,
    "start_time": "2024-05-19T17:30:09.005Z"
   },
   {
    "duration": 46,
    "start_time": "2024-05-19T17:30:09.062Z"
   },
   {
    "duration": 22,
    "start_time": "2024-05-19T17:30:09.111Z"
   },
   {
    "duration": 12,
    "start_time": "2024-05-19T17:30:09.136Z"
   },
   {
    "duration": 179,
    "start_time": "2024-05-19T17:30:09.154Z"
   },
   {
    "duration": 25,
    "start_time": "2024-05-19T17:30:09.336Z"
   },
   {
    "duration": 39,
    "start_time": "2024-05-19T17:30:09.364Z"
   },
   {
    "duration": 49,
    "start_time": "2024-05-19T17:30:09.406Z"
   },
   {
    "duration": 56,
    "start_time": "2024-05-19T17:30:09.459Z"
   },
   {
    "duration": 34,
    "start_time": "2024-05-19T17:30:09.518Z"
   },
   {
    "duration": 52,
    "start_time": "2024-05-19T17:30:09.555Z"
   },
   {
    "duration": 38,
    "start_time": "2024-05-19T17:30:09.610Z"
   },
   {
    "duration": 84,
    "start_time": "2024-05-19T17:30:09.651Z"
   },
   {
    "duration": 36,
    "start_time": "2024-05-19T17:30:09.744Z"
   },
   {
    "duration": 3,
    "start_time": "2024-05-19T17:30:09.782Z"
   },
   {
    "duration": 7,
    "start_time": "2024-05-19T17:30:09.802Z"
   },
   {
    "duration": 3,
    "start_time": "2024-05-19T17:30:09.812Z"
   },
   {
    "duration": 4,
    "start_time": "2024-05-19T17:30:09.818Z"
   },
   {
    "duration": 4,
    "start_time": "2024-05-19T17:30:09.825Z"
   },
   {
    "duration": 7,
    "start_time": "2024-05-19T17:30:09.833Z"
   },
   {
    "duration": 3,
    "start_time": "2024-05-19T17:30:09.843Z"
   },
   {
    "duration": 9,
    "start_time": "2024-05-19T17:39:06.621Z"
   },
   {
    "duration": 403,
    "start_time": "2024-05-19T17:39:25.346Z"
   },
   {
    "duration": 33,
    "start_time": "2024-05-19T17:39:32.008Z"
   },
   {
    "duration": 11,
    "start_time": "2024-05-19T17:40:40.069Z"
   },
   {
    "duration": 16,
    "start_time": "2024-05-19T17:40:58.516Z"
   },
   {
    "duration": 29,
    "start_time": "2024-05-19T17:42:38.479Z"
   },
   {
    "duration": 438,
    "start_time": "2024-05-19T17:42:46.007Z"
   },
   {
    "duration": 344,
    "start_time": "2024-05-19T17:43:36.090Z"
   },
   {
    "duration": 513,
    "start_time": "2024-05-19T17:43:53.297Z"
   },
   {
    "duration": 361,
    "start_time": "2024-05-19T17:44:06.640Z"
   },
   {
    "duration": 340,
    "start_time": "2024-05-19T17:44:34.169Z"
   },
   {
    "duration": 778,
    "start_time": "2024-05-19T18:00:02.369Z"
   },
   {
    "duration": 466,
    "start_time": "2024-05-19T18:02:18.920Z"
   },
   {
    "duration": 116,
    "start_time": "2024-05-19T18:02:26.864Z"
   },
   {
    "duration": 345,
    "start_time": "2024-05-19T18:02:38.571Z"
   },
   {
    "duration": 102,
    "start_time": "2024-05-19T18:03:26.478Z"
   },
   {
    "duration": 416,
    "start_time": "2024-05-19T18:03:54.280Z"
   },
   {
    "duration": 304,
    "start_time": "2024-05-19T20:24:56.847Z"
   },
   {
    "duration": 4959,
    "start_time": "2024-05-19T20:25:26.220Z"
   },
   {
    "duration": 364,
    "start_time": "2024-05-19T20:25:31.183Z"
   },
   {
    "duration": 18,
    "start_time": "2024-05-19T20:25:31.550Z"
   },
   {
    "duration": 18,
    "start_time": "2024-05-19T20:25:31.571Z"
   },
   {
    "duration": 28,
    "start_time": "2024-05-19T20:25:31.592Z"
   },
   {
    "duration": 15,
    "start_time": "2024-05-19T20:25:31.622Z"
   },
   {
    "duration": 14,
    "start_time": "2024-05-19T20:25:31.640Z"
   },
   {
    "duration": 13,
    "start_time": "2024-05-19T20:25:31.657Z"
   },
   {
    "duration": 61,
    "start_time": "2024-05-19T20:25:31.672Z"
   },
   {
    "duration": 11,
    "start_time": "2024-05-19T20:25:31.740Z"
   },
   {
    "duration": 139,
    "start_time": "2024-05-19T20:25:31.754Z"
   },
   {
    "duration": 33,
    "start_time": "2024-05-19T20:25:31.896Z"
   },
   {
    "duration": 19,
    "start_time": "2024-05-19T20:25:31.932Z"
   },
   {
    "duration": 10,
    "start_time": "2024-05-19T20:25:31.954Z"
   },
   {
    "duration": 87,
    "start_time": "2024-05-19T20:25:31.968Z"
   },
   {
    "duration": 17,
    "start_time": "2024-05-19T20:25:32.058Z"
   },
   {
    "duration": 42,
    "start_time": "2024-05-19T20:25:32.080Z"
   },
   {
    "duration": 11,
    "start_time": "2024-05-19T20:25:32.125Z"
   },
   {
    "duration": 154,
    "start_time": "2024-05-19T20:25:32.139Z"
   },
   {
    "duration": 31,
    "start_time": "2024-05-19T20:25:32.296Z"
   },
   {
    "duration": 11,
    "start_time": "2024-05-19T20:25:32.331Z"
   },
   {
    "duration": 76,
    "start_time": "2024-05-19T20:25:32.346Z"
   },
   {
    "duration": 37,
    "start_time": "2024-05-19T20:25:32.425Z"
   },
   {
    "duration": 64,
    "start_time": "2024-05-19T20:25:32.466Z"
   },
   {
    "duration": 27,
    "start_time": "2024-05-19T20:25:32.536Z"
   },
   {
    "duration": 62,
    "start_time": "2024-05-19T20:25:32.566Z"
   },
   {
    "duration": 52,
    "start_time": "2024-05-19T20:25:32.630Z"
   },
   {
    "duration": 37,
    "start_time": "2024-05-19T20:25:32.689Z"
   },
   {
    "duration": 5,
    "start_time": "2024-05-19T20:25:32.728Z"
   },
   {
    "duration": 3,
    "start_time": "2024-05-19T20:25:32.737Z"
   },
   {
    "duration": 3,
    "start_time": "2024-05-19T20:25:32.744Z"
   },
   {
    "duration": 3,
    "start_time": "2024-05-19T20:25:32.750Z"
   },
   {
    "duration": 5,
    "start_time": "2024-05-19T20:25:32.756Z"
   },
   {
    "duration": 52,
    "start_time": "2024-05-19T20:25:32.764Z"
   },
   {
    "duration": 4,
    "start_time": "2024-05-19T20:25:32.819Z"
   },
   {
    "duration": 24,
    "start_time": "2024-05-19T20:26:41.652Z"
   },
   {
    "duration": 404,
    "start_time": "2024-05-19T20:28:11.297Z"
   },
   {
    "duration": 10,
    "start_time": "2024-05-19T20:28:23.218Z"
   },
   {
    "duration": 9,
    "start_time": "2024-05-19T20:29:13.145Z"
   },
   {
    "duration": 13,
    "start_time": "2024-05-19T20:29:31.555Z"
   },
   {
    "duration": 11,
    "start_time": "2024-05-19T20:29:53.168Z"
   },
   {
    "duration": 17,
    "start_time": "2024-05-19T20:31:19.268Z"
   },
   {
    "duration": 20,
    "start_time": "2024-05-19T20:32:23.654Z"
   },
   {
    "duration": 768,
    "start_time": "2024-05-19T20:35:37.498Z"
   },
   {
    "duration": 69,
    "start_time": "2024-05-19T20:37:08.528Z"
   },
   {
    "duration": 1259,
    "start_time": "2024-05-19T20:38:32.163Z"
   },
   {
    "duration": 293,
    "start_time": "2024-05-19T20:38:33.430Z"
   },
   {
    "duration": 17,
    "start_time": "2024-05-19T20:38:33.726Z"
   },
   {
    "duration": 17,
    "start_time": "2024-05-19T20:38:33.747Z"
   },
   {
    "duration": 46,
    "start_time": "2024-05-19T20:38:33.767Z"
   },
   {
    "duration": 18,
    "start_time": "2024-05-19T20:38:33.815Z"
   },
   {
    "duration": 14,
    "start_time": "2024-05-19T20:38:33.836Z"
   },
   {
    "duration": 13,
    "start_time": "2024-05-19T20:38:33.853Z"
   },
   {
    "duration": 62,
    "start_time": "2024-05-19T20:38:33.869Z"
   },
   {
    "duration": 13,
    "start_time": "2024-05-19T20:38:33.937Z"
   },
   {
    "duration": 132,
    "start_time": "2024-05-19T20:38:33.952Z"
   },
   {
    "duration": 33,
    "start_time": "2024-05-19T20:38:34.087Z"
   },
   {
    "duration": 19,
    "start_time": "2024-05-19T20:38:34.123Z"
   },
   {
    "duration": 10,
    "start_time": "2024-05-19T20:38:34.145Z"
   },
   {
    "duration": 88,
    "start_time": "2024-05-19T20:38:34.158Z"
   },
   {
    "duration": 18,
    "start_time": "2024-05-19T20:38:34.248Z"
   },
   {
    "duration": 50,
    "start_time": "2024-05-19T20:38:34.269Z"
   },
   {
    "duration": 12,
    "start_time": "2024-05-19T20:38:34.321Z"
   },
   {
    "duration": 146,
    "start_time": "2024-05-19T20:38:34.336Z"
   },
   {
    "duration": 36,
    "start_time": "2024-05-19T20:38:34.485Z"
   },
   {
    "duration": 13,
    "start_time": "2024-05-19T20:38:34.524Z"
   },
   {
    "duration": 73,
    "start_time": "2024-05-19T20:38:34.540Z"
   },
   {
    "duration": 33,
    "start_time": "2024-05-19T20:38:34.616Z"
   },
   {
    "duration": 62,
    "start_time": "2024-05-19T20:38:34.652Z"
   },
   {
    "duration": 32,
    "start_time": "2024-05-19T20:38:34.720Z"
   },
   {
    "duration": 61,
    "start_time": "2024-05-19T20:38:34.754Z"
   },
   {
    "duration": 51,
    "start_time": "2024-05-19T20:38:34.818Z"
   },
   {
    "duration": 1161,
    "start_time": "2024-05-19T20:38:34.876Z"
   },
   {
    "duration": 0,
    "start_time": "2024-05-19T20:38:36.040Z"
   },
   {
    "duration": 0,
    "start_time": "2024-05-19T20:38:36.042Z"
   },
   {
    "duration": 0,
    "start_time": "2024-05-19T20:38:36.043Z"
   },
   {
    "duration": 0,
    "start_time": "2024-05-19T20:38:36.045Z"
   },
   {
    "duration": 0,
    "start_time": "2024-05-19T20:38:36.048Z"
   },
   {
    "duration": 0,
    "start_time": "2024-05-19T20:38:36.050Z"
   },
   {
    "duration": 0,
    "start_time": "2024-05-19T20:38:36.052Z"
   },
   {
    "duration": 17,
    "start_time": "2024-05-19T20:38:48.626Z"
   },
   {
    "duration": 348,
    "start_time": "2024-05-19T20:40:18.164Z"
   },
   {
    "duration": 459,
    "start_time": "2024-05-19T20:40:54.857Z"
   },
   {
    "duration": 517,
    "start_time": "2024-05-19T20:41:43.160Z"
   },
   {
    "duration": 577,
    "start_time": "2024-05-19T20:41:59.089Z"
   },
   {
    "duration": 302,
    "start_time": "2024-05-19T21:07:50.970Z"
   },
   {
    "duration": 276,
    "start_time": "2024-05-19T21:08:20.167Z"
   },
   {
    "duration": 238,
    "start_time": "2024-05-19T21:08:58.540Z"
   },
   {
    "duration": 282,
    "start_time": "2024-05-19T21:09:03.904Z"
   },
   {
    "duration": 10,
    "start_time": "2024-05-19T21:12:10.739Z"
   },
   {
    "duration": 12,
    "start_time": "2024-05-19T21:12:22.196Z"
   },
   {
    "duration": 16,
    "start_time": "2024-05-19T21:13:02.192Z"
   },
   {
    "duration": 12,
    "start_time": "2024-05-19T21:13:19.321Z"
   },
   {
    "duration": 8,
    "start_time": "2024-05-19T21:23:32.807Z"
   },
   {
    "duration": 12,
    "start_time": "2024-05-19T21:23:44.650Z"
   },
   {
    "duration": 13,
    "start_time": "2024-05-19T21:26:40.132Z"
   },
   {
    "duration": 337,
    "start_time": "2024-05-19T21:32:42.196Z"
   },
   {
    "duration": 11,
    "start_time": "2024-05-19T21:38:52.749Z"
   },
   {
    "duration": 14,
    "start_time": "2024-05-19T21:39:44.517Z"
   },
   {
    "duration": 32,
    "start_time": "2024-05-19T21:41:02.565Z"
   },
   {
    "duration": 29,
    "start_time": "2024-05-19T21:41:16.276Z"
   },
   {
    "duration": 484,
    "start_time": "2024-05-19T21:41:21.098Z"
   },
   {
    "duration": 364,
    "start_time": "2024-05-19T23:07:33.739Z"
   },
   {
    "duration": 4957,
    "start_time": "2024-05-19T23:07:55.555Z"
   },
   {
    "duration": 355,
    "start_time": "2024-05-19T23:08:00.515Z"
   },
   {
    "duration": 18,
    "start_time": "2024-05-19T23:08:00.874Z"
   },
   {
    "duration": 26,
    "start_time": "2024-05-19T23:08:00.898Z"
   },
   {
    "duration": 18,
    "start_time": "2024-05-19T23:08:00.928Z"
   },
   {
    "duration": 21,
    "start_time": "2024-05-19T23:08:00.949Z"
   },
   {
    "duration": 51,
    "start_time": "2024-05-19T23:08:00.973Z"
   },
   {
    "duration": 14,
    "start_time": "2024-05-19T23:08:01.027Z"
   },
   {
    "duration": 25,
    "start_time": "2024-05-19T23:08:01.044Z"
   },
   {
    "duration": 12,
    "start_time": "2024-05-19T23:08:01.111Z"
   },
   {
    "duration": 126,
    "start_time": "2024-05-19T23:08:01.126Z"
   },
   {
    "duration": 25,
    "start_time": "2024-05-19T23:08:01.256Z"
   },
   {
    "duration": 39,
    "start_time": "2024-05-19T23:08:01.284Z"
   },
   {
    "duration": 11,
    "start_time": "2024-05-19T23:08:01.325Z"
   },
   {
    "duration": 80,
    "start_time": "2024-05-19T23:08:01.338Z"
   },
   {
    "duration": 18,
    "start_time": "2024-05-19T23:08:01.420Z"
   },
   {
    "duration": 22,
    "start_time": "2024-05-19T23:08:01.441Z"
   },
   {
    "duration": 52,
    "start_time": "2024-05-19T23:08:01.466Z"
   },
   {
    "duration": 138,
    "start_time": "2024-05-19T23:08:01.525Z"
   },
   {
    "duration": 24,
    "start_time": "2024-05-19T23:08:01.666Z"
   },
   {
    "duration": 29,
    "start_time": "2024-05-19T23:08:01.693Z"
   },
   {
    "duration": 50,
    "start_time": "2024-05-19T23:08:01.724Z"
   },
   {
    "duration": 64,
    "start_time": "2024-05-19T23:08:01.777Z"
   },
   {
    "duration": 36,
    "start_time": "2024-05-19T23:08:01.844Z"
   },
   {
    "duration": 52,
    "start_time": "2024-05-19T23:08:01.884Z"
   },
   {
    "duration": 39,
    "start_time": "2024-05-19T23:08:01.939Z"
   },
   {
    "duration": 82,
    "start_time": "2024-05-19T23:08:01.981Z"
   },
   {
    "duration": 19,
    "start_time": "2024-05-19T23:08:02.072Z"
   },
   {
    "duration": 365,
    "start_time": "2024-05-19T23:08:02.114Z"
   },
   {
    "duration": 11,
    "start_time": "2024-05-19T23:08:02.482Z"
   },
   {
    "duration": 386,
    "start_time": "2024-05-19T23:08:02.512Z"
   },
   {
    "duration": 19,
    "start_time": "2024-05-19T23:08:02.902Z"
   },
   {
    "duration": 16,
    "start_time": "2024-05-19T23:08:02.924Z"
   },
   {
    "duration": 7,
    "start_time": "2024-05-19T23:08:02.942Z"
   },
   {
    "duration": 4,
    "start_time": "2024-05-19T23:08:02.951Z"
   },
   {
    "duration": 23,
    "start_time": "2024-05-19T23:08:20.070Z"
   },
   {
    "duration": 19,
    "start_time": "2024-05-19T23:08:32.066Z"
   },
   {
    "duration": 22,
    "start_time": "2024-05-19T23:08:39.348Z"
   },
   {
    "duration": 314,
    "start_time": "2024-05-19T23:09:40.855Z"
   },
   {
    "duration": 3,
    "start_time": "2024-05-19T23:12:35.627Z"
   },
   {
    "duration": 25,
    "start_time": "2024-05-19T23:15:33.928Z"
   },
   {
    "duration": 25,
    "start_time": "2024-05-19T23:16:12.261Z"
   },
   {
    "duration": 8,
    "start_time": "2024-05-19T23:22:13.332Z"
   },
   {
    "duration": 1577,
    "start_time": "2024-05-19T23:24:51.511Z"
   },
   {
    "duration": 278,
    "start_time": "2024-05-19T23:25:22.421Z"
   },
   {
    "duration": 299,
    "start_time": "2024-05-19T23:27:54.558Z"
   },
   {
    "duration": 22,
    "start_time": "2024-05-19T23:28:09.451Z"
   },
   {
    "duration": 23,
    "start_time": "2024-05-19T23:47:51.419Z"
   },
   {
    "duration": 35,
    "start_time": "2024-05-19T23:57:51.060Z"
   },
   {
    "duration": 22,
    "start_time": "2024-05-20T00:12:36.327Z"
   },
   {
    "duration": 26,
    "start_time": "2024-05-20T00:56:46.071Z"
   },
   {
    "duration": 22,
    "start_time": "2024-05-20T00:56:56.718Z"
   },
   {
    "duration": 42,
    "start_time": "2024-05-20T00:57:28.170Z"
   },
   {
    "duration": 23,
    "start_time": "2024-05-20T00:57:51.609Z"
   },
   {
    "duration": 300,
    "start_time": "2024-05-20T01:00:48.608Z"
   },
   {
    "duration": 288,
    "start_time": "2024-05-20T01:02:12.458Z"
   },
   {
    "duration": 1322,
    "start_time": "2024-05-20T01:02:59.677Z"
   },
   {
    "duration": 274,
    "start_time": "2024-05-20T01:04:11.557Z"
   },
   {
    "duration": 304,
    "start_time": "2024-05-20T01:04:30.933Z"
   },
   {
    "duration": 289,
    "start_time": "2024-05-20T01:04:48.886Z"
   },
   {
    "duration": 418,
    "start_time": "2024-05-20T01:04:56.216Z"
   },
   {
    "duration": 301,
    "start_time": "2024-05-20T01:05:23.167Z"
   },
   {
    "duration": 311,
    "start_time": "2024-05-20T01:06:28.213Z"
   },
   {
    "duration": 308,
    "start_time": "2024-05-20T01:06:35.985Z"
   },
   {
    "duration": 27,
    "start_time": "2024-05-20T01:08:32.354Z"
   },
   {
    "duration": 23,
    "start_time": "2024-05-20T01:08:44.744Z"
   },
   {
    "duration": 1231,
    "start_time": "2024-05-20T01:09:06.174Z"
   },
   {
    "duration": 269,
    "start_time": "2024-05-20T01:09:07.409Z"
   },
   {
    "duration": 16,
    "start_time": "2024-05-20T01:09:07.681Z"
   },
   {
    "duration": 26,
    "start_time": "2024-05-20T01:09:07.701Z"
   },
   {
    "duration": 16,
    "start_time": "2024-05-20T01:09:07.729Z"
   },
   {
    "duration": 16,
    "start_time": "2024-05-20T01:09:07.748Z"
   },
   {
    "duration": 53,
    "start_time": "2024-05-20T01:09:07.766Z"
   },
   {
    "duration": 15,
    "start_time": "2024-05-20T01:09:07.823Z"
   },
   {
    "duration": 24,
    "start_time": "2024-05-20T01:09:07.843Z"
   },
   {
    "duration": 48,
    "start_time": "2024-05-20T01:09:07.873Z"
   },
   {
    "duration": 120,
    "start_time": "2024-05-20T01:09:07.924Z"
   },
   {
    "duration": 25,
    "start_time": "2024-05-20T01:09:08.047Z"
   },
   {
    "duration": 43,
    "start_time": "2024-05-20T01:09:08.075Z"
   },
   {
    "duration": 10,
    "start_time": "2024-05-20T01:09:08.121Z"
   },
   {
    "duration": 53,
    "start_time": "2024-05-20T01:09:08.134Z"
   },
   {
    "duration": 18,
    "start_time": "2024-05-20T01:09:08.213Z"
   },
   {
    "duration": 22,
    "start_time": "2024-05-20T01:09:08.234Z"
   },
   {
    "duration": 11,
    "start_time": "2024-05-20T01:09:08.259Z"
   },
   {
    "duration": 139,
    "start_time": "2024-05-20T01:09:08.312Z"
   },
   {
    "duration": 27,
    "start_time": "2024-05-20T01:09:08.454Z"
   },
   {
    "duration": 33,
    "start_time": "2024-05-20T01:09:08.484Z"
   },
   {
    "duration": 49,
    "start_time": "2024-05-20T01:09:08.520Z"
   },
   {
    "duration": 60,
    "start_time": "2024-05-20T01:09:08.572Z"
   },
   {
    "duration": 33,
    "start_time": "2024-05-20T01:09:08.635Z"
   },
   {
    "duration": 51,
    "start_time": "2024-05-20T01:09:08.672Z"
   },
   {
    "duration": 42,
    "start_time": "2024-05-20T01:09:08.726Z"
   },
   {
    "duration": 76,
    "start_time": "2024-05-20T01:09:08.771Z"
   },
   {
    "duration": 23,
    "start_time": "2024-05-20T01:09:08.854Z"
   },
   {
    "duration": 335,
    "start_time": "2024-05-20T01:09:08.879Z"
   },
   {
    "duration": 25,
    "start_time": "2024-05-20T01:09:09.218Z"
   },
   {
    "duration": 323,
    "start_time": "2024-05-20T01:09:09.246Z"
   },
   {
    "duration": 24,
    "start_time": "2024-05-20T01:09:09.572Z"
   },
   {
    "duration": 24,
    "start_time": "2024-05-20T01:09:09.613Z"
   },
   {
    "duration": 381,
    "start_time": "2024-05-20T01:09:09.639Z"
   },
   {
    "duration": 339,
    "start_time": "2024-05-20T01:09:10.022Z"
   },
   {
    "duration": 28,
    "start_time": "2024-05-20T01:09:10.363Z"
   },
   {
    "duration": 24,
    "start_time": "2024-05-20T01:09:10.394Z"
   },
   {
    "duration": 4,
    "start_time": "2024-05-20T01:09:10.421Z"
   },
   {
    "duration": 22,
    "start_time": "2024-05-20T01:09:29.860Z"
   },
   {
    "duration": 24,
    "start_time": "2024-05-20T01:09:45.433Z"
   },
   {
    "duration": 24,
    "start_time": "2024-05-20T01:10:55.958Z"
   },
   {
    "duration": 22,
    "start_time": "2024-05-20T01:11:12.326Z"
   },
   {
    "duration": 25,
    "start_time": "2024-05-20T01:11:22.550Z"
   },
   {
    "duration": 407,
    "start_time": "2024-05-20T01:21:28.200Z"
   },
   {
    "duration": 11,
    "start_time": "2024-05-20T01:21:38.894Z"
   },
   {
    "duration": 10,
    "start_time": "2024-05-20T01:22:38.058Z"
   },
   {
    "duration": 7,
    "start_time": "2024-05-20T01:25:50.801Z"
   },
   {
    "duration": 3,
    "start_time": "2024-05-20T01:27:43.467Z"
   },
   {
    "duration": 5229,
    "start_time": "2024-05-20T02:22:42.430Z"
   },
   {
    "duration": 369,
    "start_time": "2024-05-20T02:22:47.663Z"
   },
   {
    "duration": 17,
    "start_time": "2024-05-20T02:22:48.035Z"
   },
   {
    "duration": 17,
    "start_time": "2024-05-20T02:22:48.058Z"
   },
   {
    "duration": 53,
    "start_time": "2024-05-20T02:22:48.078Z"
   },
   {
    "duration": 15,
    "start_time": "2024-05-20T02:22:48.134Z"
   },
   {
    "duration": 15,
    "start_time": "2024-05-20T02:22:48.153Z"
   },
   {
    "duration": 15,
    "start_time": "2024-05-20T02:22:48.171Z"
   },
   {
    "duration": 26,
    "start_time": "2024-05-20T02:22:48.231Z"
   },
   {
    "duration": 14,
    "start_time": "2024-05-20T02:22:48.263Z"
   },
   {
    "duration": 162,
    "start_time": "2024-05-20T02:22:48.281Z"
   },
   {
    "duration": 27,
    "start_time": "2024-05-20T02:22:48.447Z"
   },
   {
    "duration": 28,
    "start_time": "2024-05-20T02:22:48.479Z"
   },
   {
    "duration": 12,
    "start_time": "2024-05-20T02:22:48.533Z"
   },
   {
    "duration": 90,
    "start_time": "2024-05-20T02:22:48.548Z"
   },
   {
    "duration": 18,
    "start_time": "2024-05-20T02:22:48.641Z"
   },
   {
    "duration": 25,
    "start_time": "2024-05-20T02:22:48.662Z"
   },
   {
    "duration": 41,
    "start_time": "2024-05-20T02:22:48.690Z"
   },
   {
    "duration": 166,
    "start_time": "2024-05-20T02:22:48.734Z"
   },
   {
    "duration": 31,
    "start_time": "2024-05-20T02:22:48.913Z"
   },
   {
    "duration": 13,
    "start_time": "2024-05-20T02:22:48.947Z"
   },
   {
    "duration": 78,
    "start_time": "2024-05-20T02:22:48.964Z"
   },
   {
    "duration": 35,
    "start_time": "2024-05-20T02:22:49.045Z"
   },
   {
    "duration": 63,
    "start_time": "2024-05-20T02:22:49.084Z"
   },
   {
    "duration": 28,
    "start_time": "2024-05-20T02:22:49.151Z"
   },
   {
    "duration": 68,
    "start_time": "2024-05-20T02:22:49.183Z"
   },
   {
    "duration": 57,
    "start_time": "2024-05-20T02:22:49.254Z"
   },
   {
    "duration": 24,
    "start_time": "2024-05-20T02:22:49.335Z"
   },
   {
    "duration": 352,
    "start_time": "2024-05-20T02:22:49.362Z"
   },
   {
    "duration": 34,
    "start_time": "2024-05-20T02:22:49.718Z"
   },
   {
    "duration": 314,
    "start_time": "2024-05-20T02:22:49.757Z"
   },
   {
    "duration": 27,
    "start_time": "2024-05-20T02:22:50.075Z"
   },
   {
    "duration": 45,
    "start_time": "2024-05-20T02:22:50.105Z"
   },
   {
    "duration": 333,
    "start_time": "2024-05-20T02:22:50.154Z"
   },
   {
    "duration": 382,
    "start_time": "2024-05-20T02:22:50.490Z"
   },
   {
    "duration": 25,
    "start_time": "2024-05-20T02:22:50.876Z"
   },
   {
    "duration": 33,
    "start_time": "2024-05-20T02:22:50.905Z"
   },
   {
    "duration": 4,
    "start_time": "2024-05-20T02:22:50.942Z"
   },
   {
    "duration": 9,
    "start_time": "2024-05-20T02:34:13.810Z"
   },
   {
    "duration": 11,
    "start_time": "2024-05-20T02:34:54.691Z"
   },
   {
    "duration": 515,
    "start_time": "2024-05-20T02:37:26.530Z"
   },
   {
    "duration": 588,
    "start_time": "2024-05-20T03:02:16.518Z"
   },
   {
    "duration": 28,
    "start_time": "2024-05-20T03:04:02.074Z"
   },
   {
    "duration": 783,
    "start_time": "2024-05-20T03:04:22.043Z"
   },
   {
    "duration": 80,
    "start_time": "2024-05-20T03:04:48.809Z"
   },
   {
    "duration": 1291,
    "start_time": "2024-05-20T03:04:55.069Z"
   },
   {
    "duration": 276,
    "start_time": "2024-05-20T03:04:56.363Z"
   },
   {
    "duration": 15,
    "start_time": "2024-05-20T03:04:56.642Z"
   },
   {
    "duration": 17,
    "start_time": "2024-05-20T03:04:56.661Z"
   },
   {
    "duration": 15,
    "start_time": "2024-05-20T03:04:56.681Z"
   },
   {
    "duration": 15,
    "start_time": "2024-05-20T03:04:56.730Z"
   },
   {
    "duration": 13,
    "start_time": "2024-05-20T03:04:56.749Z"
   },
   {
    "duration": 13,
    "start_time": "2024-05-20T03:04:56.766Z"
   },
   {
    "duration": 61,
    "start_time": "2024-05-20T03:04:56.782Z"
   },
   {
    "duration": 12,
    "start_time": "2024-05-20T03:04:56.848Z"
   },
   {
    "duration": 138,
    "start_time": "2024-05-20T03:04:56.863Z"
   },
   {
    "duration": 34,
    "start_time": "2024-05-20T03:04:57.004Z"
   },
   {
    "duration": 20,
    "start_time": "2024-05-20T03:04:57.042Z"
   },
   {
    "duration": 10,
    "start_time": "2024-05-20T03:04:57.067Z"
   },
   {
    "duration": 86,
    "start_time": "2024-05-20T03:04:57.080Z"
   },
   {
    "duration": 19,
    "start_time": "2024-05-20T03:04:57.169Z"
   },
   {
    "duration": 47,
    "start_time": "2024-05-20T03:04:57.190Z"
   },
   {
    "duration": 17,
    "start_time": "2024-05-20T03:04:57.244Z"
   },
   {
    "duration": 146,
    "start_time": "2024-05-20T03:04:57.263Z"
   },
   {
    "duration": 33,
    "start_time": "2024-05-20T03:04:57.413Z"
   },
   {
    "duration": 14,
    "start_time": "2024-05-20T03:04:57.449Z"
   },
   {
    "duration": 80,
    "start_time": "2024-05-20T03:04:57.466Z"
   },
   {
    "duration": 31,
    "start_time": "2024-05-20T03:04:57.550Z"
   },
   {
    "duration": 58,
    "start_time": "2024-05-20T03:04:57.584Z"
   },
   {
    "duration": 27,
    "start_time": "2024-05-20T03:04:57.644Z"
   },
   {
    "duration": 65,
    "start_time": "2024-05-20T03:04:57.674Z"
   },
   {
    "duration": 52,
    "start_time": "2024-05-20T03:04:57.742Z"
   },
   {
    "duration": 46,
    "start_time": "2024-05-20T03:04:57.801Z"
   },
   {
    "duration": 311,
    "start_time": "2024-05-20T03:04:57.850Z"
   },
   {
    "duration": 24,
    "start_time": "2024-05-20T03:04:58.165Z"
   },
   {
    "duration": 333,
    "start_time": "2024-05-20T03:04:58.192Z"
   },
   {
    "duration": 24,
    "start_time": "2024-05-20T03:04:58.531Z"
   },
   {
    "duration": 24,
    "start_time": "2024-05-20T03:04:58.558Z"
   },
   {
    "duration": 397,
    "start_time": "2024-05-20T03:04:58.585Z"
   },
   {
    "duration": 318,
    "start_time": "2024-05-20T03:04:58.986Z"
   },
   {
    "duration": 39,
    "start_time": "2024-05-20T03:04:59.307Z"
   },
   {
    "duration": 11,
    "start_time": "2024-05-20T03:04:59.349Z"
   },
   {
    "duration": 1071,
    "start_time": "2024-05-20T03:04:59.364Z"
   },
   {
    "duration": 12,
    "start_time": "2024-05-20T03:08:34.650Z"
   },
   {
    "duration": 302,
    "start_time": "2024-05-20T03:11:16.737Z"
   },
   {
    "duration": 13,
    "start_time": "2024-05-20T03:38:26.724Z"
   },
   {
    "duration": 1285,
    "start_time": "2024-05-20T03:39:55.732Z"
   },
   {
    "duration": 274,
    "start_time": "2024-05-20T03:39:57.020Z"
   },
   {
    "duration": 16,
    "start_time": "2024-05-20T03:39:57.296Z"
   },
   {
    "duration": 26,
    "start_time": "2024-05-20T03:39:57.317Z"
   },
   {
    "duration": 14,
    "start_time": "2024-05-20T03:39:57.347Z"
   },
   {
    "duration": 15,
    "start_time": "2024-05-20T03:39:57.364Z"
   },
   {
    "duration": 50,
    "start_time": "2024-05-20T03:39:57.382Z"
   },
   {
    "duration": 14,
    "start_time": "2024-05-20T03:39:57.435Z"
   },
   {
    "duration": 25,
    "start_time": "2024-05-20T03:39:57.452Z"
   },
   {
    "duration": 11,
    "start_time": "2024-05-20T03:39:57.482Z"
   },
   {
    "duration": 121,
    "start_time": "2024-05-20T03:39:57.533Z"
   },
   {
    "duration": 27,
    "start_time": "2024-05-20T03:39:57.659Z"
   },
   {
    "duration": 48,
    "start_time": "2024-05-20T03:39:57.690Z"
   },
   {
    "duration": 11,
    "start_time": "2024-05-20T03:39:57.741Z"
   },
   {
    "duration": 75,
    "start_time": "2024-05-20T03:39:57.755Z"
   },
   {
    "duration": 17,
    "start_time": "2024-05-20T03:39:57.833Z"
   },
   {
    "duration": 24,
    "start_time": "2024-05-20T03:39:57.853Z"
   },
   {
    "duration": 12,
    "start_time": "2024-05-20T03:39:57.880Z"
   },
   {
    "duration": 136,
    "start_time": "2024-05-20T03:39:57.930Z"
   },
   {
    "duration": 26,
    "start_time": "2024-05-20T03:39:58.069Z"
   },
   {
    "duration": 35,
    "start_time": "2024-05-20T03:39:58.098Z"
   },
   {
    "duration": 52,
    "start_time": "2024-05-20T03:39:58.137Z"
   },
   {
    "duration": 57,
    "start_time": "2024-05-20T03:39:58.192Z"
   },
   {
    "duration": 35,
    "start_time": "2024-05-20T03:39:58.252Z"
   },
   {
    "duration": 51,
    "start_time": "2024-05-20T03:39:58.289Z"
   },
   {
    "duration": 41,
    "start_time": "2024-05-20T03:39:58.344Z"
   },
   {
    "duration": 79,
    "start_time": "2024-05-20T03:39:58.388Z"
   },
   {
    "duration": 22,
    "start_time": "2024-05-20T03:39:58.475Z"
   },
   {
    "duration": 344,
    "start_time": "2024-05-20T03:39:58.500Z"
   },
   {
    "duration": 28,
    "start_time": "2024-05-20T03:39:58.851Z"
   },
   {
    "duration": 312,
    "start_time": "2024-05-20T03:39:58.881Z"
   },
   {
    "duration": 38,
    "start_time": "2024-05-20T03:39:59.197Z"
   },
   {
    "duration": 25,
    "start_time": "2024-05-20T03:39:59.237Z"
   },
   {
    "duration": 391,
    "start_time": "2024-05-20T03:39:59.265Z"
   },
   {
    "duration": 335,
    "start_time": "2024-05-20T03:39:59.658Z"
   },
   {
    "duration": 37,
    "start_time": "2024-05-20T03:39:59.996Z"
   },
   {
    "duration": 317,
    "start_time": "2024-05-20T03:40:00.036Z"
   },
   {
    "duration": 11,
    "start_time": "2024-05-20T03:40:00.357Z"
   },
   {
    "duration": 10,
    "start_time": "2024-05-20T03:40:00.371Z"
   },
   {
    "duration": 8,
    "start_time": "2024-05-20T03:57:39.576Z"
   }
  ],
  "colab": {
   "provenance": []
  },
  "kernelspec": {
   "display_name": "Python 3 (ipykernel)",
   "language": "python",
   "name": "python3"
  },
  "language_info": {
   "codemirror_mode": {
    "name": "ipython",
    "version": 3
   },
   "file_extension": ".py",
   "mimetype": "text/x-python",
   "name": "python",
   "nbconvert_exporter": "python",
   "pygments_lexer": "ipython3",
   "version": "3.9.19"
  },
  "toc": {
   "base_numbering": 1,
   "nav_menu": {
    "height": "276.989px",
    "width": "162.173px"
   },
   "number_sections": true,
   "sideBar": true,
   "skip_h1_title": false,
   "title_cell": "Table of Contents",
   "title_sidebar": "Contents",
   "toc_cell": false,
   "toc_position": {
    "height": "calc(100% - 180px)",
    "left": "10px",
    "top": "150px",
    "width": "197.358px"
   },
   "toc_section_display": true,
   "toc_window_display": true
  }
 },
 "nbformat": 4,
 "nbformat_minor": 1
}
